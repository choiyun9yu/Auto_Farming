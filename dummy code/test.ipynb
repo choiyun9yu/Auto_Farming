{
 "cells": [
  {
   "cell_type": "code",
   "execution_count": 1,
   "id": "5afa825c",
   "metadata": {},
   "outputs": [],
   "source": [
    "# 서버\n",
    "import sys\n",
    "import os\n",
    "from pathlib import Path\n",
    "with open(os.getcwd()+\"/test.txt\", \"w\") as f:\n",
    "    f.write('0 0 90 250 350')\n",
    "with open(os.getcwd()+\"/test.txt\", \"r\") as f:\n",
    "    txt = str(*f.readlines())\n",
    "conv, feed, ang, x, y = txt.split(' ')\n",
    "cnt=0\n",
    "\n",
    "# while True: 원래 while문인데 for문으로 대체해서 보여줌\n",
    "for _ in range(801): # for문 안에 range 바꾸면 몇번째인지 바뀌겠지 \n",
    "    if conv == 1:\n",
    "        print('컨베이어 작동')\n",
    "    elif feed ==1 :\n",
    "        print('피더 작동')\n",
    "    else:\n",
    "        cnt += 1\n",
    "        testlist = [cnt, [ang, x, y]] \n",
    "        if cnt == 800:\n",
    "            cnt = 0"
   ]
  },
  {
   "cell_type": "code",
   "execution_count": 136,
   "id": "d32d9e12",
   "metadata": {},
   "outputs": [
    {
     "name": "stdout",
     "output_type": "stream",
     "text": [
      "번호:1, 각도:90, X축:250, Y축:350\n"
     ]
    }
   ],
   "source": [
    "#클라이언트\n",
    "num=testlist[0]  # 몇번째인지 담김\n",
    "ang2=testlist[1][0]  # 각도 뽑기\n",
    "x2=testlist[1][1]\n",
    "y2=testlist[1][2]\n",
    "print(f'번호:{num}, 각도:{ang2}, X축:{x2}, Y축:{y2}')"
   ]
  },
  {
   "cell_type": "code",
   "execution_count": null,
   "id": "5f3d0f58",
   "metadata": {},
   "outputs": [],
   "source": []
  },
  {
   "cell_type": "code",
   "execution_count": 2,
   "id": "68cd06bb",
   "metadata": {},
   "outputs": [
    {
     "data": {
      "text/plain": [
       "'0 0 90 250 350'"
      ]
     },
     "execution_count": 2,
     "metadata": {},
     "output_type": "execute_result"
    }
   ],
   "source": [
    "txt"
   ]
  },
  {
   "cell_type": "code",
   "execution_count": null,
   "id": "6a9cdebc",
   "metadata": {},
   "outputs": [],
   "source": []
  }
 ],
 "metadata": {
  "kernelspec": {
   "display_name": "Python 3 (ipykernel)",
   "language": "python",
   "name": "python3"
  },
  "language_info": {
   "codemirror_mode": {
    "name": "ipython",
    "version": 3
   },
   "file_extension": ".py",
   "mimetype": "text/x-python",
   "name": "python",
   "nbconvert_exporter": "python",
   "pygments_lexer": "ipython3",
   "version": "3.9.12"
  },
  "toc": {
   "base_numbering": 1,
   "nav_menu": {},
   "number_sections": true,
   "sideBar": true,
   "skip_h1_title": false,
   "title_cell": "Table of Contents",
   "title_sidebar": "Contents",
   "toc_cell": false,
   "toc_position": {},
   "toc_section_display": true,
   "toc_window_display": false
  }
 },
 "nbformat": 4,
 "nbformat_minor": 5
}
