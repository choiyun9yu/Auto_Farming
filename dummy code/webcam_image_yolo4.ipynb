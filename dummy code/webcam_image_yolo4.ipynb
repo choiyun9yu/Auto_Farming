{
 "cells": [
  {
   "cell_type": "code",
   "execution_count": 43,
   "id": "47018013",
   "metadata": {},
   "outputs": [
    {
     "name": "stdout",
     "output_type": "stream",
     "text": [
      "C:\\Users\\AI\\Auto_Farming\\yolov5\n",
      "Requirement already satisfied: matplotlib>=3.2.2 in c:\\users\\ai\\anaconda3\\lib\\site-packages (from -r requirements.txt (line 5)) (3.5.1)\n",
      "Requirement already satisfied: numpy>=1.18.5 in c:\\users\\ai\\anaconda3\\lib\\site-packages (from -r requirements.txt (line 6)) (1.21.5)\n",
      "Requirement already satisfied: opencv-python>=4.1.1 in c:\\users\\ai\\anaconda3\\lib\\site-packages (from -r requirements.txt (line 7)) (4.6.0.66)\n",
      "Requirement already satisfied: Pillow>=7.1.2 in c:\\users\\ai\\anaconda3\\lib\\site-packages (from -r requirements.txt (line 8)) (9.0.1)\n",
      "Requirement already satisfied: PyYAML>=5.3.1 in c:\\users\\ai\\anaconda3\\lib\\site-packages (from -r requirements.txt (line 9)) (6.0)\n",
      "Requirement already satisfied: requests>=2.23.0 in c:\\users\\ai\\anaconda3\\lib\\site-packages (from -r requirements.txt (line 10)) (2.27.1)\n",
      "Requirement already satisfied: scipy>=1.4.1 in c:\\users\\ai\\anaconda3\\lib\\site-packages (from -r requirements.txt (line 11)) (1.7.3)\n",
      "Requirement already satisfied: torch>=1.7.0 in c:\\users\\ai\\anaconda3\\lib\\site-packages (from -r requirements.txt (line 12)) (1.12.1)\n",
      "Requirement already satisfied: torchvision>=0.8.1 in c:\\users\\ai\\anaconda3\\lib\\site-packages (from -r requirements.txt (line 13)) (0.13.1)\n",
      "Requirement already satisfied: tqdm>=4.64.0 in c:\\users\\ai\\anaconda3\\lib\\site-packages (from -r requirements.txt (line 14)) (4.64.0)\n",
      "Requirement already satisfied: tensorboard>=2.4.1 in c:\\users\\ai\\anaconda3\\lib\\site-packages (from -r requirements.txt (line 18)) (2.10.0)\n",
      "Requirement already satisfied: pandas>=1.1.4 in c:\\users\\ai\\anaconda3\\lib\\site-packages (from -r requirements.txt (line 23)) (1.4.2)\n",
      "Requirement already satisfied: seaborn>=0.11.0 in c:\\users\\ai\\anaconda3\\lib\\site-packages (from -r requirements.txt (line 24)) (0.11.2)\n",
      "Requirement already satisfied: ipython in c:\\users\\ai\\anaconda3\\lib\\site-packages (from -r requirements.txt (line 41)) (8.2.0)\n",
      "Requirement already satisfied: psutil in c:\\users\\ai\\anaconda3\\lib\\site-packages (from -r requirements.txt (line 42)) (5.8.0)\n",
      "Requirement already satisfied: thop>=0.1.1 in c:\\users\\ai\\anaconda3\\lib\\site-packages (from -r requirements.txt (line 43)) (0.1.1.post2209072238)\n",
      "Requirement already satisfied: kiwisolver>=1.0.1 in c:\\users\\ai\\anaconda3\\lib\\site-packages (from matplotlib>=3.2.2->-r requirements.txt (line 5)) (1.3.2)\n",
      "Requirement already satisfied: cycler>=0.10 in c:\\users\\ai\\anaconda3\\lib\\site-packages (from matplotlib>=3.2.2->-r requirements.txt (line 5)) (0.11.0)\n",
      "Requirement already satisfied: pyparsing>=2.2.1 in c:\\users\\ai\\anaconda3\\lib\\site-packages (from matplotlib>=3.2.2->-r requirements.txt (line 5)) (3.0.4)\n",
      "Requirement already satisfied: packaging>=20.0 in c:\\users\\ai\\anaconda3\\lib\\site-packages (from matplotlib>=3.2.2->-r requirements.txt (line 5)) (21.3)\n",
      "Requirement already satisfied: fonttools>=4.22.0 in c:\\users\\ai\\anaconda3\\lib\\site-packages (from matplotlib>=3.2.2->-r requirements.txt (line 5)) (4.25.0)\n",
      "Requirement already satisfied: python-dateutil>=2.7 in c:\\users\\ai\\anaconda3\\lib\\site-packages (from matplotlib>=3.2.2->-r requirements.txt (line 5)) (2.8.2)\n",
      "Requirement already satisfied: certifi>=2017.4.17 in c:\\users\\ai\\anaconda3\\lib\\site-packages (from requests>=2.23.0->-r requirements.txt (line 10)) (2022.9.24)\n",
      "Requirement already satisfied: urllib3<1.27,>=1.21.1 in c:\\users\\ai\\anaconda3\\lib\\site-packages (from requests>=2.23.0->-r requirements.txt (line 10)) (1.26.9)\n",
      "Requirement already satisfied: idna<4,>=2.5 in c:\\users\\ai\\anaconda3\\lib\\site-packages (from requests>=2.23.0->-r requirements.txt (line 10)) (3.3)\n",
      "Requirement already satisfied: charset-normalizer~=2.0.0 in c:\\users\\ai\\anaconda3\\lib\\site-packages (from requests>=2.23.0->-r requirements.txt (line 10)) (2.0.4)\n",
      "Requirement already satisfied: typing_extensions in c:\\users\\ai\\anaconda3\\lib\\site-packages (from torch>=1.7.0->-r requirements.txt (line 12)) (4.1.1)\n",
      "Requirement already satisfied: colorama in c:\\users\\ai\\anaconda3\\lib\\site-packages (from tqdm>=4.64.0->-r requirements.txt (line 14)) (0.4.4)\n",
      "Requirement already satisfied: grpcio>=1.24.3 in c:\\users\\ai\\anaconda3\\lib\\site-packages (from tensorboard>=2.4.1->-r requirements.txt (line 18)) (1.42.0)\n",
      "Requirement already satisfied: protobuf<3.20,>=3.9.2 in c:\\users\\ai\\anaconda3\\lib\\site-packages (from tensorboard>=2.4.1->-r requirements.txt (line 18)) (3.19.1)\n",
      "Requirement already satisfied: tensorboard-data-server<0.7.0,>=0.6.0 in c:\\users\\ai\\anaconda3\\lib\\site-packages (from tensorboard>=2.4.1->-r requirements.txt (line 18)) (0.6.1)\n",
      "Requirement already satisfied: tensorboard-plugin-wit>=1.6.0 in c:\\users\\ai\\anaconda3\\lib\\site-packages (from tensorboard>=2.4.1->-r requirements.txt (line 18)) (1.8.1)\n",
      "Requirement already satisfied: werkzeug>=1.0.1 in c:\\users\\ai\\anaconda3\\lib\\site-packages (from tensorboard>=2.4.1->-r requirements.txt (line 18)) (2.0.3)\n",
      "Requirement already satisfied: google-auth-oauthlib<0.5,>=0.4.1 in c:\\users\\ai\\anaconda3\\lib\\site-packages (from tensorboard>=2.4.1->-r requirements.txt (line 18)) (0.4.6)\n",
      "Requirement already satisfied: wheel>=0.26 in c:\\users\\ai\\anaconda3\\lib\\site-packages (from tensorboard>=2.4.1->-r requirements.txt (line 18)) (0.37.1)\n",
      "Requirement already satisfied: google-auth<3,>=1.6.3 in c:\\users\\ai\\anaconda3\\lib\\site-packages (from tensorboard>=2.4.1->-r requirements.txt (line 18)) (1.33.0)\n",
      "Requirement already satisfied: setuptools>=41.0.0 in c:\\users\\ai\\anaconda3\\lib\\site-packages (from tensorboard>=2.4.1->-r requirements.txt (line 18)) (61.2.0)\n",
      "Requirement already satisfied: markdown>=2.6.8 in c:\\users\\ai\\anaconda3\\lib\\site-packages (from tensorboard>=2.4.1->-r requirements.txt (line 18)) (3.3.4)\n",
      "Requirement already satisfied: absl-py>=0.4 in c:\\users\\ai\\anaconda3\\lib\\site-packages (from tensorboard>=2.4.1->-r requirements.txt (line 18)) (1.2.0)\n",
      "Requirement already satisfied: pytz>=2020.1 in c:\\users\\ai\\anaconda3\\lib\\site-packages (from pandas>=1.1.4->-r requirements.txt (line 23)) (2021.3)\n",
      "Requirement already satisfied: traitlets>=5 in c:\\users\\ai\\anaconda3\\lib\\site-packages (from ipython->-r requirements.txt (line 41)) (5.1.1)\n",
      "Requirement already satisfied: pygments>=2.4.0 in c:\\users\\ai\\anaconda3\\lib\\site-packages (from ipython->-r requirements.txt (line 41)) (2.11.2)\n",
      "Requirement already satisfied: pickleshare in c:\\users\\ai\\anaconda3\\lib\\site-packages (from ipython->-r requirements.txt (line 41)) (0.7.5)\n",
      "Requirement already satisfied: matplotlib-inline in c:\\users\\ai\\anaconda3\\lib\\site-packages (from ipython->-r requirements.txt (line 41)) (0.1.2)\n",
      "Requirement already satisfied: stack-data in c:\\users\\ai\\anaconda3\\lib\\site-packages (from ipython->-r requirements.txt (line 41)) (0.2.0)\n",
      "Requirement already satisfied: jedi>=0.16 in c:\\users\\ai\\anaconda3\\lib\\site-packages (from ipython->-r requirements.txt (line 41)) (0.18.1)\n",
      "Requirement already satisfied: prompt-toolkit!=3.0.0,!=3.0.1,<3.1.0,>=2.0.0 in c:\\users\\ai\\anaconda3\\lib\\site-packages (from ipython->-r requirements.txt (line 41)) (3.0.20)\n",
      "Requirement already satisfied: decorator in c:\\users\\ai\\anaconda3\\lib\\site-packages (from ipython->-r requirements.txt (line 41)) (5.1.1)\n",
      "Requirement already satisfied: backcall in c:\\users\\ai\\anaconda3\\lib\\site-packages (from ipython->-r requirements.txt (line 41)) (0.2.0)\n",
      "Requirement already satisfied: cachetools<5.0,>=2.0.0 in c:\\users\\ai\\anaconda3\\lib\\site-packages (from google-auth<3,>=1.6.3->tensorboard>=2.4.1->-r requirements.txt (line 18)) (4.2.2)\n",
      "Requirement already satisfied: six>=1.9.0 in c:\\users\\ai\\anaconda3\\lib\\site-packages (from google-auth<3,>=1.6.3->tensorboard>=2.4.1->-r requirements.txt (line 18)) (1.16.0)\n",
      "Requirement already satisfied: rsa<5,>=3.1.4 in c:\\users\\ai\\anaconda3\\lib\\site-packages (from google-auth<3,>=1.6.3->tensorboard>=2.4.1->-r requirements.txt (line 18)) (4.7.2)\n",
      "Requirement already satisfied: pyasn1-modules>=0.2.1 in c:\\users\\ai\\anaconda3\\lib\\site-packages (from google-auth<3,>=1.6.3->tensorboard>=2.4.1->-r requirements.txt (line 18)) (0.2.8)\n",
      "Requirement already satisfied: requests-oauthlib>=0.7.0 in c:\\users\\ai\\anaconda3\\lib\\site-packages (from google-auth-oauthlib<0.5,>=0.4.1->tensorboard>=2.4.1->-r requirements.txt (line 18)) (1.3.1)\n",
      "Requirement already satisfied: parso<0.9.0,>=0.8.0 in c:\\users\\ai\\anaconda3\\lib\\site-packages (from jedi>=0.16->ipython->-r requirements.txt (line 41)) (0.8.3)\n",
      "Requirement already satisfied: wcwidth in c:\\users\\ai\\anaconda3\\lib\\site-packages (from prompt-toolkit!=3.0.0,!=3.0.1,<3.1.0,>=2.0.0->ipython->-r requirements.txt (line 41)) (0.2.5)\n",
      "Requirement already satisfied: asttokens in c:\\users\\ai\\anaconda3\\lib\\site-packages (from stack-data->ipython->-r requirements.txt (line 41)) (2.0.5)\n",
      "Requirement already satisfied: pure-eval in c:\\users\\ai\\anaconda3\\lib\\site-packages (from stack-data->ipython->-r requirements.txt (line 41)) (0.2.2)\n",
      "Requirement already satisfied: executing in c:\\users\\ai\\anaconda3\\lib\\site-packages (from stack-data->ipython->-r requirements.txt (line 41)) (0.8.3)\n",
      "Requirement already satisfied: pyasn1<0.5.0,>=0.4.6 in c:\\users\\ai\\anaconda3\\lib\\site-packages (from pyasn1-modules>=0.2.1->google-auth<3,>=1.6.3->tensorboard>=2.4.1->-r requirements.txt (line 18)) (0.4.8)\n",
      "Requirement already satisfied: oauthlib>=3.0.0 in c:\\users\\ai\\anaconda3\\lib\\site-packages (from requests-oauthlib>=0.7.0->google-auth-oauthlib<0.5,>=0.4.1->tensorboard>=2.4.1->-r requirements.txt (line 18)) (3.2.0)\n"
     ]
    },
    {
     "name": "stderr",
     "output_type": "stream",
     "text": [
      "WARNING: Ignore distutils configs in setup.cfg due to encoding errors.\n",
      "WARNING: Ignore distutils configs in setup.cfg due to encoding errors.\n"
     ]
    }
   ],
   "source": [
    "%pwd # print woriking directory\n",
    "%cd yolov5/\n",
    "!pip install -r requirements.txt"
   ]
  },
  {
   "cell_type": "markdown",
   "id": "2176d07d",
   "metadata": {},
   "source": [
    "- <font color=red>cv2.imwrite(“파일명.확장자”, 프레임이미지, 옵션)</font>\n",
    "  - params=[cv2.IMWRITE_PNG_COMPRESSION, 0]) : 압축 하지 않는 PNG, 세 번째 파라미터는 압축률로 0~9까지 설정 가능 (0은 압축 없음)"
   ]
  },
  {
   "cell_type": "code",
   "execution_count": 51,
   "id": "865d45a7",
   "metadata": {
    "collapsed": true
   },
   "outputs": [
    {
     "name": "stdout",
     "output_type": "stream",
     "text": [
      "\n",
      "\u001b[34m\u001b[1mdetect3: \u001b[0mweights=['C:/Users/AI/Auto_Farming/yolov5/runs/train/insam_yolov5s_results/weights/best.pt'], source=C:/Users\\AI/Auto_Farming/image/capture.png, data=data\\coco128.yaml, imgsz=[1088, 1088], conf_thres=0.25, iou_thres=0.45, max_det=1000, device=, view_img=False, save_txt=True, save_conf=False, save_crop=False, nosave=False, classes=None, agnostic_nms=False, augment=False, visualize=False, update=False, project=runs\\detect, name=exp, exist_ok=True, line_thickness=3, hide_labels=True, hide_conf=True, half=False, dnn=False, vid_stride=1\n",
      "YOLOv5  v6.2-219-ga83d2a5 Python-3.9.12 torch-1.12.1 CPU\n",
      "\n",
      "Fusing layers... \n",
      "YOLOv5s summary: 157 layers, 7015519 parameters, 0 gradients, 15.8 GFLOPs\n",
      "image 1/1 C:\\Users\\AI\\Auto_Farming\\image\\capture.png: 1088x1088 6 Ginsengs, 7 heads, 593.4ms\n",
      "Speed: 4.0ms pre-process, 593.4ms inference, 11.0ms NMS per image at shape (1, 3, 1088, 1088)\n",
      "Results saved to \u001b[1mruns\\detect\\exp\u001b[0m\n",
      "225 labels saved to runs\\detect\\exp\\labels\n",
      "\u001b[34m\u001b[1mdetect3: \u001b[0mweights=['C:/Users/AI/Auto_Farming/yolov5/runs/train/insam_yolov5s_results/weights/best.pt'], source=C:/Users\\AI/Auto_Farming/image/capture.png, data=data\\coco128.yaml, imgsz=[1088, 1088], conf_thres=0.25, iou_thres=0.45, max_det=1000, device=, view_img=False, save_txt=True, save_conf=False, save_crop=False, nosave=False, classes=None, agnostic_nms=False, augment=False, visualize=False, update=False, project=runs\\detect, name=exp, exist_ok=True, line_thickness=3, hide_labels=True, hide_conf=True, half=False, dnn=False, vid_stride=1\n",
      "YOLOv5  v6.2-219-ga83d2a5 Python-3.9.12 torch-1.12.1 CPU\n",
      "\n",
      "Fusing layers... \n",
      "YOLOv5s summary: 157 layers, 7015519 parameters, 0 gradients, 15.8 GFLOPs\n",
      "image 1/1 C:\\Users\\AI\\Auto_Farming\\image\\capture.png: 1088x1088 9 Ginsengs, 11 heads, 623.6ms\n",
      "Speed: 4.0ms pre-process, 623.6ms inference, 2.0ms NMS per image at shape (1, 3, 1088, 1088)\n",
      "Results saved to \u001b[1mruns\\detect\\exp\u001b[0m\n",
      "225 labels saved to runs\\detect\\exp\\labels\n",
      "\u001b[34m\u001b[1mdetect3: \u001b[0mweights=['C:/Users/AI/Auto_Farming/yolov5/runs/train/insam_yolov5s_results/weights/best.pt'], source=C:/Users\\AI/Auto_Farming/image/capture.png, data=data\\coco128.yaml, imgsz=[1088, 1088], conf_thres=0.25, iou_thres=0.45, max_det=1000, device=, view_img=False, save_txt=True, save_conf=False, save_crop=False, nosave=False, classes=None, agnostic_nms=False, augment=False, visualize=False, update=False, project=runs\\detect, name=exp, exist_ok=True, line_thickness=3, hide_labels=True, hide_conf=True, half=False, dnn=False, vid_stride=1\n",
      "YOLOv5  v6.2-219-ga83d2a5 Python-3.9.12 torch-1.12.1 CPU\n",
      "\n",
      "Fusing layers... \n",
      "YOLOv5s summary: 157 layers, 7015519 parameters, 0 gradients, 15.8 GFLOPs\n",
      "image 1/1 C:\\Users\\AI\\Auto_Farming\\image\\capture.png: 1088x1088 9 Ginsengs, 11 heads, 577.2ms\n",
      "Speed: 3.0ms pre-process, 577.2ms inference, 1.0ms NMS per image at shape (1, 3, 1088, 1088)\n",
      "Results saved to \u001b[1mruns\\detect\\exp\u001b[0m\n",
      "225 labels saved to runs\\detect\\exp\\labels\n",
      "\u001b[34m\u001b[1mdetect3: \u001b[0mweights=['C:/Users/AI/Auto_Farming/yolov5/runs/train/insam_yolov5s_results/weights/best.pt'], source=C:/Users\\AI/Auto_Farming/image/capture.png, data=data\\coco128.yaml, imgsz=[1088, 1088], conf_thres=0.25, iou_thres=0.45, max_det=1000, device=, view_img=False, save_txt=True, save_conf=False, save_crop=False, nosave=False, classes=None, agnostic_nms=False, augment=False, visualize=False, update=False, project=runs\\detect, name=exp, exist_ok=True, line_thickness=3, hide_labels=True, hide_conf=True, half=False, dnn=False, vid_stride=1\n",
      "YOLOv5  v6.2-219-ga83d2a5 Python-3.9.12 torch-1.12.1 CPU\n",
      "\n",
      "Fusing layers... \n",
      "YOLOv5s summary: 157 layers, 7015519 parameters, 0 gradients, 15.8 GFLOPs\n",
      "image 1/1 C:\\Users\\AI\\Auto_Farming\\image\\capture.png: 1088x1088 9 Ginsengs, 11 heads, 566.5ms\n",
      "Speed: 4.0ms pre-process, 566.5ms inference, 1.0ms NMS per image at shape (1, 3, 1088, 1088)\n",
      "Results saved to \u001b[1mruns\\detect\\exp\u001b[0m\n",
      "225 labels saved to runs\\detect\\exp\\labels\n",
      "\u001b[34m\u001b[1mdetect3: \u001b[0mweights=['C:/Users/AI/Auto_Farming/yolov5/runs/train/insam_yolov5s_results/weights/best.pt'], source=C:/Users\\AI/Auto_Farming/image/capture.png, data=data\\coco128.yaml, imgsz=[1088, 1088], conf_thres=0.25, iou_thres=0.45, max_det=1000, device=, view_img=False, save_txt=True, save_conf=False, save_crop=False, nosave=False, classes=None, agnostic_nms=False, augment=False, visualize=False, update=False, project=runs\\detect, name=exp, exist_ok=True, line_thickness=3, hide_labels=True, hide_conf=True, half=False, dnn=False, vid_stride=1\n",
      "YOLOv5  v6.2-219-ga83d2a5 Python-3.9.12 torch-1.12.1 CPU\n",
      "\n",
      "Fusing layers... \n",
      "YOLOv5s summary: 157 layers, 7015519 parameters, 0 gradients, 15.8 GFLOPs\n",
      "image 1/1 C:\\Users\\AI\\Auto_Farming\\image\\capture.png: 1088x1088 9 Ginsengs, 10 heads, 594.4ms\n",
      "Speed: 3.0ms pre-process, 594.4ms inference, 1.0ms NMS per image at shape (1, 3, 1088, 1088)\n",
      "Results saved to \u001b[1mruns\\detect\\exp\u001b[0m\n",
      "225 labels saved to runs\\detect\\exp\\labels\n",
      "\u001b[34m\u001b[1mdetect3: \u001b[0mweights=['C:/Users/AI/Auto_Farming/yolov5/runs/train/insam_yolov5s_results/weights/best.pt'], source=C:/Users\\AI/Auto_Farming/image/capture.png, data=data\\coco128.yaml, imgsz=[1088, 1088], conf_thres=0.25, iou_thres=0.45, max_det=1000, device=, view_img=False, save_txt=True, save_conf=False, save_crop=False, nosave=False, classes=None, agnostic_nms=False, augment=False, visualize=False, update=False, project=runs\\detect, name=exp, exist_ok=True, line_thickness=3, hide_labels=True, hide_conf=True, half=False, dnn=False, vid_stride=1\n",
      "YOLOv5  v6.2-219-ga83d2a5 Python-3.9.12 torch-1.12.1 CPU\n",
      "\n",
      "Fusing layers... \n",
      "YOLOv5s summary: 157 layers, 7015519 parameters, 0 gradients, 15.8 GFLOPs\n",
      "image 1/1 C:\\Users\\AI\\Auto_Farming\\image\\capture.png: 1088x1088 8 Ginsengs, 7 heads, 595.1ms\n",
      "Speed: 4.0ms pre-process, 595.1ms inference, 1.0ms NMS per image at shape (1, 3, 1088, 1088)\n",
      "Results saved to \u001b[1mruns\\detect\\exp\u001b[0m\n",
      "225 labels saved to runs\\detect\\exp\\labels\n",
      "\u001b[34m\u001b[1mdetect3: \u001b[0mweights=['C:/Users/AI/Auto_Farming/yolov5/runs/train/insam_yolov5s_results/weights/best.pt'], source=C:/Users\\AI/Auto_Farming/image/capture.png, data=data\\coco128.yaml, imgsz=[1088, 1088], conf_thres=0.25, iou_thres=0.45, max_det=1000, device=, view_img=False, save_txt=True, save_conf=False, save_crop=False, nosave=False, classes=None, agnostic_nms=False, augment=False, visualize=False, update=False, project=runs\\detect, name=exp, exist_ok=True, line_thickness=3, hide_labels=True, hide_conf=True, half=False, dnn=False, vid_stride=1\n",
      "YOLOv5  v6.2-219-ga83d2a5 Python-3.9.12 torch-1.12.1 CPU\n",
      "\n",
      "Fusing layers... \n",
      "YOLOv5s summary: 157 layers, 7015519 parameters, 0 gradients, 15.8 GFLOPs\n",
      "image 1/1 C:\\Users\\AI\\Auto_Farming\\image\\capture.png: 1088x1088 11 Ginsengs, 11 heads, 593.4ms\n",
      "Speed: 4.0ms pre-process, 593.4ms inference, 1.0ms NMS per image at shape (1, 3, 1088, 1088)\n",
      "Results saved to \u001b[1mruns\\detect\\exp\u001b[0m\n",
      "225 labels saved to runs\\detect\\exp\\labels\n",
      "\u001b[34m\u001b[1mdetect3: \u001b[0mweights=['C:/Users/AI/Auto_Farming/yolov5/runs/train/insam_yolov5s_results/weights/best.pt'], source=C:/Users\\AI/Auto_Farming/image/capture.png, data=data\\coco128.yaml, imgsz=[1088, 1088], conf_thres=0.25, iou_thres=0.45, max_det=1000, device=, view_img=False, save_txt=True, save_conf=False, save_crop=False, nosave=False, classes=None, agnostic_nms=False, augment=False, visualize=False, update=False, project=runs\\detect, name=exp, exist_ok=True, line_thickness=3, hide_labels=True, hide_conf=True, half=False, dnn=False, vid_stride=1\n",
      "YOLOv5  v6.2-219-ga83d2a5 Python-3.9.12 torch-1.12.1 CPU\n",
      "\n",
      "Fusing layers... \n",
      "YOLOv5s summary: 157 layers, 7015519 parameters, 0 gradients, 15.8 GFLOPs\n",
      "image 1/1 C:\\Users\\AI\\Auto_Farming\\image\\capture.png: 1088x1088 11 Ginsengs, 11 heads, 589.9ms\n",
      "Speed: 4.1ms pre-process, 589.9ms inference, 1.0ms NMS per image at shape (1, 3, 1088, 1088)\n",
      "Results saved to \u001b[1mruns\\detect\\exp\u001b[0m\n",
      "225 labels saved to runs\\detect\\exp\\labels\n",
      "\u001b[34m\u001b[1mdetect3: \u001b[0mweights=['C:/Users/AI/Auto_Farming/yolov5/runs/train/insam_yolov5s_results/weights/best.pt'], source=C:/Users\\AI/Auto_Farming/image/capture.png, data=data\\coco128.yaml, imgsz=[1088, 1088], conf_thres=0.25, iou_thres=0.45, max_det=1000, device=, view_img=False, save_txt=True, save_conf=False, save_crop=False, nosave=False, classes=None, agnostic_nms=False, augment=False, visualize=False, update=False, project=runs\\detect, name=exp, exist_ok=True, line_thickness=3, hide_labels=True, hide_conf=True, half=False, dnn=False, vid_stride=1\n",
      "YOLOv5  v6.2-219-ga83d2a5 Python-3.9.12 torch-1.12.1 CPU\n",
      "\n",
      "Fusing layers... \n",
      "YOLOv5s summary: 157 layers, 7015519 parameters, 0 gradients, 15.8 GFLOPs\n",
      "image 1/1 C:\\Users\\AI\\Auto_Farming\\image\\capture.png: 1088x1088 11 Ginsengs, 12 heads, 618.9ms\n",
      "Speed: 4.0ms pre-process, 618.9ms inference, 2.0ms NMS per image at shape (1, 3, 1088, 1088)\n",
      "Results saved to \u001b[1mruns\\detect\\exp\u001b[0m\n",
      "225 labels saved to runs\\detect\\exp\\labels\n"
     ]
    },
    {
     "name": "stdout",
     "output_type": "stream",
     "text": [
      "\u001b[34m\u001b[1mdetect3: \u001b[0mweights=['C:/Users/AI/Auto_Farming/yolov5/runs/train/insam_yolov5s_results/weights/best.pt'], source=C:/Users\\AI/Auto_Farming/image/capture.png, data=data\\coco128.yaml, imgsz=[1088, 1088], conf_thres=0.25, iou_thres=0.45, max_det=1000, device=, view_img=False, save_txt=True, save_conf=False, save_crop=False, nosave=False, classes=None, agnostic_nms=False, augment=False, visualize=False, update=False, project=runs\\detect, name=exp, exist_ok=True, line_thickness=3, hide_labels=True, hide_conf=True, half=False, dnn=False, vid_stride=1\n",
      "YOLOv5  v6.2-219-ga83d2a5 Python-3.9.12 torch-1.12.1 CPU\n",
      "\n",
      "Fusing layers... \n",
      "YOLOv5s summary: 157 layers, 7015519 parameters, 0 gradients, 15.8 GFLOPs\n",
      "image 1/1 C:\\Users\\AI\\Auto_Farming\\image\\capture.png: 1088x1088 10 Ginsengs, 10 heads, 595.4ms\n",
      "Speed: 4.0ms pre-process, 595.4ms inference, 1.0ms NMS per image at shape (1, 3, 1088, 1088)\n",
      "Results saved to \u001b[1mruns\\detect\\exp\u001b[0m\n",
      "225 labels saved to runs\\detect\\exp\\labels\n",
      "\u001b[34m\u001b[1mdetect3: \u001b[0mweights=['C:/Users/AI/Auto_Farming/yolov5/runs/train/insam_yolov5s_results/weights/best.pt'], source=C:/Users\\AI/Auto_Farming/image/capture.png, data=data\\coco128.yaml, imgsz=[1088, 1088], conf_thres=0.25, iou_thres=0.45, max_det=1000, device=, view_img=False, save_txt=True, save_conf=False, save_crop=False, nosave=False, classes=None, agnostic_nms=False, augment=False, visualize=False, update=False, project=runs\\detect, name=exp, exist_ok=True, line_thickness=3, hide_labels=True, hide_conf=True, half=False, dnn=False, vid_stride=1\n",
      "YOLOv5  v6.2-219-ga83d2a5 Python-3.9.12 torch-1.12.1 CPU\n",
      "\n",
      "Fusing layers... \n",
      "YOLOv5s summary: 157 layers, 7015519 parameters, 0 gradients, 15.8 GFLOPs\n",
      "image 1/1 C:\\Users\\AI\\Auto_Farming\\image\\capture.png: 1088x1088 10 Ginsengs, 11 heads, 615.5ms\n",
      "Speed: 4.0ms pre-process, 615.5ms inference, 2.0ms NMS per image at shape (1, 3, 1088, 1088)\n",
      "Results saved to \u001b[1mruns\\detect\\exp\u001b[0m\n",
      "225 labels saved to runs\\detect\\exp\\labels\n",
      "\u001b[34m\u001b[1mdetect3: \u001b[0mweights=['C:/Users/AI/Auto_Farming/yolov5/runs/train/insam_yolov5s_results/weights/best.pt'], source=C:/Users\\AI/Auto_Farming/image/capture.png, data=data\\coco128.yaml, imgsz=[1088, 1088], conf_thres=0.25, iou_thres=0.45, max_det=1000, device=, view_img=False, save_txt=True, save_conf=False, save_crop=False, nosave=False, classes=None, agnostic_nms=False, augment=False, visualize=False, update=False, project=runs\\detect, name=exp, exist_ok=True, line_thickness=3, hide_labels=True, hide_conf=True, half=False, dnn=False, vid_stride=1\n",
      "YOLOv5  v6.2-219-ga83d2a5 Python-3.9.12 torch-1.12.1 CPU\n",
      "\n",
      "Fusing layers... \n",
      "YOLOv5s summary: 157 layers, 7015519 parameters, 0 gradients, 15.8 GFLOPs\n",
      "image 1/1 C:\\Users\\AI\\Auto_Farming\\image\\capture.png: 1088x1088 10 Ginsengs, 12 heads, 578.2ms\n",
      "Speed: 4.0ms pre-process, 578.2ms inference, 1.0ms NMS per image at shape (1, 3, 1088, 1088)\n",
      "Results saved to \u001b[1mruns\\detect\\exp\u001b[0m\n",
      "225 labels saved to runs\\detect\\exp\\labels\n"
     ]
    }
   ],
   "source": [
    "import os\n",
    "import glob\n",
    "import cv2\n",
    "import math\n",
    "import numpy as np\n",
    "import matplotlib.pyplot as plt\n",
    "\n",
    "exp_path = \"C:/Users/AI/Auto_Farming/yolov5/runs/detect/exp/\"\n",
    "path = 'C:/Users/AI/Auto_Farming/yolov5/'\n",
    "weight = 'C:/Users/AI/Auto_Farming/yolov5/runs/train/insam_yolov5s_results/weights/best.pt'\n",
    "source = 'C:/Users\\AI/Auto_Farming/image/capture.png' \n",
    "save_img = 'C:/Users\\AI/Auto_Farming/image/capture.png'\n",
    "coordinate_path = \"C:/Users/AI/Auto_Farming/yolov5/runs/detect/exp/labels/\"\n",
    "\n",
    "cap = cv2.VideoCapture(1)\n",
    "while True :\n",
    "    try:\n",
    "        os.unlink(exp_path+\"labels/capture.txt\")\n",
    "    except:\n",
    "        print(\"\")\n",
    "    ret, frame = cap.read()\n",
    "    break if not ret \n",
    "    resize_frame = resize_frame[:,:480]\n",
    "    key = cv2.waitKey(99)\n",
    "    cv2.imshow(\"test\", resize_frame)\n",
    "    cv2.imwrite(save_img, resize_frame,\n",
    "               params=[cv2.IMWRITE_PNG_COMPRESSION, 0])\n",
    "    !python {path}detect3.py --weight {weight} --img 640 --source {source} --save-txt --exist-ok --hide-conf --hide-labels\n",
    "    break if cv2.waitKey(1) & 0xFF == ord('q')\n",
    "cap.release()\n",
    "cv2.destroyAllWindows()"
   ]
  },
  {
   "cell_type": "code",
   "execution_count": 1,
   "id": "ebf87e95",
   "metadata": {
    "scrolled": true
   },
   "outputs": [
    {
     "name": "stdout",
     "output_type": "stream",
     "text": [
      "뭉쳐 있음\n",
      "\n"
     ]
    }
   ],
   "source": [
    "import numpy as np\n",
    "import math\n",
    "\n",
    "#좌표 save_txt read\n",
    "coordinate_path = \"C:/Users/AI/Auto_Farming/yolov5/runs/detect/exp/labels/\"\n",
    "with open(coordinate_path+\"capture.txt\", \"r\") as f:\n",
    "    txt = f.readlines()  # 해당 파일 줄별 리스트 형태로 반환\n",
    "\n",
    "# ginseng, head 좌표 따로 모으는 반복문\n",
    "gc, hc, ga, min_gl = [], [], [], 640\n",
    "[gc.append(i) if i[0] == '0' else hc.append(i) for i in txt]\n",
    "\n",
    "# 인삼, 뇌두 디텍션 개수\n",
    "gn, hn = len(gc), len(hc)\n",
    "\n",
    "# 인삼좌표와 뇌두 좌표 매칭 (1:1 매칭이 되지 않았을 때 조건 만들어야함)\n",
    "for i in range(gn):\n",
    "    g = gc[i][2:-1].split(' ')\n",
    "    gltx, glty, grbx, grby = int(g[0]), int(g[1]), int(g[2]), int(g[3])\n",
    "    lt, rt, lb, rb = [gltx, glty], [grbx, glty], [gltx, grby], [grbx, grby]\n",
    "    globals()[\"g{}\".format(i)] = [lt, rt, lb, rb]\n",
    "\n",
    "    for j in range(hn):\n",
    "        h = hc[j][2:-1].split(' ')\n",
    "        hltx, hlty, hrbx, hrby = int(h[0]), int(h[1]), int(h[2]), int(h[3])\n",
    "        globals()[\"h{}\".format(j)] = [int((hltx+hrbx)/2), int((hlty+hrby)/2)]\n",
    "        if (globals()[f\"g{i}\"][3][0] > globals()[f\"h{j}\"][0] > globals()[f\"g{i}\"][0][0])\\\n",
    "        and (globals()[f\"g{i}\"][3][1] > globals()[f\"h{j}\"][1] > globals()[f\"g{i}\"][0][1]):\n",
    "            np.array(globals()[\"g{}\".format(i)].append(globals()[\"h{}\".format(j)]))\n",
    "\n",
    "    ga.append(globals()[\"g{}\".format(i)])\n",
    "\n",
    "for v in ga:\n",
    "    if min_gl > v[0][0]:\n",
    "            min_gl = v[0][0] \n",
    "\n",
    "min_gl = g1[0][0] # 가장 가까운게 뇌두가 없어서 임시로 값 지정해둔거        \n",
    "        \n",
    "for i,value in enumerate(ga):\n",
    "    if min_gl == value[0][0]:\n",
    "        if len(value) == 5:\n",
    "            globals()[\"g{}\".format(i)] = np.array(globals()[\"g{}\".format(i)])\n",
    "            alt = abs(globals()[\"g{}\".format(i)][0]-globals()[\"g{}\".format(i)][-1])\n",
    "            art = abs(globals()[\"g{}\".format(i)][1]-globals()[\"g{}\".format(i)][-1])\n",
    "            alb = abs(globals()[\"g{}\".format(i)][2]-globals()[\"g{}\".format(i)][-1])\n",
    "            arb = abs(globals()[\"g{}\".format(i)][3]-globals()[\"g{}\".format(i)][-1])\n",
    "            altu, artu = int(math.sqrt((alt[0]**2)+(alt[1]**2))), int(math.sqrt((art[0]**2)+(art[1]**2)))\n",
    "            albu, arbu = int(math.sqrt((alb[0]**2)+(alb[1]**2))), int(math.sqrt((arb[0]**2)+(arb[1]**2)))\n",
    "            bgc = {'LT':altu, 'RT':artu, 'LB':albu, 'RB':arbu}\n",
    "            # 딕셔너리 value 값 기준 정렬\n",
    "            bgc_sorted=sorted(bgc.items(), key=lambda x:x[1])\n",
    "            # 각도 도출\n",
    "            if bgc_sorted[1][1] - bgc_sorted[0][1] < 13:\n",
    "                if bgc_sorted[0][0] == 'RT' and bgc_sorted[1][0] == 'RB':\n",
    "                    print(\"0도\")\n",
    "                elif bgc_sorted[1][0] == 'RT' and bgc_sorted[0][0] == 'RB':\n",
    "                    print(\"0도\")\n",
    "                elif bgc_sorted[0][0] == 'LT'and bgc_sorted[1][0] == 'RT': \n",
    "                    print(\"90도\")\n",
    "                elif bgc_sorted[1][0] == 'LT'and bgc_sorted[0][0] == 'RT':\n",
    "                    print(\"90도\")\n",
    "                elif bgc_sorted[0][0] == 'LT' and bgc_sorted[1][0] == 'LB':\n",
    "                    print(\"180도\")\n",
    "                elif bgc_sorted[1][0] == 'LT' and bgc_sorted[0][0] == 'LB':\n",
    "                    print(\"180도\")\n",
    "                elif bgc_sorted[0][0] == 'LB' and bgc_sorted[1][0] == 'RB': \n",
    "                    print(\"270도\")\n",
    "                elif bgc_sorted[1][0] == 'LB' and bgc_sorted[0][0] == 'RB':\n",
    "                    print(\"270도\")\n",
    "            else:\n",
    "                if bgc_sorted[0][0] == 'RT':\n",
    "                    print(\"45도\")\n",
    "                elif bgc_sorted[0][0] == 'LT':\n",
    "                    print(\"135도\")\n",
    "                elif bgc_sorted[0][0] == 'LB': \n",
    "                    print(\"225도\")\n",
    "                elif bgc_sorted[0][0] == 'RB':\n",
    "                    print(\"315도\")\n",
    "            print(f'뇌두 좌표 : {globals()[\"g{}\".format(i)][-1]}')\n",
    "        elif len(value) == 4:\n",
    "            print(\"뇌두 없음\")\n",
    "        else:\n",
    "            print(\"뭉쳐 있음\")\n",
    "        \n",
    "    else:\n",
    "        pass\n",
    "\n",
    "print()"
   ]
  },
  {
   "cell_type": "code",
   "execution_count": 635,
   "id": "558297b8",
   "metadata": {},
   "outputs": [
    {
     "data": {
      "text/plain": [
       "[[[639, 470], [674, 470], [639, 645], [674, 645], [652, 489]],\n",
       " [[217, 446], [458, 446], [217, 489], [458, 489], [447, 462]],\n",
       " [[162, 988], [422, 988], [162, 1064], [422, 1064]],\n",
       " [[244, 374], [522, 374], [244, 446], [522, 446], [510, 387]],\n",
       " [[214, 292], [540, 292], [214, 345], [540, 345], [231, 338], [519, 312]],\n",
       " [[652, 102], [700, 102], [652, 303], [700, 303], [676, 289]],\n",
       " [[722, 182], [792, 182], [722, 289], [792, 289], [785, 275]],\n",
       " [[658, 401], [959, 401], [658, 464], [959, 464], [676, 420]],\n",
       " [[877, 488], [930, 488], [877, 688], [930, 688], [891, 506]],\n",
       " [[907, 181], [964, 181], [907, 396], [964, 396], [954, 380], [935, 200]]]"
      ]
     },
     "execution_count": 635,
     "metadata": {},
     "output_type": "execute_result"
    }
   ],
   "source": [
    "globals()[\"g{}\".format(i)][3]-globals()[\"g{}\".format(i)][-1])"
   ]
  },
  {
   "cell_type": "code",
   "execution_count": 630,
   "id": "49ef4d14",
   "metadata": {},
   "outputs": [
    {
     "data": {
      "text/plain": [
       "'RT'"
      ]
     },
     "execution_count": 630,
     "metadata": {},
     "output_type": "execute_result"
    }
   ],
   "source": [
    "bgc_sorted[0][0]"
   ]
  },
  {
   "cell_type": "code",
   "execution_count": 631,
   "id": "4570c4e3",
   "metadata": {},
   "outputs": [
    {
     "name": "stdout",
     "output_type": "stream",
     "text": [
      "45도\n"
     ]
    }
   ],
   "source": [
    "print(\"45도\") if bgc_sorted[0][0] == 'RT' else none"
   ]
  },
  {
   "cell_type": "code",
   "execution_count": 565,
   "id": "03e1d3d3",
   "metadata": {},
   "outputs": [],
   "source": [
    "# 딕셔너리 value 값 기준 정렬\n",
    "bgc_sorted=sorted(bgc.items(), key=lambda x:x[1])"
   ]
  },
  {
   "cell_type": "code",
   "execution_count": 573,
   "id": "30810f45",
   "metadata": {},
   "outputs": [],
   "source": [
    "bgc_sorted[1][1] - bgc_sorted[0][1]"
   ]
  },
  {
   "cell_type": "code",
   "execution_count": 579,
   "id": "9e5426da",
   "metadata": {},
   "outputs": [
    {
     "name": "stdout",
     "output_type": "stream",
     "text": [
      "[('RT', 19), ('RB', 29), ('LT', 230), ('LB', 231)]\n"
     ]
    }
   ],
   "source": [
    "print(bgc_sorted)"
   ]
  },
  {
   "cell_type": "code",
   "execution_count": 568,
   "id": "de8e9319",
   "metadata": {},
   "outputs": [
    {
     "name": "stdout",
     "output_type": "stream",
     "text": [
      "['RT', 'RB', 'LT', 'LB']\n"
     ]
    }
   ],
   "source": [
    "print(sorted(bgc,key=lambda x:bgc[x]))"
   ]
  },
  {
   "cell_type": "code",
   "execution_count": 508,
   "id": "3956bff6",
   "metadata": {},
   "outputs": [
    {
     "name": "stdout",
     "output_type": "stream",
     "text": [
      "0 [[639, 470], [674, 470], [639, 645], [674, 645], [652, 489]]\n",
      "1 [[217, 446], [458, 446], [217, 489], [458, 489], [447, 462]]\n",
      "2 [[162, 988], [422, 988], [162, 1064], [422, 1064]]\n",
      "3 [[244, 374], [522, 374], [244, 446], [522, 446], [510, 387]]\n",
      "4 [[214, 292], [540, 292], [214, 345], [540, 345], [231, 338], [519, 312]]\n",
      "5 [[652, 102], [700, 102], [652, 303], [700, 303], [676, 289]]\n",
      "6 [[722, 182], [792, 182], [722, 289], [792, 289], [785, 275]]\n",
      "7 [[658, 401], [959, 401], [658, 464], [959, 464], [676, 420]]\n",
      "8 [[877, 488], [930, 488], [877, 688], [930, 688], [891, 506]]\n",
      "9 [[907, 181], [964, 181], [907, 396], [964, 396], [954, 380], [935, 200]]\n"
     ]
    }
   ],
   "source": [
    "for i, value in enumerate(ga):\n",
    "    print(i,value)"
   ]
  },
  {
   "cell_type": "code",
   "execution_count": 371,
   "id": "7e035b43",
   "metadata": {},
   "outputs": [
    {
     "name": "stdout",
     "output_type": "stream",
     "text": [
      "[[639, 470], [674, 470], [639, 645], [674, 645], [652, 489]]\n"
     ]
    }
   ],
   "source": [
    "print(g0)"
   ]
  },
  {
   "cell_type": "code",
   "execution_count": 350,
   "id": "3ac853c9",
   "metadata": {},
   "outputs": [
    {
     "data": {
      "text/plain": [
       "list"
      ]
     },
     "execution_count": 350,
     "metadata": {},
     "output_type": "execute_result"
    }
   ],
   "source": [
    "type(g0)"
   ]
  },
  {
   "cell_type": "code",
   "execution_count": 310,
   "id": "06f4bdde",
   "metadata": {},
   "outputs": [
    {
     "ename": "TypeError",
     "evalue": "unsupported operand type(s) for -: 'list' and 'list'",
     "output_type": "error",
     "traceback": [
      "\u001b[1;31m---------------------------------------------------------------------------\u001b[0m",
      "\u001b[1;31mTypeError\u001b[0m                                 Traceback (most recent call last)",
      "Input \u001b[1;32mIn [310]\u001b[0m, in \u001b[0;36m<cell line: 1>\u001b[1;34m()\u001b[0m\n\u001b[1;32m----> 1\u001b[0m aLT \u001b[38;5;241m=\u001b[39m \u001b[38;5;28mabs\u001b[39m(\u001b[43mg0\u001b[49m\u001b[43m[\u001b[49m\u001b[38;5;241;43m0\u001b[39;49m\u001b[43m]\u001b[49m\u001b[38;5;241;43m-\u001b[39;49m\u001b[43mg0\u001b[49m\u001b[43m[\u001b[49m\u001b[38;5;241;43m-\u001b[39;49m\u001b[38;5;241;43m1\u001b[39;49m\u001b[43m]\u001b[49m)\n\u001b[0;32m      2\u001b[0m aRT \u001b[38;5;241m=\u001b[39m \u001b[38;5;28mabs\u001b[39m(g0[\u001b[38;5;241m1\u001b[39m]\u001b[38;5;241m-\u001b[39mg0[\u001b[38;5;241m-\u001b[39m\u001b[38;5;241m1\u001b[39m]) \n\u001b[0;32m      3\u001b[0m aLB \u001b[38;5;241m=\u001b[39m \u001b[38;5;28mabs\u001b[39m(g0[\u001b[38;5;241m2\u001b[39m]\u001b[38;5;241m-\u001b[39mg0[\u001b[38;5;241m-\u001b[39m\u001b[38;5;241m1\u001b[39m])\n",
      "\u001b[1;31mTypeError\u001b[0m: unsupported operand type(s) for -: 'list' and 'list'"
     ]
    }
   ],
   "source": [
    "aLT = abs(g0[0]-g0[-1])\n",
    "aRT = abs(g0[1]-g0[-1]) \n",
    "aLB = abs(g0[2]-g0[-1])\n",
    "aRB = abs(g0[3]-g0[-1])\n",
    "aLT[0]\n",
    "print(aLT, aRT, aLB, aRB)"
   ]
  },
  {
   "cell_type": "code",
   "execution_count": 311,
   "id": "0ebba4c8",
   "metadata": {},
   "outputs": [],
   "source": [
    "#유클리드 거리 구하기\n",
    "import math\n",
    "aLTu=int(math.sqrt((aLT[0]**2)+(aLT[1]**2)))\n",
    "aRTu=int(math.sqrt((aRT[0]**2)+(aRT[1]**2)))\n",
    "aLBu=int(math.sqrt((aLB[0]**2)+(aLB[1]**2)))\n",
    "aRBu=int(math.sqrt((aRB[0]**2)+(aRB[1]**2)))"
   ]
  },
  {
   "cell_type": "code",
   "execution_count": 262,
   "id": "52108a2d",
   "metadata": {},
   "outputs": [
    {
     "name": "stdout",
     "output_type": "stream",
     "text": [
      "23 29 156 157\n"
     ]
    }
   ],
   "source": [
    "print(aLTu, aRTu, aLBu, aRBu)"
   ]
  },
  {
   "cell_type": "code",
   "execution_count": 127,
   "id": "fa10e0e4",
   "metadata": {},
   "outputs": [
    {
     "name": "stdout",
     "output_type": "stream",
     "text": [
      "[23, 29, 156, 157]\n"
     ]
    }
   ],
   "source": [
    "bounding_box = [aLTu, aRTu, aLBu, aRBu]\n",
    "bounding_box_sort = sorted(bounding_box)\n",
    "print(bounding_box_sort)"
   ]
  },
  {
   "cell_type": "code",
   "execution_count": 51,
   "id": "eef81797",
   "metadata": {
    "collapsed": true
   },
   "outputs": [
    {
     "ename": "SyntaxError",
     "evalue": "invalid syntax (615712377.py, line 7)",
     "output_type": "error",
     "traceback": [
      "\u001b[1;36m  Input \u001b[1;32mIn [51]\u001b[1;36m\u001b[0m\n\u001b[1;33m    elif bo unding_box[0] == bounding_box[1]: #우상단\u001b[0m\n\u001b[1;37m            ^\u001b[0m\n\u001b[1;31mSyntaxError\u001b[0m\u001b[1;31m:\u001b[0m invalid syntax\n"
     ]
    }
   ],
   "source": [
    "\n",
    "if (bounding_box_sort[1] - bounding_box_sort[0]) < 10 : #직각 메커니즘\n",
    "    print('직각')\n",
    "    \n",
    "else: # 직각 아닌 메커니즘\n",
    "    if bounding_box[0] == bounding_box[0]: #좌상단\n",
    "        FLT\n",
    "    elif bo unding_box[0] == bounding_box[1]: #우상단\n",
    "        FRT\n",
    "    elif bounding_box[0] == bounding_box[2]: #좌하단\n",
    "        FLB\n",
    "    elif bounding_box[0] == bounding_box[3]: #우하단\n",
    "        FRB\n",
    "    if bounding_box[1] == bounding_box[0]: #좌상단\n",
    "        SLT\n",
    "    elif bounding_box[1] == bounding_box[1]: #우상단\n",
    "        SRT\n",
    "    elif bounding_box[1] == bounding_box[2]: #좌하단\n",
    "        SLB\n",
    "    elif bounding_box[1] == bounding_box[3]: #우하단\n",
    "        SRB\n"
   ]
  },
  {
   "cell_type": "code",
   "execution_count": 614,
   "id": "2581102c",
   "metadata": {},
   "outputs": [
    {
     "ename": "TypeError",
     "evalue": "'>' not supported between instances of 'builtin_function_or_method' and 'int'",
     "output_type": "error",
     "traceback": [
      "\u001b[1;31m---------------------------------------------------------------------------\u001b[0m",
      "\u001b[1;31mTypeError\u001b[0m                                 Traceback (most recent call last)",
      "Input \u001b[1;32mIn [614]\u001b[0m, in \u001b[0;36m<cell line: 1>\u001b[1;34m()\u001b[0m\n\u001b[1;32m----> 1\u001b[0m min_gl \u001b[38;5;241m=\u001b[39m v[\u001b[38;5;241m0\u001b[39m][\u001b[38;5;241m0\u001b[39m] \u001b[38;5;28;01mif\u001b[39;00m \u001b[43mmin_gl\u001b[49m\u001b[43m \u001b[49m\u001b[38;5;241;43m>\u001b[39;49m\u001b[43m \u001b[49m\u001b[43mv\u001b[49m\u001b[43m[\u001b[49m\u001b[38;5;241;43m0\u001b[39;49m\u001b[43m]\u001b[49m\u001b[43m[\u001b[49m\u001b[38;5;241;43m0\u001b[39;49m\u001b[43m]\u001b[49m \u001b[38;5;28;01melse\u001b[39;00m \u001b[38;5;28mprint\u001b[39m()\n",
      "\u001b[1;31mTypeError\u001b[0m: '>' not supported between instances of 'builtin_function_or_method' and 'int'"
     ]
    }
   ],
   "source": [
    "min_gl = v[0][0] if min_gl > v[0][0] else print()"
   ]
  },
  {
   "cell_type": "code",
   "execution_count": 623,
   "id": "a2c8b4d9",
   "metadata": {},
   "outputs": [
    {
     "name": "stdout",
     "output_type": "stream",
     "text": [
      "45도\n"
     ]
    }
   ],
   "source": [
    "\n"
   ]
  },
  {
   "cell_type": "code",
   "execution_count": null,
   "id": "7011a60e",
   "metadata": {},
   "outputs": [],
   "source": []
  },
  {
   "cell_type": "code",
   "execution_count": null,
   "id": "40b9a8c9",
   "metadata": {},
   "outputs": [],
   "source": []
  },
  {
   "cell_type": "code",
   "execution_count": null,
   "id": "8543ffa5",
   "metadata": {},
   "outputs": [],
   "source": []
  },
  {
   "cell_type": "code",
   "execution_count": 48,
   "id": "28c29468",
   "metadata": {},
   "outputs": [],
   "source": []
  },
  {
   "cell_type": "code",
   "execution_count": 40,
   "id": "71e1a81e",
   "metadata": {},
   "outputs": [
    {
     "data": {
      "text/plain": [
       "<matplotlib.image.AxesImage at 0x1df7759e070>"
      ]
     },
     "execution_count": 40,
     "metadata": {},
     "output_type": "execute_result"
    },
    {
     "data": {
      "image/png": "[encoded data removed]",
      "text/plain": [
       "<Figure size 432x288 with 1 Axes>"
      ]
     },
     "metadata": {},
     "output_type": "display_data"
    }
   ],
   "source": [
    "#디텍션 결과 이미지로\n",
    "exp_path = \"C:/Users/AI/Auto_Farming/yolov5/runs/detect/exp/\"\n",
    "img1 = cv2.imread(exp_path+'capture.png', cv2.IMREAD_COLOR)\n",
    "img1 = cv2.cvtColor(img1, cv2.COLOR_BGR2RGB)\n",
    "plt.xticks([]); plt.yticks([])\n",
    "plt.imshow(img1)"
   ]
  },
  {
   "cell_type": "markdown",
   "id": "11a96a69",
   "metadata": {},
   "source": [
    "## ROI에 도형 그리기\n",
    "\n",
    "- <font color=red>cv2.rectangle(배경이미지, 좌상단점좌표, 우하단점좌표, 색상, 선두께)</font> : 사각형 그리기\n",
    "- <font color=red>cv2.circle(배경이미지, 중심좌표, 반지름, 색상, 선두께)</font> : 원 그리기"
   ]
  },
  {
   "cell_type": "code",
   "execution_count": 628,
   "id": "e579f7ef",
   "metadata": {},
   "outputs": [
    {
     "name": "stdout",
     "output_type": "stream",
     "text": [
      "604.0\n",
      "276.5\n"
     ]
    },
    {
     "data": {
      "text/plain": [
       "<matplotlib.image.AxesImage at 0x20dd21011c0>"
      ]
     },
     "execution_count": 628,
     "metadata": {},
     "output_type": "execute_result"
    },
    {
     "data": {
      "image/png": "[encoded data removed]",
      "text/plain": [
       "<Figure size 432x288 with 1 Axes>"
      ]
     },
     "metadata": {},
     "output_type": "display_data"
    }
   ],
   "source": [
    "import cv2\n",
    "import matplotlib.pyplot as plt\n",
    "\n",
    "path12 = \"C:/Users/AI/Auto_Farming/image/capture.png\"\n",
    "img12 = cv2.imread(path12, cv2.IMREAD_COLOR)\n",
    "img12 = cv2.cvtColor(img12, cv2.COLOR_BGR2RGB)\n",
    "\n",
    "img12 = cv2.rectangle(img12, (g0[0][0], g0[0][1]), (g0[3][0], g0[3][1]),(0,255,0), 3)\n",
    "img12 = cv2.circle(img12, (g0[-1][0],g0[-1][1]),5,(255,0,0), -1)\n",
    "\n",
    "\n",
    "x13 = (587+621)/2\n",
    "y13 = (78+475)/2\n",
    "print(x13)\n",
    "print(y13)\n",
    "img13 = cv2.circle(img12, (int(x13), int(y13)),3,(255,0,0), -1)\n",
    "\n",
    "plt.xticks([]); plt.yticks([])\n",
    "plt.imshow(img12)"
   ]
  },
  {
   "cell_type": "markdown",
   "id": "093a0334",
   "metadata": {},
   "source": [
    "# 데이터 전처리"
   ]
  },
  {
   "cell_type": "code",
   "execution_count": null,
   "id": "3139c492",
   "metadata": {},
   "outputs": [],
   "source": [
    "import cv2\n",
    "webcam = cv2.VideoCapture(1)\n",
    "webcam.set(cv2.CAP_PROP_FRAME_WIDTH, 1080)\n",
    "webcam.set(cv2.CAP_PROP_FRAME_HEIGHT, 1080)\n",
    "if not webcam.isOpened():\n",
    "    print(\"Could not open webcam\")\n",
    "    exit()\n",
    "while webcam.isOpened():\n",
    "    status, frame = webcam.read()\n",
    "    frame = frame[:,:720]\n",
    "    if status:\n",
    "        cv2.imshow(\"test\", frame)\n",
    "    if cv2.waitKey(1) & 0xFF == ord('q'):\n",
    "        break\n",
    "webcam.release()\n",
    "cv2.destroyAllWindows()"
   ]
  },
  {
   "cell_type": "code",
   "execution_count": null,
   "id": "1fd97b96",
   "metadata": {},
   "outputs": [],
   "source": [
    "# # 인삼 좌표 도출\n",
    "# for i in range(gn):\n",
    "#     g, gltx, glty, grbx, grby = gc[i][2:-1].split(' '), int(g[0]), int(g[1]), int(g[2]), int(g[3])\n",
    "\n",
    "# #뇌두 중심점 도출\n",
    "# for i in range(hn):\n",
    "#     h, hltx, hlty, hrbx, hrby = hc[i][2:-1].split(' '), int(h[0]), int(h[1]), int(h[2]), int(h[3])\n",
    "#     hp = [int((hltx+hrbx)/2), int((hlty+hrby)/2)]"
   ]
  },
  {
   "cell_type": "code",
   "execution_count": null,
   "id": "91dc2610",
   "metadata": {},
   "outputs": [],
   "source": [
    "# # 인삼, 뇌두 디텍션 개수\n",
    "# gn = len(ginseng_coordinate)\n",
    "# hn = len(head_coordinate)\n",
    "# print(f'인삼 갯수 : {gn}')\n",
    "# print(f'뇌두 갯수 : {hn}')\n",
    "# print('')\n",
    "\n",
    "# # 인삼 좌표 도출\n",
    "# for i in range(gn):\n",
    "#     g = gc[i][2:-1].split(' ')\n",
    "#     gltx = g[0]\n",
    "#     glty = g[1]\n",
    "#     grbx = g[2]\n",
    "#     grby = g[3]\n",
    "\n",
    "#     print(f'(좌상단 : {gltx}, {glty})')\n",
    "#     print(f'(우상단 : {grbx}, {glty})')\n",
    "#     print(f'(좌하단 : {gltx}, {grby})')\n",
    "#     print(f'(우하단 : {grbx}, {grby})')\n",
    "#     print('')\n",
    "    "
   ]
  },
  {
   "cell_type": "code",
   "execution_count": null,
   "id": "22fd903c",
   "metadata": {},
   "outputs": [],
   "source": [
    "# #인삼 디텍션된 것 크롭\n",
    "# ginseng_crop_path = \"C:/Users/AI/Auto_Farming/yolov5/runs/detect/exp/crops/Ginseng/\"\n",
    "# ginseng_crop_img = cv2.imread(ginseng_crop_path+'capture.jpg', cv2.IMREAD_COLOR)\n",
    "# ginseng_crop_img = cv2.cvtColor(ginseng_crop_img, cv2.COLOR_BGR2RGB)\n",
    "# plt.xticks([]); plt.yticks([])\n",
    "# plt.imshow(ginseng_crop_img)"
   ]
  },
  {
   "cell_type": "code",
   "execution_count": null,
   "id": "b66860b5",
   "metadata": {},
   "outputs": [],
   "source": [
    "# #뇌두 디텍션된 것 크롭\n",
    "# head_crop_path = \"C:/Users/AI/Auto_Farming/yolov5/runs/detect/exp/crops/head/\"\n",
    "# head_crop_img = cv2.imread(head_crop_path+\"capture.jpg\", cv2.IMREAD_COLOR)\n",
    "# head_crop_img = cv2.cvtColor(head_crop_img, cv2.COLOR_BGR2RGB)\n",
    "# plt.xticks([]); plt.yticks([])\n",
    "# plt.imshow(head_crop_img)"
   ]
  },
  {
   "cell_type": "code",
   "execution_count": null,
   "id": "5fec5c8f",
   "metadata": {},
   "outputs": [],
   "source": [
    "# list1=glob.glob(exp_path+'crops/Ginseng/capture*')\n",
    "# for i in list1:\n",
    "#     os.unlink(i)\n",
    "# list2=glob.glob(exp_path+'crops/head/capture*')\n",
    "# for i in list2:\n",
    "#     os.unlink(i)"
   ]
  },
  {
   "cell_type": "code",
   "execution_count": null,
   "id": "7d8c1337",
   "metadata": {},
   "outputs": [],
   "source": [
    "#     # 원본 동영상 크기 정보\n",
    "#     w = cap.get(cv2.CAP_PROP_FRAME_WIDTH)\n",
    "#     h = cap.get(cv2.CAP_PROP_FRAME_HEIGHT)\n",
    "#     print(\"원본 동영상 너비(가로) : {}, 높이(세로) : {}\".format(w, h))\n",
    "\n",
    "#     # 동영상 크기 변환\n",
    "#     cap.set(cv2.CAP_PROP_FRAME_WIDTH, 480) # 가로\n",
    "#     cap.set(cv2.CAP_PROP_FRAME_HEIGHT, 480) # 세로\n",
    "\n",
    "#     # 변환된 동영상 크기 정보\n",
    "#     w = cap.get(cv2.CAP_PROP_FRAME_WIDTH)\n",
    "#     h = cap.get(cv2.CAP_PROP_FRAME_HEIGHT)\n",
    "#     print(\"변환된 동영상 너비(가로) : {}, 높이(세로) : {}\".format(w, h))"
   ]
  },
  {
   "cell_type": "code",
   "execution_count": null,
   "id": "99e6cfac",
   "metadata": {},
   "outputs": [],
   "source": [
    "    # 이미지 보정 시작 #\n",
    "#     img = cv2.imread(\"C:/Users\\AI/Auto_Farming/image/capture.png\", cv2.IMREAD_COLOR)\n",
    "#     img = cv2.cvtColor(img, cv2.COLOR_BGR2RGB)\n",
    "#     plt.xticks([]); plt.yticks([])\n",
    "#     plt.imshow(img)\n",
    "#     img = cv2.cvtColor(img, cv2.COLOR_BGR2RGB)\n",
    "#     hsv = cv2.cvtColor(img, cv2.COLOR_RGB2HSV)\n",
    "#     lower = np.array([20, 100,200])\n",
    "#     higher = np.array([30, 255, 255])\n",
    "#     mask = cv2.inRange(hsv, lower, higher)\n",
    "#     img_hsv = cv2.bitwise_and(img, img, mask=mask)\n",
    "#     img_gray = cv2.cvtColor(img_hsv, cv2.COLOR_RGB2GRAY)\n",
    "    # 이미지 보정 끝 #"
   ]
  },
  {
   "cell_type": "code",
   "execution_count": null,
   "id": "ca69c23c",
   "metadata": {},
   "outputs": [],
   "source": [
    "# os 라이브러리에 디렉터리 안에 있는 파일 명 리스트로 받는 함수 쓰고\n",
    "# 거기서 정렬한다음에 \n",
    "# 맨 뒤에꺼 하면 최신 파일 되니까\n",
    "# 그거 로드하면 되긴할듯 "
   ]
  },
  {
   "cell_type": "code",
   "execution_count": null,
   "id": "d8ac36a9",
   "metadata": {},
   "outputs": [],
   "source": [
    "# 갯수 =\n",
    "# 좌표list = []\n",
    "# 가장 앞쪽에 있는거 좌표 = []\n",
    "# 가장 앞쪽에 있는거 좌표 로봇에 보내주고\n",
    "# 갯수가 n개 이하되면 피서한테 튕기면서 당겨오라고 하고"
   ]
  },
  {
   "cell_type": "code",
   "execution_count": null,
   "id": "b9892fb0",
   "metadata": {},
   "outputs": [],
   "source": [
    "# 생육상태 파악 <딥러닝(상민)\n",
    "# 외부인 침입 감지 <딥러닝(대철)\n",
    "# 컨베이어벨트 작동 여부 확인 <딥러닝(?)\n",
    "# 환기장치, 워터벨브 등 엑추에이터 작동여부 확인 <딥러닝(?)\n",
    "# 챗봇상담 < 딥러닝(?)"
   ]
  },
  {
   "cell_type": "code",
   "execution_count": null,
   "id": "6620a1a8",
   "metadata": {},
   "outputs": [],
   "source": [
    "!python detect.py --weight ./runs/train/insam_yolov5s_results/weights/best.pt --source '{img}'"
   ]
  }
 ],
 "metadata": {
  "kernelspec": {
   "display_name": "Python 3 (ipykernel)",
   "language": "python",
   "name": "python3"
  },
  "language_info": {
   "codemirror_mode": {
    "name": "ipython",
    "version": 3
   },
   "file_extension": ".py",
   "mimetype": "text/x-python",
   "name": "python",
   "nbconvert_exporter": "python",
   "pygments_lexer": "ipython3",
   "version": "3.9.12"
  },
  "toc": {
   "base_numbering": 1,
   "nav_menu": {},
   "number_sections": true,
   "sideBar": true,
   "skip_h1_title": false,
   "title_cell": "Table of Contents",
   "title_sidebar": "Contents",
   "toc_cell": false,
   "toc_position": {},
   "toc_section_display": true,
   "toc_window_display": false
  }
 },
 "nbformat": 4,
 "nbformat_minor": 5
}
