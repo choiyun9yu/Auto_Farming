{
 "cells": [
  {
   "cell_type": "markdown",
   "id": "0e23f8ad",
   "metadata": {},
   "source": [
    "# 베타"
   ]
  },
  {
   "cell_type": "code",
   "execution_count": 2,
   "id": "8fdc62b3",
   "metadata": {
    "scrolled": false
   },
   "outputs": [
    {
     "name": "stdout",
     "output_type": "stream",
     "text": [
      "-------------SYNARIO-------------\n",
      "인삼 검출 갯수 : 2\n",
      "컨베이어 멈춤\n",
      "정상 검출 갯수 : 0\n",
      "피더 작동\n",
      "그리퍼 각도 : None\n",
      "좌표 : None, None\n",
      "---------------------------------\n",
      "소켓OUT : 0, 1, None, None, None\n",
      "---------------------------------\n",
      " \n",
      " \n",
      "-------------SYNARIO-------------\n",
      "인삼 검출 갯수 : 2\n",
      "컨베이어 멈춤\n",
      "정상 검출 갯수 : 0\n",
      "피더 작동\n",
      "그리퍼 각도 : None\n",
      "좌표 : None, None\n",
      "---------------------------------\n",
      "소켓OUT : 0, 1, None, None, None\n",
      "---------------------------------\n",
      " \n",
      " \n",
      "-------------SYNARIO-------------\n",
      "인삼 검출 갯수 : 2\n",
      "컨베이어 작동\n",
      "정상 검출 갯수 : 0\n",
      "피더 멈춤\n",
      "그리퍼 각도 : None\n",
      "좌표 : None, None\n",
      "---------------------------------\n",
      "소켓OUT : 1, 0, None, None, None\n",
      "---------------------------------\n",
      " \n",
      " \n",
      "-------------SYNARIO-------------\n",
      "인삼 검출 갯수 : 2\n",
      "컨베이어 작동\n",
      "정상 검출 갯수 : 0\n",
      "피더 멈춤\n",
      "그리퍼 각도 : None\n",
      "좌표 : None, None\n",
      "---------------------------------\n",
      "소켓OUT : 1, 0, None, None, None\n",
      "---------------------------------\n",
      " \n",
      " \n",
      "-------------SYNARIO-------------\n",
      "인삼 검출 갯수 : 2\n",
      "컨베이어 멈춤\n",
      "정상 검출 갯수 : 0\n",
      "피더 작동\n",
      "그리퍼 각도 : None\n",
      "좌표 : None, None\n",
      "---------------------------------\n",
      "소켓OUT : 0, 1, None, None, None\n",
      "---------------------------------\n",
      " \n",
      " \n",
      "-------------SYNARIO-------------\n",
      "인삼 검출 갯수 : 2\n",
      "컨베이어 멈춤\n",
      "정상 검출 갯수 : 0\n",
      "피더 작동\n",
      "그리퍼 각도 : None\n",
      "좌표 : None, None\n",
      "---------------------------------\n",
      "소켓OUT : 0, 1, None, None, None\n",
      "---------------------------------\n",
      " \n",
      " \n",
      "-------------SYNARIO-------------\n",
      "인삼 검출 갯수 : 0\n",
      "컨베이어 작동\n",
      "정상 검출 갯수 : 0\n",
      "피더 멈춤\n",
      "그리퍼 각도 : None\n",
      "좌표 : None, None\n",
      "---------------------------------\n",
      "소켓OUT : 1, 0, None, None, None\n",
      "---------------------------------\n",
      " \n",
      " \n",
      "-------------SYNARIO-------------\n",
      "인삼 검출 갯수 : 0\n",
      "컨베이어 작동\n",
      "정상 검출 갯수 : 0\n",
      "피더 멈춤\n",
      "그리퍼 각도 : None\n",
      "좌표 : None, None\n",
      "---------------------------------\n",
      "소켓OUT : 1, 0, None, None, None\n",
      "---------------------------------\n",
      " \n",
      " \n",
      "-------------SYNARIO-------------\n",
      "인삼 검출 갯수 : 1\n",
      "컨베이어 멈춤\n",
      "정상 검출 갯수 : 0\n",
      "피더 작동\n",
      "그리퍼 각도 : None\n",
      "좌표 : None, None\n",
      "---------------------------------\n",
      "소켓OUT : 0, 1, None, None, None\n",
      "---------------------------------\n",
      " \n",
      " \n",
      "-------------SYNARIO-------------\n",
      "인삼 검출 갯수 : 1\n",
      "컨베이어 멈춤\n",
      "정상 검출 갯수 : 0\n",
      "피더 작동\n",
      "그리퍼 각도 : None\n",
      "좌표 : None, None\n",
      "---------------------------------\n",
      "소켓OUT : 0, 1, None, None, None\n",
      "---------------------------------\n",
      " \n",
      " \n"
     ]
    },
    {
     "name": "stderr",
     "output_type": "stream",
     "text": [
      "\u001b[34m\u001b[1mdetect: \u001b[0mweights=['C:/Users/AI/firecat_e6/yolov5/runs/train/insam_yolov5s_results/weights/best.pt'], source=0, data=yolov5\\data\\coco128.yaml, imgsz=[640, 640], conf_thres=0.25, iou_thres=0.45, max_det=1000, device=, view_img=False, save_txt=True, save_conf=False, save_crop=False, nosave=False, classes=None, agnostic_nms=False, augment=False, visualize=False, update=False, project=yolov5\\runs\\detect, name=exp, exist_ok=True, line_thickness=3, hide_labels=True, hide_conf=True, half=False, dnn=False, vid_stride=1\n",
      "YOLOv5  v6.2-219-ga83d2a5 Python-3.9.12 torch-1.12.1 CPU\n",
      "\n",
      "Fusing layers... \n",
      "YOLOv5s summary: 157 layers, 7015519 parameters, 0 gradients, 15.8 GFLOPs\n",
      "1/1: 0...  Success (inf frames 640x480 at 30.00 FPS)\n",
      "\n"
     ]
    }
   ],
   "source": [
    "from threading import Thread\n",
    "import time\n",
    "\n",
    "def yolo(id, root, source):\n",
    "    !python {root}detect.py --weight {root}runs/train/insam_yolov5s_results/weights/best.pt --source {source} --save-txt --exist-ok --hide-conf --hide-labels\n",
    "    return\n",
    "\n",
    "def master(id, root):\n",
    "    with open(root+\"runs/detect/exp/result.txt\", \"r\") as f:\n",
    "        com = f.readlines()[0]\n",
    "    while True:\n",
    "        with open(root+\"runs/detect/exp/result.txt\", \"r\") as f:\n",
    "            try :\n",
    "                txt = f.readlines()[0]\n",
    "            except IndexError : \n",
    "                pass\n",
    "            else :\n",
    "                if txt != com:\n",
    "                    com = txt\n",
    "                    GA, conveyer, DA, feeder, angle, x_coordinate, y_coordinate = txt.split(' ')\n",
    "                    print('-------------SYNARIO-------------')\n",
    "                    print(f'인삼 검출 갯수 : {GA}')\n",
    "                    print(f'컨베이어 작동') if conveyer == '1' else print('컨베이어 멈춤')\n",
    "                    print(f'정상 검출 갯수 : {DA}')\n",
    "                    print('피더 작동') if feeder == '1' else print('피더 멈춤')\n",
    "                    print(f'그리퍼 각도 : {angle}')\n",
    "                    print(f'좌표 : {x_coordinate}, {y_coordinate}')\n",
    "                    print('-'*33)\n",
    "                    print(f'소켓OUT : {conveyer}, {feeder}, {angle}, {x_coordinate}, {y_coordinate}')\n",
    "                    print('-'*33)\n",
    "                    print(' ')\n",
    "                    print(' ')\n",
    "        time.sleep(1)\n",
    "    return\n",
    "\n",
    "if __name__ == \"__main__\":\n",
    "    root = 'C:/Users/AI/firecat_e6/yolov5/'\n",
    "    yolo = Thread(target=yolo, args=(1, root, 0))\n",
    "    master = Thread(target=master, args=(2, root))\n",
    "    yolo.start()\n",
    "    master.start()"
   ]
  },
  {
   "cell_type": "markdown",
   "id": "b6e35a52",
   "metadata": {},
   "source": [
    "# 12월 6일 발표 Code"
   ]
  },
  {
   "cell_type": "code",
   "execution_count": null,
   "id": "b8cef493",
   "metadata": {},
   "outputs": [],
   "source": [
    "from threading import Thread\n",
    "import time\n",
    "\n",
    "def yolo(id, root, source):\n",
    "    !python {root}detect126.py --weight {root}runs/train/insam_yolov5s_results/weights/best.pt --source {source} --save-txt --exist-ok --hide-conf --hide-labels\n",
    "    return\n",
    "\n",
    "def master(root):\n",
    "    with open(root+\"runs/detect/exp/result.txt\", \"r\") as f:\n",
    "        com = f.readlines()[0]\n",
    "    while True:\n",
    "        with open(root+\"runs/detect/exp/result.txt\", \"r\") as f:\n",
    "            try :\n",
    "                txt = f.readlines()[0]\n",
    "            except IndexError : \n",
    "                pass\n",
    "            else :\n",
    "                if txt != com:\n",
    "                    com = txt\n",
    "                    GA, conveyer, DA, feeder, angle, x_coordinate, y_coordinate = txt.split(' ')\n",
    "                    print('-------------SYNARIO-------------')\n",
    "                    print(f'인삼 검출 갯수 : {GA}')\n",
    "                    print(f'컨베이어 작동') if conveyer == '1' else print('컨베이어 멈춤')\n",
    "                    print(f'정상 검출 갯수 : {DA}')\n",
    "                    print('피더 작동') if feeder == '1' else print('피더 멈춤')\n",
    "                    print(f'그리퍼 각도 : {angle}')\n",
    "                    print(f'좌표 : {x_coordinate}, {y_coordinate}')\n",
    "                    print('-'*33)\n",
    "                    print(f'소켓OUT : {conveyer}, {feeder}, {angle}, {x_coordinate}, {y_coordinate}')\n",
    "                    print('-'*33)\n",
    "                    print(' ')\n",
    "                    print(' ')\n",
    "        time.sleep(1)\n",
    "    return\n",
    "\n",
    "if __name__ == '__main__' :\n",
    "    print('main thread start!')\n",
    "    root = 'C:/Users/AI/firecat_e6/yolov5/'\n",
    "    master = Thread(target=master, args=(root), daemon = True)\n",
    "    !python {root}detect126.py --weight {root}runs/train/insam_yolov5s_results/weights/best.pt --source 0 --save-txt --exist-ok --hide-conf --hide-labels\n",
    "    print('main thread end!')"
   ]
  },
  {
   "cell_type": "markdown",
   "id": "8b614e08",
   "metadata": {},
   "source": [
    "# master"
   ]
  },
  {
   "cell_type": "code",
   "execution_count": null,
   "id": "cf980ca4",
   "metadata": {},
   "outputs": [],
   "source": [
    "# 쓰레드 간 변수 주고 받는 모듈 공부 필요!"
   ]
  },
  {
   "cell_type": "code",
   "execution_count": null,
   "id": "df332b72",
   "metadata": {
    "scrolled": false
   },
   "outputs": [],
   "source": [
    "from threading import Thread\n",
    "import time\n",
    "\n",
    "def yolo(id, root, source):\n",
    "    !python {root}detect7.py --weight {root}runs/train/insam_yolov5s_results/weights/best.pt --source {source} --save-txt --exist-ok --hide-conf --hide-labels\n",
    "    return\n",
    "\n",
    "def master(id, root):\n",
    "    com = 'initialization'\n",
    "    while True:\n",
    "        with open(root+\"runs/detect/exp/result.txt\", \"r\") as f:\n",
    "            txt = f.readlines()\n",
    "            if txt[0] != com:\n",
    "#                 print(txt[0])\n",
    "                com = txt[0]\n",
    "                conv, feed, ang, x, y = txt[0].split(' ')\n",
    "                if conv == 1:\n",
    "                    print('컨베이어 작동')\n",
    "                elif feed ==1 :\n",
    "                    print('피더 작동')\n",
    "                else:\n",
    "                    pack = [cnt, [ang, x, y]]\n",
    "                    ### 슬레이브로 pack 보내는 코드 입력자리 ###\n",
    "                    print(f'번호:{cnt}, 각도:{ang}, X축:{x}, Y축:{y}')\n",
    "        time.sleep(1)\n",
    "    return\n",
    "\n",
    "def slave(id):\n",
    "    num, ang2, x2, y2=pack[0], pack[1][0], pack[1][1], pack[1][2]\n",
    "    print('로봇 작업 내용')\n",
    "    print(f'번호:{num}, 각도:{ang2}, X축:{x2}, Y축:{y2}')\n",
    "    \n",
    "\n",
    "if __name__ == \"__main__\":\n",
    "    root = 'C:/Users/AI/Auto_Farming/yolov5/'\n",
    "    yolo = Thread(target=yolo, args=(1, root, 0))\n",
    "    master = Thread(target=master, args=(2, root))\n",
    "#     slave = Thread(target=slave, arges=(3))\n",
    "    yolo.start()\n",
    "    master.start()\n",
    "#     slave.start()"
   ]
  },
  {
   "cell_type": "code",
   "execution_count": null,
   "id": "1b2e809e",
   "metadata": {},
   "outputs": [],
   "source": [
    "# 서버\n",
    "import sys\n",
    "import os\n",
    "from pathlib import Path\n",
    "with open(os.getcwd()+\"/test.txt\", \"w\") as f:\n",
    "    f.write('0 0 90 250 350')\n",
    "with open(os.getcwd()+\"/test.txt\", \"r\") as f:\n",
    "    txt = str(*f.readlines())\n",
    "conv, feed, ang, x, y = txt.split(' ')\n",
    "cnt=0\n",
    "\n",
    "# while True: 원래 while문인데 for문으로 대체해서 보여줌\n",
    "for _ in range(801): # for문 안에 range 바꾸면 몇번째인지 바뀌겠지 \n",
    "    if conv == 1:\n",
    "        print('컨베이어 작동')\n",
    "    elif feed ==1 :\n",
    "        print('피더 작동')\n",
    "    else:\n",
    "        cnt += 1\n",
    "        testlist = [cnt, [ang, x, y]] \n",
    "        if cnt == 800:\n",
    "            cnt = 0"
   ]
  },
  {
   "cell_type": "markdown",
   "id": "384a4cf7",
   "metadata": {},
   "source": [
    "# 스레드로 실시간 좌표 확인"
   ]
  },
  {
   "cell_type": "code",
   "execution_count": null,
   "id": "d28d46fa",
   "metadata": {
    "scrolled": false
   },
   "outputs": [],
   "source": [
    "from threading import Thread\n",
    "import time\n",
    "\n",
    "def yolo(id, root, source):\n",
    "    !python {root}detect7.py --weight {root}runs/train/insam_yolov5s_results/weights/best.pt --source {source} --save-txt --exist-ok --hide-conf --hide-labels\n",
    "    return\n",
    "\n",
    "def synario(id, root):\n",
    "    conc = 'initialization'\n",
    "    while True:\n",
    "        with open(root+\"runs/detect/exp/result.txt\", \"r\") as f:\n",
    "            txt = f.readlines()\n",
    "            if txt[0] != conc:\n",
    "                print(txt[0])\n",
    "                conc = txt[0]     \n",
    "        time.sleep(1)\n",
    "    return\n",
    "\n",
    "if __name__ == \"__main__\":\n",
    "    root = 'C:/Users/AI/Auto_Farming/yolov5/'\n",
    "    th1 = Thread(target=yolo, args=(1, root, 0))\n",
    "    th2 = Thread(target=synario, args=(2, root))\n",
    "    th1.start()\n",
    "    th2.start()"
   ]
  },
  {
   "cell_type": "markdown",
   "id": "7ec7dcf0",
   "metadata": {},
   "source": [
    "# detect.py test"
   ]
  },
  {
   "cell_type": "code",
   "execution_count": null,
   "id": "f51e16e6",
   "metadata": {},
   "outputs": [],
   "source": [
    "root = 'C:/Users/AI/Auto_Farming/yolov5/'\n",
    "detect = 'C:/Users/AI/Auto_Farming/yolov5/detect7py'\n",
    "weight = 'C:/Users/AI/Auto_Farming/yolov5/runs/train/insam_yolov5s_results/weights/best.pt'\n",
    "!python {detect} --weight {weight} --source 0 --save-txt --exist-ok --hide-conf --hide-labels\n",
    "\n",
    "# for i, j in enumerate(rs):\n",
    "#     if i > 5:\n",
    "#         print(j)"
   ]
  },
  {
   "cell_type": "markdown",
   "id": "0d2b10c1",
   "metadata": {},
   "source": [
    "# image test"
   ]
  },
  {
   "cell_type": "code",
   "execution_count": null,
   "id": "f64e3524",
   "metadata": {},
   "outputs": [],
   "source": [
    "import os\n",
    "import glob\n",
    "import cv2\n",
    "import math\n",
    "import numpy as np\n",
    "import matplotlib.pyplot as plt\n",
    "\n",
    "frame_img_path = 'C:/Users/AI/firecat_e6/yolov5/image/capture.png'\n",
    "exp_path = \"C:/Users/AI/firecat_e6/yolov5/runs/detect/exp/\"\n",
    "path = 'C:/Users/AI/firecat_e6/yolov5/'\n",
    "weight = 'C:/Users/AI/firecat_e6/yolov5/runs/train/insam_yolov5s_results/weights/best.pt'\n",
    "source = 'C:/Users\\AI/firecat_e6/image/capture.png' \n",
    "coordinate_path = \"C:/Users/AI/firecat_e6/yolov5/runs/detect/exp/labels/\""
   ]
  },
  {
   "cell_type": "code",
   "execution_count": null,
   "id": "e7724dd8",
   "metadata": {},
   "outputs": [],
   "source": [
    "!python {path}detect3.py --weight {weight} --source {source} --save-txt --exist-ok --hide-conf --hide-labels"
   ]
  },
  {
   "cell_type": "code",
   "execution_count": null,
   "id": "8b9b1258",
   "metadata": {},
   "outputs": [],
   "source": [
    "import os\n",
    "import sys\n",
    "import glob\n",
    "from pathlib import Path\n",
    "import math\n",
    "import numpy as np\n",
    "\n",
    "# FILE = Path(__file__).resolve()\n",
    "# ROOT = FILE.parents[0]/'runs/detect/exp/'\n",
    "\n",
    "gc, hc, ga, da = [], [], [], []\n",
    "min_gl, a = float('inf'), 0\n",
    "\n",
    "with open(coordinate_path+\"capture.txt\", \"r\") as f:\n",
    "    txt = f.readlines()  \n",
    "\n",
    "[gc.append(i) if i[0] == '0' else hc.append(i) for i in txt]\n",
    "\n",
    "gn, hn, p = len(gc), len(hc), 0\n",
    "\n",
    "for i in range(gn):\n",
    "    g = gc[i][2:-1].split(' ')\n",
    "    gltx, glty, grbx, grby = int(g[0]), int(g[1]), int(g[2]), int(g[3])\n",
    "    lt, rt, lb, rb = [gltx, glty], [grbx, glty], [gltx, grby], [grbx, grby]\n",
    "    globals()[\"g{}\".format(i)] = [lt, rt, lb, rb]\n",
    "\n",
    "    for j in range(hn):\n",
    "        h = hc[j][2:-1].split(' ')\n",
    "        hltx, hlty, hrbx, hrby = int(h[0]), int(h[1]), int(h[2]), int(h[3])\n",
    "        globals()[\"h{}\".format(j)] = [int((hltx+hrbx)/2), int((hlty+hrby)/2)]\n",
    "        if (globals()[f\"g{i}\"][3][0] > globals()[f\"h{j}\"][0] > globals()[f\"g{i}\"][0][0])\\\n",
    "        and (globals()[f\"g{i}\"][3][1] > globals()[f\"h{j}\"][1] > globals()[f\"g{i}\"][0][1]):\n",
    "            globals()[\"g{}\".format(i)].append(globals()[\"h{}\".format(j)])\n",
    "\n",
    "    ga.append(globals()[\"g{}\".format(i)])\n",
    "\n",
    "for i in ga:\n",
    "    if len(i) == 5:\n",
    "        da.append(i)\n",
    "        \n",
    "# da=(1,2,3,4) # 개체수 없는 시나리오\n",
    "\n",
    "\n",
    "if len(da) <= 5:\n",
    "    p = 1\n",
    "else: \n",
    "    for v in da:\n",
    "        if min_gl > v[0][0]:\n",
    "                min_gl = v[0][0]   \n",
    "    for i,value in enumerate(da):\n",
    "        if min_gl == value[0][0]:\n",
    "            globals()[\"g{}\".format(i)] = np.array(globals()[\"g{}\".format(i)])\n",
    "            best = globals()[\"g{}\".format(i)]\n",
    "            alt = abs(globals()[\"g{}\".format(i)][0]-globals()[\"g{}\".format(i)][-1])\n",
    "            art = abs(globals()[\"g{}\".format(i)][1]-globals()[\"g{}\".format(i)][-1])\n",
    "            alb = abs(globals()[\"g{}\".format(i)][2]-globals()[\"g{}\".format(i)][-1])\n",
    "            arb = abs(globals()[\"g{}\".format(i)][3]-globals()[\"g{}\".format(i)][-1])\n",
    "            altu, artu = int(math.sqrt((alt[0]**2)+(alt[1]**2))), int(math.sqrt((art[0]**2)+(art[1]**2)))\n",
    "            albu, arbu = int(math.sqrt((alb[0]**2)+(alb[1]**2))), int(math.sqrt((arb[0]**2)+(arb[1]**2)))\n",
    "            bgc = {'LT':altu, 'RT':artu, 'LB':albu, 'RB':arbu}\n",
    "            bgc_sorted=sorted(bgc.items(), key=lambda x:x[1])\n",
    "            if bgc_sorted[1][1] - bgc_sorted[0][1] < 20:\n",
    "                if bgc_sorted[0][0] == 'RT' and bgc_sorted[1][0] == 'RB':\n",
    "                    a=0\n",
    "                elif bgc_sorted[1][0] == 'RT' and bgc_sorted[0][0] == 'RB':\n",
    "                    a=0\n",
    "                elif bgc_sorted[0][0] == 'LT'and bgc_sorted[1][0] == 'RT': \n",
    "                    a=90\n",
    "                elif bgc_sorted[1][0] == 'LT'and bgc_sorted[0][0] == 'RT':\n",
    "                    a=90\n",
    "                elif bgc_sorted[0][0] == 'LT' and bgc_sorted[1][0] == 'LB':\n",
    "                    a=180\n",
    "                elif bgc_sorted[1][0] == 'LT' and bgc_sorted[0][0] == 'LB':\n",
    "                    a=180\n",
    "                elif bgc_sorted[0][0] == 'LB' and bgc_sorted[1][0] == 'RB': \n",
    "                    a=270\n",
    "                elif bgc_sorted[1][0] == 'LB' and bgc_sorted[0][0] == 'RB':\n",
    "                    a=270\n",
    "            else:\n",
    "                if bgc_sorted[0][0] == 'RT':\n",
    "                    a=45\n",
    "                elif bgc_sorted[0][0] == 'LT':\n",
    "                    a=135\n",
    "                elif bgc_sorted[0][0] == 'LB': \n",
    "                    a=225\n",
    "                elif bgc_sorted[0][0] == 'RB':\n",
    "                    a=315\n",
    "\n",
    "print(f'정상 검출 갯수 : {len(da)}')\n",
    "print('피더 작동') if p==1 else print('피더 작동 안함')\n",
    "print(f'그리퍼 각도 : {a}')\n",
    "print(f'좌표 : {best[-1][0]}, {best[-1][1]}')"
   ]
  },
  {
   "cell_type": "code",
   "execution_count": null,
   "id": "9550240f",
   "metadata": {},
   "outputs": [],
   "source": [
    "best = g1\n",
    "frame_img = cv2.imread(frame_img_path, cv2.IMREAD_COLOR)\n",
    "frame_img = cv2.cvtColor(frame_img, cv2.COLOR_BGR2RGB)\n",
    "frame_img = cv2.rectangle(frame_img, (best[0][0], best[0][1]), (best[3][0], best[3][1]),(0,255,0), 3)\n",
    "frame_img = cv2.circle(frame_img, (best[-1][0],best[-1][1]),5,(255,0,0), -1)\n",
    "plt.xticks([]); plt.yticks([])\n",
    "plt.imshow(frame_img)"
   ]
  },
  {
   "cell_type": "markdown",
   "id": "0ea2a3b4",
   "metadata": {},
   "source": [
    "# 객체 탐지된 거 사이즈 측정"
   ]
  },
  {
   "cell_type": "code",
   "execution_count": null,
   "id": "440658aa",
   "metadata": {},
   "outputs": [],
   "source": [
    "import os\n",
    "import glob\n",
    "import cv2\n",
    "import math\n",
    "import numpy as np\n",
    "import matplotlib.pyplot as plt\n",
    "\n",
    "frame_img_path = 'C:/Users/AI/firecat_e6/yolov5/image/capture.png'\n",
    "exp_path = \"C:/Users/AI/firecat_e6/yolov5/runs/detect/exp/\"\n",
    "path = 'C:/Users/AI/firecat_e6/yolov5/'\n",
    "weight = 'C:/Users/AI/firecat_e6/yolov5/runs/train/insam_yolov5s_results/weights/best.pt'\n",
    "source = 'C:/Users\\AI/firecat_e6/image/capture.png' \n",
    "coordinate_path = \"C:/Users/AI/firecat_e6/yolov5/runs/detect/exp/labels/\"\n",
    "    \n",
    "# 변수 초기화\n",
    "GinseongCoordinate, HeadCoordinate, GinseongAllList, DetactedAllList, gclList, best = [], [], [], [], [], []\n",
    "NearestGinseong, conveyer, feeder = float('inf'), 0, 0\n",
    "angle, x_coordinate, y_coordinate =  None, None, None\n",
    "\n",
    "# 욜로가 객체 탐지한 것 클래스와 바운딩박스 좌표 로드\n",
    "with open(coordinate_path+\"capture.txt\", \"r\") as f:\n",
    "    txt = f.readlines()  \n",
    "\n",
    "# 인삼좌표와 뇌두 좌표 리스트에 할당\n",
    "[GinseongCoordinate.append(i) if i[0] == '0' else HeadCoordinate.append(i) for i in txt]\n",
    "Gamount, Hamount = len(GinseongCoordinate), len(HeadCoordinate)\n",
    "\n",
    "# 클래스별 좌표 추출 및 객체 네이밍  \n",
    "for i in range(Gamount):\n",
    "    g = GinseongCoordinate[i][2:-1].split(' ')\n",
    "    gltx, glty, grbx, grby = int(g[0]), int(g[1]), int(g[2]), int(g[3])\n",
    "    lt, rt, lb, rb = [gltx, glty], [grbx, glty], [gltx, grby], [grbx, grby]\n",
    "    globals()[\"g{}\".format(i)] = [lt, rt, lb, rb]\n",
    "\n",
    "    for j in range(Hamount):\n",
    "        h = HeadCoordinate[j][2:-1].split(' ')\n",
    "        hltx, hlty, hrbx, hrby = int(h[0]), int(h[1]), int(h[2]), int(h[3])\n",
    "        globals()[\"h{}\".format(j)] = [int((hltx+hrbx)/2), int((hlty+hrby)/2)]\n",
    "        if (globals()[f\"g{i}\"][3][0] > globals()[f\"h{j}\"][0] > globals()[f\"g{i}\"][0][0])\\\n",
    "        and (globals()[f\"g{i}\"][3][1] > globals()[f\"h{j}\"][1] > globals()[f\"g{i}\"][0][1]):\n",
    "            globals()[\"g{}\".format(i)].append(globals()[\"h{}\".format(j)])\n",
    "\n",
    "    GinseongAllList.append(globals()[\"g{}\".format(i)])\n",
    "\n",
    "for i in range(len(GinseongAllList)):\n",
    "    GW = abs(GinseongAllList[i][3][0] - GinseongAllList[i][0][0])\n",
    "    GH = abs(GinseongAllList[i][3][1] - GinseongAllList[i][0][1])\n",
    "    globals()[\"gcl{}\".format(i)] = int(math.sqrt(GW**2 + GH**2))\n",
    "    gclList.append(globals()[\"gcl{}\".format(i)])\n"
   ]
  },
  {
   "cell_type": "code",
   "execution_count": null,
   "id": "0b3b3ff3",
   "metadata": {
    "scrolled": true
   },
   "outputs": [],
   "source": [
    "GinseongAllList"
   ]
  },
  {
   "cell_type": "code",
   "execution_count": null,
   "id": "dba4de9b",
   "metadata": {},
   "outputs": [],
   "source": [
    "GW=GinseongAllList[0][3][0] - GinseongAllList[0][0][0]\n",
    "GW"
   ]
  },
  {
   "cell_type": "code",
   "execution_count": null,
   "id": "17144175",
   "metadata": {},
   "outputs": [],
   "source": [
    "GH = abs(GinseongAllList[0][3][1] - GinseongAllList[0][0][1])\n",
    "GH"
   ]
  },
  {
   "cell_type": "code",
   "execution_count": null,
   "id": "1a49acf9",
   "metadata": {},
   "outputs": [],
   "source": [
    "GCL = int(math.sqrt(GW**2 + GH**2))\n",
    "GCL"
   ]
  },
  {
   "cell_type": "code",
   "execution_count": null,
   "id": "e723e9f9",
   "metadata": {},
   "outputs": [],
   "source": [
    "gcl0"
   ]
  },
  {
   "cell_type": "code",
   "execution_count": null,
   "id": "df65236a",
   "metadata": {},
   "outputs": [],
   "source": [
    "len(gclList)"
   ]
  },
  {
   "cell_type": "code",
   "execution_count": null,
   "id": "2c857404",
   "metadata": {},
   "outputs": [],
   "source": [
    "len(GinseongAllList)"
   ]
  },
  {
   "cell_type": "code",
   "execution_count": null,
   "id": "5857f8e3",
   "metadata": {},
   "outputs": [],
   "source": [
    "GinseongAllList[0]"
   ]
  },
  {
   "cell_type": "code",
   "execution_count": null,
   "id": "ec08d468",
   "metadata": {},
   "outputs": [],
   "source": [
    "gcl8"
   ]
  },
  {
   "cell_type": "code",
   "execution_count": null,
   "id": "36d07630",
   "metadata": {},
   "outputs": [],
   "source": [
    "gclList"
   ]
  },
  {
   "cell_type": "code",
   "execution_count": null,
   "id": "242dd5c1",
   "metadata": {},
   "outputs": [],
   "source": [
    "feeder=1 if i > 150 else feeder=0  for i in gclList:"
   ]
  },
  {
   "cell_type": "code",
   "execution_count": null,
   "id": "8403ada9",
   "metadata": {},
   "outputs": [],
   "source": [
    "for i in gclList:\n",
    "    if i > 150:\n",
    "        obejct_stt = 'lumps'\n",
    "    else: \n",
    "        object_stt = 'spread out'\n"
   ]
  },
  {
   "cell_type": "code",
   "execution_count": null,
   "id": "c5501f9a",
   "metadata": {},
   "outputs": [],
   "source": [
    "obejct_stt='lumps' if i > 150 else object_stt='spread out' for i in gclList:\n",
    "            \n"
   ]
  },
  {
   "cell_type": "code",
   "execution_count": null,
   "id": "29a94351",
   "metadata": {},
   "outputs": [],
   "source": []
  },
  {
   "cell_type": "code",
   "execution_count": null,
   "id": "d6d29ce1",
   "metadata": {},
   "outputs": [],
   "source": []
  },
  {
   "cell_type": "code",
   "execution_count": null,
   "id": "079c05fb",
   "metadata": {},
   "outputs": [],
   "source": []
  },
  {
   "cell_type": "code",
   "execution_count": null,
   "id": "8c9d2108",
   "metadata": {},
   "outputs": [],
   "source": []
  },
  {
   "cell_type": "code",
   "execution_count": null,
   "id": "23ddc30c",
   "metadata": {},
   "outputs": [],
   "source": []
  },
  {
   "cell_type": "code",
   "execution_count": null,
   "id": "85b0a8ce",
   "metadata": {},
   "outputs": [],
   "source": []
  },
  {
   "cell_type": "code",
   "execution_count": null,
   "id": "9e27c114",
   "metadata": {},
   "outputs": [],
   "source": []
  },
  {
   "cell_type": "code",
   "execution_count": null,
   "id": "b0dc5238",
   "metadata": {},
   "outputs": [],
   "source": []
  },
  {
   "cell_type": "code",
   "execution_count": null,
   "id": "4b083f09",
   "metadata": {},
   "outputs": [],
   "source": []
  },
  {
   "cell_type": "code",
   "execution_count": null,
   "id": "72a94198",
   "metadata": {},
   "outputs": [],
   "source": []
  },
  {
   "cell_type": "code",
   "execution_count": null,
   "id": "4568e27c",
   "metadata": {},
   "outputs": [],
   "source": []
  },
  {
   "cell_type": "code",
   "execution_count": null,
   "id": "6c773dcd",
   "metadata": {},
   "outputs": [],
   "source": []
  }
 ],
 "metadata": {
  "kernelspec": {
   "display_name": "Python 3 (ipykernel)",
   "language": "python",
   "name": "python3"
  },
  "language_info": {
   "codemirror_mode": {
    "name": "ipython",
    "version": 3
   },
   "file_extension": ".py",
   "mimetype": "text/x-python",
   "name": "python",
   "nbconvert_exporter": "python",
   "pygments_lexer": "ipython3",
   "version": "3.9.12"
  },
  "toc": {
   "base_numbering": 1,
   "nav_menu": {},
   "number_sections": true,
   "sideBar": true,
   "skip_h1_title": false,
   "title_cell": "Table of Contents",
   "title_sidebar": "Contents",
   "toc_cell": false,
   "toc_position": {},
   "toc_section_display": true,
   "toc_window_display": false
  },
  "vscode": {
   "interpreter": {
    "hash": "2f28686947a9d4fa78b0dd5bfc3c39f38db6b1ea450da2221c7ede16884d8f7e"
   }
  }
 },
 "nbformat": 4,
 "nbformat_minor": 5
}
