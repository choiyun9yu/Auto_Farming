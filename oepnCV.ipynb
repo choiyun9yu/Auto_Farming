{
 "cells": [
  {
   "cell_type": "markdown",
   "id": "0ee1390e",
   "metadata": {},
   "source": [
    "- HSV 색상공간의 구성\n",
    "\n",
    " <img src=\"../myCode/openCV/lecture_image/hsv.png\" width=70%>\n",
    "\n",
    "- 색상 값 \n",
    "  - Hue 값은 0-179 범위로 설정\n",
    "  - 만약 Hue 값을 -로 설정하면 뒤쪽부터 인덱싱됨\n",
    "\n",
    "<img src=\"../myCode/openCV/lecture_image/hsv2.png\" width=50%>\n",
    "\n",
    "<table style=\"border-collapse: collapse; width: 100%; height: 140px;\" border=\"1\" data-ke-align=\"alignLeft\" data-ke-style=\"style12\">\n",
    "<tbody>\n",
    "<tr style=\"height: 20px;\">\n",
    "<td style=\"width: 13.6047%; text-align: center; height: 20px;\"><b>명칭</b></td>\n",
    "<td style=\"width: 11.5115%; text-align: center; height: 20px;\"><b>값의 범위</b></td>\n",
    "<td style=\"width: 49.8837%; text-align: center; height: 20px;\"><b>참고</b></td>\n",
    "</tr>\n",
    "<tr style=\"height: 40px;\">\n",
    "<td style=\"width: 13.6047%; height: 40px; text-align: center;\"><b>색상(H)</b></td>\n",
    "<td style=\"width: 11.5115%; height: 40px; text-align: center;\">0 ~ 180</td>\n",
    "<td style=\"width: 49.8837%; height: 40px;\">원래 0~360범위이지만 OpenCV에서는 1/2 범위이다</td>\n",
    "</tr>\n",
    "<tr style=\"height: 40px;\">\n",
    "<td style=\"width: 13.6047%; height: 40px; text-align: center;\"><b>채도(S)</b></td>\n",
    "<td style=\"width: 11.5115%; height: 40px; text-align: center;\">0 ~ 255</td>\n",
    "<td style=\"width: 49.8837%; height: 40px;\">값이 0에 가까우면 하얀색, 255에 가까울수록 H의 색상이 된다.</td>\n",
    "</tr>\n",
    "<tr style=\"height: 40px;\">\n",
    "<td style=\"width: 13.6047%; height: 40px; text-align: center;\"><b>명도(V)</b></td>\n",
    "<td style=\"width: 11.5115%; height: 40px; text-align: center;\">0 ~ 255</td>\n",
    "<td style=\"width: 49.8837%; height: 40px;\">값이 0에 가까우면 검은색, 255에 가까울수록 &nbsp;H의 색상이 된다.</td>\n",
    "</tr>\n",
    "</tbody>"
   ]
  },
  {
   "cell_type": "markdown",
   "id": "3a4d46d3",
   "metadata": {},
   "source": [
    "# 중심점 검출"
   ]
  },
  {
   "cell_type": "code",
   "execution_count": 3,
   "id": "56cfcd9b",
   "metadata": {
    "scrolled": true
   },
   "outputs": [
    {
     "data": {
      "text/plain": [
       "<matplotlib.image.AxesImage at 0x1aca17ee1f0>"
      ]
     },
     "execution_count": 3,
     "metadata": {},
     "output_type": "execute_result"
    },
    {
     "data": {
      "image/png": "[encoded data removed]",
      "text/plain": [
       "<Figure size 432x288 with 3 Axes>"
      ]
     },
     "metadata": {},
     "output_type": "display_data"
    }
   ],
   "source": [
    "import numpy as np\n",
    "import cv2\n",
    "import matplotlib.pyplot as plt\n",
    "\n",
    "img = cv2.imread(\"../myCode/openCV/image/insam.jpg\", cv2.IMREAD_COLOR)\n",
    "img = cv2.cvtColor(img, cv2.COLOR_BGR2RGB)\n",
    "hsv = cv2.cvtColor(img, cv2.COLOR_RGB2HSV)\n",
    "\n",
    "plt.subplot(3,1,1)\n",
    "plt.xticks([]); plt.yticks([])\n",
    "plt.imshow(img)\n",
    "\n",
    "# 색상, 채도, 명도 순\n",
    "lower = np.array([20, 100,200])\n",
    "higher = np.array([30, 255, 255])\n",
    "mask = cv2.inRange(hsv, lower, higher)\n",
    "img_hsv = cv2.bitwise_and(img, img, mask=mask)\n",
    "\n",
    "plt.subplot(3,1,2)\n",
    "plt.xticks([]); plt.yticks([])\n",
    "plt.imshow(img_hsv)\n",
    "\n",
    "plt.subplot(3,1,3)\n",
    "img_gray = cv2.cvtColor(img_hsv, cv2.COLOR_RGB2GRAY)\n",
    "plt.xticks([]); plt.yticks([])\n",
    "plt.imshow(img_gray,cmap='gray')"
   ]
  },
  {
   "cell_type": "code",
   "execution_count": null,
   "id": "e8c5c36b",
   "metadata": {},
   "outputs": [],
   "source": [
    "#침식\n",
    "kernel = np.ones((3,3), np.uint8)\n",
    "# interations : 수행 횟수 (클수록 글씨들이 얇아짐)\n",
    "img_gray = cv2.erode(img_gray, kernel, iterations=1)\n",
    "\n",
    "#팽창 (마스크 크게 만들 수 있음, 마스크 노이즈 제거 가능)\n",
    "kernel = np.ones((3,3), np.uint8)\n",
    "# deilate : 수행 횟수 (클수록 글씨들이 두꺼워짐)\n",
    "img_gray = cv2.dilate(img_gray, kernel, iterations=3)\n",
    "img_gray = cv2.erode(img_gray, kernel, iterations=3)\n",
    "plt.xticks([]); plt.yticks([])\n",
    "plt.imshow(img_gray, cmap='gray')"
   ]
  },
  {
   "cell_type": "code",
   "execution_count": null,
   "id": "ad998715",
   "metadata": {},
   "outputs": [],
   "source": [
    "obj=[]\n",
    "\n",
    "for x in range(640):\n",
    "    y = 0\n",
    "    i = img_gray[x]  \n",
    "    for j in i:\n",
    "        if j > 0:\n",
    "            obj.append([x,y,j])\n",
    "        y += 1\n",
    "        \n",
    "yy = 0\n",
    "for i in range(len(obj)):\n",
    "    yy += obj[i][0]\n",
    "    print(yy)\n",
    "yy = yy // len(obj)\n",
    "\n",
    "xx = 0\n",
    "for i in range(len(obj)):\n",
    "    xx += obj[i][1]\n",
    "xx = xx // len(obj)\n",
    "\n",
    "print(f'({xx},{yy})')"
   ]
  },
  {
   "cell_type": "code",
   "execution_count": null,
   "id": "0374abb9",
   "metadata": {},
   "outputs": [],
   "source": [
    "img_to_point = cv2.circle(img, (xx, yy),5,(255,0,0), -1)\n",
    "plt.xticks([]); plt.yticks([])\n",
    "plt.imshow(img_to_point)"
   ]
  },
  {
   "cell_type": "code",
   "execution_count": null,
   "id": "c7ee460c",
   "metadata": {},
   "outputs": [],
   "source": []
  },
  {
   "cell_type": "markdown",
   "id": "a49ffa1b",
   "metadata": {},
   "source": [
    "# 원검출\n",
    "\n",
    "- <font color=red>cv2.HoughCircles(img, cv2.HOUGH_GRADIENT, 1, minDis, param1, param2, minRadius, maxRadius)</font>\n",
    "  - cv2.HOUGH_GRADIENT : 원을 찾는 방법\n",
    "  - 1 : 원이미지와 허프변환 이미지 간의비율 (1로 설정)\n",
    "  - minDist : 원 중심들 간의 최소 거리 (0보다 커야 함)\n",
    "  - param1 : Canny 에지 추출자의 maxVal 값\n",
    "  - parma2 : 허프변환 카운팅 값 (너무 작으면 원하지 않는 많은 원들이 검출됨)\n",
    "  - minRadius : 원의 최소 반지름\n",
    "  - maxRadius : 원의 최대 반지름\n",
    "  \n",
    "  \n",
    "- 원리\n",
    "  - 이미지에서 에지를 계산\n",
    "  - 에지에 법선을 긋고 (기울기) 직각인 선을 그림  , 법선:?\n",
    "    - 설정한 반지름의 범위에 따라 여러 개의 선을 그림\n",
    "  - 가장 선이 많이 만나는 점에 해당하는 반지름 크기의 원을 찾음  \n",
    "  \n",
    "<img src=\"../myCode/openCV/lecture_image/12_hough03.png\" width=30%>  "
   ]
  },
  {
   "cell_type": "code",
   "execution_count": null,
   "id": "d046f0aa",
   "metadata": {},
   "outputs": [],
   "source": [
    "import cv2\n",
    "import matplotlib.pyplot as plt\n",
    "import math\n",
    "import numpy as np\n",
    "\n",
    "img = cv2.imread('./image/insam3.jpg')\n",
    "img = cv2.cvtColor(img, cv2.COLOR_BGR2RGB)\n",
    "img_gray = cv2.cvtColor(img, cv2.COLOR_RGB2GRAY)\n",
    "\n",
    "# 원 찾기\n",
    "circles = cv2.HoughCircles(img_gray, cv2.HOUGH_GRADIENT, dp=1,\n",
    "                           minDist=10, param1=60, param2=95,\n",
    "                           minRadius=10, maxRadius=100)\n",
    "\n",
    "# 중심점 좌표와 반지름을 반환\n",
    "print(circles)\n",
    "\n",
    "if circles is not None:\n",
    "    # 좌표는 정수값이므로 실수를 정수로 변환해주는 작업\n",
    "    circles =np.uint16(np.around(circles))  # aroundd는 반올림해주는 함수\n",
    "\n",
    "    # 원그리기\n",
    "    for i in circles[0,:]:\n",
    "        cv2.circle(img, (i[0], i[1]), i[2], (0,0,255), 4)\n",
    "                   \n",
    "    plt.imshow(img)\n",
    "    plt.axis(\"off\")"
   ]
  },
  {
   "cell_type": "code",
   "execution_count": null,
   "id": "35ddc4ca",
   "metadata": {},
   "outputs": [],
   "source": []
  },
  {
   "cell_type": "markdown",
   "id": "7588a34c",
   "metadata": {},
   "source": [
    "# 직선 검출\n",
    "\n",
    "- <font color=red>cv2.HoughLines(image, rho, theta, threshold)</font>\n",
    "  - image : single-channel binary image, canny edge를 적용한 이미지\n",
    "  - rho : r 값의 범위 (0 ~ 1 실수)\n",
    "  - theta : 𝜃 값의 범위(0 ~ 180 정수)\n",
    "  - threshold : 만나는 점의 기준, 숫자가 작으면 많은 선이 검출되지만 정확도가 떨어지고 숫자가 크면 정확도가 올라감"
   ]
  },
  {
   "cell_type": "code",
   "execution_count": null,
   "id": "a2ccf503",
   "metadata": {},
   "outputs": [],
   "source": [
    "import cv2\n",
    "import matplotlib.pyplot as plt\n",
    "import math\n",
    "import numpy as np\n",
    "\n",
    "img = cv2.imread('./image/conv2.jpg')\n",
    "img = cv2.cvtColor(img, cv2.COLOR_BGR2RGB)\n",
    "img_gray = cv2.cvtColor(img, cv2.COLOR_RGB2GRAY)\n",
    "\n",
    "# 에지를 검출하고 에지 이미지에서 선을 검출\n",
    "dst = cv2.Canny(img_gray, 150, 200)\n",
    "\n",
    "plt.imshow(dst)\n",
    "\n",
    "# # 선 검출\n",
    "# lines = cv2.HoughLines(dst, 1, np.pi/180, 100)  #200최소 200개가 겹쳐야 선으로 인정하겠다?\n",
    "\n",
    "# # 검출된 선을 그린다\n",
    "# if lines is not None: #선을 찾았다면\n",
    "#     # 검색된 선의 수 만큼 반복\n",
    "#     for i in range(0, len(lines)):\n",
    "#         # 각도와 길이를 가져온다\n",
    "#         # [0][0] : 가장 가능성이 높은 각도와 길이를 가져온다.\n",
    "#         rho = lines[i][0][0] \n",
    "#         theta = lines[i][0][1]\n",
    "        \n",
    "#         # 시작접과 끝점을 그리기 위해서 x,y축의 삼각비를 계산\n",
    "#         tx = math.cos(theta)\n",
    "#         ty = math.sin(theta)\n",
    "        \n",
    "#         # 단위 좌표 출력\n",
    "#         x0 = rho * tx\n",
    "#         y0 = rho * ty\n",
    "\n",
    "#         # 기준좌표를 이용해서 선의 시작점과 끝점을 계산\n",
    "#         d = 1500  #충분시 선을 길게 표시하기 위한 값 (임의 값)\n",
    "#         x1 = int(x0 + d*(-ty))\n",
    "#         y1 = int(y0 + d*(tx))\n",
    "#         x2 = int(x0 - d*(-ty))\n",
    "#         y2 = int(y0 - d*(tx))\n",
    "        \n",
    "#         cv2.line(img, (x1, y1), (x2, y2), (0,0,255), 30, cv2.LINE_AA)\n",
    "        \n",
    "# plt.imshow(img)\n",
    "# plt.axis(\"off\")\n",
    "        "
   ]
  },
  {
   "cell_type": "code",
   "execution_count": null,
   "id": "30c205eb",
   "metadata": {},
   "outputs": [],
   "source": []
  },
  {
   "cell_type": "markdown",
   "id": "4c28846b",
   "metadata": {},
   "source": [
    "# 동영상 객체 추적\n",
    "\n",
    "- <font color=red>ret, win = cv2.CamShift(probImage, window, criteria)</font>\n",
    "  - probImage: 관심 객체에 대한 히스토그램 역투영 영상 (확률 영상)\n",
    "  - window: 초기 검색 영역 윈도우 & 결과 영역 반환\n",
    "  - criteria: 알고리즘 종료 기준 (type, maxCount, epsilon)\n",
    "   - cv2.TERM_CRITERIA_EPS : 주어진 정확도 (이동 크기)에 도달하면 반복 중단\n",
    "   - cv2.TERM_CRITERIA_COUNT : 반복 횟수에 도달하면 반복 중단\n",
    "   - (cv2.TERM_CRITERIA_EPS | cv2.TERM_CRITERIA_COUNT, 10, 1) ➔ 최대 10번 반복하며, 정확도가 1이하이면 (즉, 이동 크기가 1픽셀보다 작으면) 종료.\n",
    "    \n",
    "  - ret : 회전된 사각형 정보를 반환 - (x, y, width, height)\n",
    "  - win : 회전이 안된 사각형 정보를 반환 "
   ]
  },
  {
   "cell_type": "code",
   "execution_count": null,
   "id": "e6fda7f7",
   "metadata": {},
   "outputs": [],
   "source": [
    "#내꺼\n",
    "import cv2\n",
    "cap = cv2.VideoCapture(\"C:/Users/AI\\myCode/openCV/image/car.mp4\")\n",
    "\n",
    "init = 0 # 초기위치 설정 유무\n",
    "\n",
    "# 종료 조건\n",
    "term_crit = (cv2.TERM_CRITERIA_EPS | cv2.TERM_CRITERIA_COUNT, 10, 1)\n",
    "\n",
    "\n",
    "while cap.isOpened():  #영상이 열려 있을 때만 반복문 돌아감\n",
    "    ret, frame = cap.read()\n",
    "    \n",
    "    if not ret:\n",
    "        break\n",
    "        \n",
    "    img_draw = frame.copy()\n",
    "    \n",
    "    # 만약 초기 시작 위치를 설정하지 않았다면\n",
    "    if init == 0:\n",
    "        #텍스트 출력\n",
    "        cv2.putText(img_draw, \"Press set ROI\", (10,30),\n",
    "                   cv2.FONT_HERSHEY_SIMPLEX, 0.75, (0,0,255), 2, cv2.LINE_AA)\n",
    "        \n",
    "    else: \n",
    "        frame_hsv = cv2.cvtColor(frame, cv2.COLOR_RGB2HSV)\n",
    "        \n",
    "        #투영 이미지 생성\n",
    "        backproj = cv2.calcBackProject([frame_hsv], [0,1], hist,\n",
    "                                       [0, 179, 0, 255], 1)\n",
    "        \n",
    "        #Camshift를 이용해서 추적\n",
    "        ret2, rc = cv2.CamShift(backproj, rc, term_crit)\n",
    "        #추적된 위치 표시\n",
    "        cv2.rectangle(img_draw, (rc[0], rc[1]), (rc[0]+rc[2], rc[1]+rc[3]), (0, 0, 255), 2)\n",
    "        \n",
    "        \n",
    "    cv2.imshow(\"Tracking\", img_draw)\n",
    "\n",
    "    key = cv2.waitKey(33)\n",
    "    \n",
    "    # 스페이스 바를 누른 경우, 아직 초기 위치를 지정하지 않은 경우\n",
    "    if key == ord(' ') and init == 0:  \n",
    "        # 마우스로 추적할 위치를 지정\n",
    "        x, y, w, h = cv2.selectROI(\"Tracking\", frame, False)\n",
    "\n",
    "        # 초기 위치를 마우스로 선택했다면\n",
    "        if w and h :\n",
    "            rc = (x, y, w, h)\n",
    "\n",
    "\n",
    "            #선택한 영역을 HSV로 변환\n",
    "            roi = frame[y:y+h, x:x+w] # 해당이미지만큼 자르기\n",
    "            roi_hsv = cv2.cvtColor(roi, cv2.COLOR_RGB2HSV)\n",
    "\n",
    "            hist = cv2.calcHist([roi_hsv], [0,1], None,\n",
    "                                [90, 128], [0, 180, 0, 256])\n",
    "\n",
    "            # 노말라이저 시전은 해당 값들을 최소 값을 0으로 최대값을 1로해서 정규화 시키는 것 (역투영)\n",
    "            cv2.normalize(hist, hist, 0, 255, cv2.NORM_MINMAX)\n",
    "            init = 1\n",
    "    elif key == 49:\n",
    "        break\n",
    "\n",
    "cap.release()\n",
    "cv2.destroyAllWindows()\n"
   ]
  },
  {
   "cell_type": "code",
   "execution_count": null,
   "id": "a873b553",
   "metadata": {},
   "outputs": [],
   "source": []
  },
  {
   "cell_type": "markdown",
   "id": "1c40ccd9",
   "metadata": {},
   "source": [
    "# 웹캠 연결"
   ]
  },
  {
   "cell_type": "code",
   "execution_count": 5,
   "id": "5b336293",
   "metadata": {},
   "outputs": [
    {
     "data": {
      "application/vnd.jupyter.widget-view+json": {
       "model_id": "3b8e126800314385b0e8f01e99c871fd",
       "version_major": 2,
       "version_minor": 0
      },
      "text/plain": [
       "Image(value=b'', format='.jpeg', height='480', width='480')"
      ]
     },
     "metadata": {},
     "output_type": "display_data"
    }
   ],
   "source": [
    "# 위젯이용하여 영상 출력 \n",
    "import ipywidgets as widget\n",
    "from IPython.display import display\n",
    "import cv2\n",
    "\n",
    "img_widget = widget.Image(format=\".jpeg\", width=480, height=480)\n",
    "display(img_widget)\n",
    "\n",
    "cap = cv2.VideoCapture(1)\n",
    "\n",
    "while True: \n",
    "    ret, frame = cap.read()    \n",
    "    if not ret:\n",
    "        cap.release #비디오 격리해제 안하면 다시 재생 안됨\n",
    "        break\n",
    "        \n",
    "    try:\n",
    "        cv2.waitKey(33)\n",
    "        _, en_img = cv2.imencode(\".jpeg\", frame)\n",
    "    except KeyboardInterrupt :\n",
    "        cap.release()\n",
    "        break\n",
    "\n",
    "    img_widget.value = en_img.tobytes() #바이트 단위로 바꿔서 전송해주기 위함\n"
   ]
  },
  {
   "cell_type": "code",
   "execution_count": 4,
   "id": "290a9ae6",
   "metadata": {},
   "outputs": [
    {
     "name": "stdout",
     "output_type": "stream",
     "text": [
      "웹캠 연결 성공\n"
     ]
    }
   ],
   "source": [
    "import cv2\n",
    "\n",
    "try:\n",
    "    cap = cv2.VideoCapture(1)\n",
    "    print(\"웹캠 연결 성공\")\n",
    "    # 캡쳐한 비디오로부터 프레임이미지를 읽는다.\n",
    "    while True:\n",
    "        # ret(성공여부T/F),frame:읽은 이미지 반환 \n",
    "        ret, frame = cap.read()    \n",
    "\n",
    "        if not ret: #이미지를 읽지 못했다면\n",
    "            cap.release() #비디오 객체 메모리에서 해제\n",
    "            cv2.destroyAllWindows() #창닫기\n",
    "            break\n",
    "        \n",
    "        ############### 이미지 수정 코드 작성 공간 ###############\n",
    "#         hsv = cv2.cvtColor(frame, cv2.COLOR_RGB2HSV)\n",
    "#         lower = np.array([20, 100,200])\n",
    "#         higher = np.array([30, 255, 255])\n",
    "#         mask = cv2.inRange(hsv, lower, higher)\n",
    "#         img_hsv = cv2.bitwise_and(frame, frame, mask=mask)\n",
    "        img_gray = cv2.cvtColor(frame, cv2.COLOR_RGB2GRAY)\n",
    "#         #침식\n",
    "#         kernel = np.ones((3,3), np.uint8)\n",
    "#         # interations : 수행 횟수 (클수록 글씨들이 얇아짐)\n",
    "#         img_gray = cv2.erode(img_gray, kernel, iterations=1)\n",
    "#         #팽창 (마스크 크게 만들 수 있음, 마스크 노이즈 제거 가능)\n",
    "#         kernel = np.ones((3,3), np.uint8)\n",
    "#         # deilate : 수행 횟수 (클수록 글씨들이 두꺼워짐)\n",
    "#         img_gray = cv2.dilate(img_gray, kernel, iterations=3)\n",
    "#         img_gray = cv2.erode(img_gray, kernel, iterations=3)\n",
    "        ##########################################################\n",
    "        \n",
    "        cv2.imshow(\"video\", img_gray)\n",
    "\n",
    "        key=cv2.waitKey(66)  # 이 숫자 줄이면 빨리감 33은 1000/33 해서 1초에 30프레임 나오게 하는 것 숫자 줄이면 1초에 더많은 프레임 돌림\n",
    "\n",
    "        if key ==49 : #숫자1을 누르면\n",
    "            cap.release() #비디오 객체 메모리에서 해제\n",
    "            cv2.destroyAllWindows() #창닫기\n",
    "            break\n",
    "except:\n",
    "    print(\"웹캠 연결 실패\")"
   ]
  },
  {
   "cell_type": "code",
   "execution_count": null,
   "id": "c9dfdb37",
   "metadata": {},
   "outputs": [],
   "source": []
  },
  {
   "cell_type": "code",
   "execution_count": null,
   "id": "72fca8d5",
   "metadata": {},
   "outputs": [],
   "source": []
  },
  {
   "cell_type": "code",
   "execution_count": null,
   "id": "8acf1ad1",
   "metadata": {},
   "outputs": [],
   "source": []
  },
  {
   "cell_type": "code",
   "execution_count": null,
   "id": "b0bdd741",
   "metadata": {},
   "outputs": [],
   "source": []
  },
  {
   "cell_type": "code",
   "execution_count": null,
   "id": "f9aabb3f",
   "metadata": {},
   "outputs": [],
   "source": []
  },
  {
   "cell_type": "code",
   "execution_count": null,
   "id": "0b7f6a0c",
   "metadata": {},
   "outputs": [],
   "source": []
  },
  {
   "cell_type": "code",
   "execution_count": null,
   "id": "904c8410",
   "metadata": {},
   "outputs": [],
   "source": []
  },
  {
   "cell_type": "code",
   "execution_count": null,
   "id": "ec4558c5",
   "metadata": {},
   "outputs": [],
   "source": []
  }
 ],
 "metadata": {
  "kernelspec": {
   "display_name": "Python 3 (ipykernel)",
   "language": "python",
   "name": "python3"
  },
  "language_info": {
   "codemirror_mode": {
    "name": "ipython",
    "version": 3
   },
   "file_extension": ".py",
   "mimetype": "text/x-python",
   "name": "python",
   "nbconvert_exporter": "python",
   "pygments_lexer": "ipython3",
   "version": "3.9.12"
  },
  "toc": {
   "base_numbering": 1,
   "nav_menu": {},
   "number_sections": true,
   "sideBar": true,
   "skip_h1_title": false,
   "title_cell": "Table of Contents",
   "title_sidebar": "Contents",
   "toc_cell": false,
   "toc_position": {},
   "toc_section_display": true,
   "toc_window_display": false
  }
 },
 "nbformat": 4,
 "nbformat_minor": 5
}
