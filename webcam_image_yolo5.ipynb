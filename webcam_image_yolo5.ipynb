{
 "cells": [
  {
   "cell_type": "code",
   "execution_count": 43,
   "id": "47018013",
   "metadata": {},
   "outputs": [
    {
     "name": "stdout",
     "output_type": "stream",
     "text": [
      "C:\\Users\\AI\\Auto_Farming\\yolov5\n",
      "Requirement already satisfied: matplotlib>=3.2.2 in c:\\users\\ai\\anaconda3\\lib\\site-packages (from -r requirements.txt (line 5)) (3.5.1)\n",
      "Requirement already satisfied: numpy>=1.18.5 in c:\\users\\ai\\anaconda3\\lib\\site-packages (from -r requirements.txt (line 6)) (1.21.5)\n",
      "Requirement already satisfied: opencv-python>=4.1.1 in c:\\users\\ai\\anaconda3\\lib\\site-packages (from -r requirements.txt (line 7)) (4.6.0.66)\n",
      "Requirement already satisfied: Pillow>=7.1.2 in c:\\users\\ai\\anaconda3\\lib\\site-packages (from -r requirements.txt (line 8)) (9.0.1)\n",
      "Requirement already satisfied: PyYAML>=5.3.1 in c:\\users\\ai\\anaconda3\\lib\\site-packages (from -r requirements.txt (line 9)) (6.0)\n",
      "Requirement already satisfied: requests>=2.23.0 in c:\\users\\ai\\anaconda3\\lib\\site-packages (from -r requirements.txt (line 10)) (2.27.1)\n",
      "Requirement already satisfied: scipy>=1.4.1 in c:\\users\\ai\\anaconda3\\lib\\site-packages (from -r requirements.txt (line 11)) (1.7.3)\n",
      "Requirement already satisfied: torch>=1.7.0 in c:\\users\\ai\\anaconda3\\lib\\site-packages (from -r requirements.txt (line 12)) (1.12.1)\n",
      "Requirement already satisfied: torchvision>=0.8.1 in c:\\users\\ai\\anaconda3\\lib\\site-packages (from -r requirements.txt (line 13)) (0.13.1)\n",
      "Requirement already satisfied: tqdm>=4.64.0 in c:\\users\\ai\\anaconda3\\lib\\site-packages (from -r requirements.txt (line 14)) (4.64.0)\n",
      "Requirement already satisfied: tensorboard>=2.4.1 in c:\\users\\ai\\anaconda3\\lib\\site-packages (from -r requirements.txt (line 18)) (2.10.0)\n",
      "Requirement already satisfied: pandas>=1.1.4 in c:\\users\\ai\\anaconda3\\lib\\site-packages (from -r requirements.txt (line 23)) (1.4.2)\n",
      "Requirement already satisfied: seaborn>=0.11.0 in c:\\users\\ai\\anaconda3\\lib\\site-packages (from -r requirements.txt (line 24)) (0.11.2)\n",
      "Requirement already satisfied: ipython in c:\\users\\ai\\anaconda3\\lib\\site-packages (from -r requirements.txt (line 41)) (8.2.0)\n",
      "Requirement already satisfied: psutil in c:\\users\\ai\\anaconda3\\lib\\site-packages (from -r requirements.txt (line 42)) (5.8.0)\n",
      "Requirement already satisfied: thop>=0.1.1 in c:\\users\\ai\\anaconda3\\lib\\site-packages (from -r requirements.txt (line 43)) (0.1.1.post2209072238)\n",
      "Requirement already satisfied: kiwisolver>=1.0.1 in c:\\users\\ai\\anaconda3\\lib\\site-packages (from matplotlib>=3.2.2->-r requirements.txt (line 5)) (1.3.2)\n",
      "Requirement already satisfied: cycler>=0.10 in c:\\users\\ai\\anaconda3\\lib\\site-packages (from matplotlib>=3.2.2->-r requirements.txt (line 5)) (0.11.0)\n",
      "Requirement already satisfied: pyparsing>=2.2.1 in c:\\users\\ai\\anaconda3\\lib\\site-packages (from matplotlib>=3.2.2->-r requirements.txt (line 5)) (3.0.4)\n",
      "Requirement already satisfied: packaging>=20.0 in c:\\users\\ai\\anaconda3\\lib\\site-packages (from matplotlib>=3.2.2->-r requirements.txt (line 5)) (21.3)\n",
      "Requirement already satisfied: fonttools>=4.22.0 in c:\\users\\ai\\anaconda3\\lib\\site-packages (from matplotlib>=3.2.2->-r requirements.txt (line 5)) (4.25.0)\n",
      "Requirement already satisfied: python-dateutil>=2.7 in c:\\users\\ai\\anaconda3\\lib\\site-packages (from matplotlib>=3.2.2->-r requirements.txt (line 5)) (2.8.2)\n",
      "Requirement already satisfied: certifi>=2017.4.17 in c:\\users\\ai\\anaconda3\\lib\\site-packages (from requests>=2.23.0->-r requirements.txt (line 10)) (2022.9.24)\n",
      "Requirement already satisfied: urllib3<1.27,>=1.21.1 in c:\\users\\ai\\anaconda3\\lib\\site-packages (from requests>=2.23.0->-r requirements.txt (line 10)) (1.26.9)\n",
      "Requirement already satisfied: idna<4,>=2.5 in c:\\users\\ai\\anaconda3\\lib\\site-packages (from requests>=2.23.0->-r requirements.txt (line 10)) (3.3)\n",
      "Requirement already satisfied: charset-normalizer~=2.0.0 in c:\\users\\ai\\anaconda3\\lib\\site-packages (from requests>=2.23.0->-r requirements.txt (line 10)) (2.0.4)\n",
      "Requirement already satisfied: typing_extensions in c:\\users\\ai\\anaconda3\\lib\\site-packages (from torch>=1.7.0->-r requirements.txt (line 12)) (4.1.1)\n",
      "Requirement already satisfied: colorama in c:\\users\\ai\\anaconda3\\lib\\site-packages (from tqdm>=4.64.0->-r requirements.txt (line 14)) (0.4.4)\n",
      "Requirement already satisfied: grpcio>=1.24.3 in c:\\users\\ai\\anaconda3\\lib\\site-packages (from tensorboard>=2.4.1->-r requirements.txt (line 18)) (1.42.0)\n",
      "Requirement already satisfied: protobuf<3.20,>=3.9.2 in c:\\users\\ai\\anaconda3\\lib\\site-packages (from tensorboard>=2.4.1->-r requirements.txt (line 18)) (3.19.1)\n",
      "Requirement already satisfied: tensorboard-data-server<0.7.0,>=0.6.0 in c:\\users\\ai\\anaconda3\\lib\\site-packages (from tensorboard>=2.4.1->-r requirements.txt (line 18)) (0.6.1)\n",
      "Requirement already satisfied: tensorboard-plugin-wit>=1.6.0 in c:\\users\\ai\\anaconda3\\lib\\site-packages (from tensorboard>=2.4.1->-r requirements.txt (line 18)) (1.8.1)\n",
      "Requirement already satisfied: werkzeug>=1.0.1 in c:\\users\\ai\\anaconda3\\lib\\site-packages (from tensorboard>=2.4.1->-r requirements.txt (line 18)) (2.0.3)\n",
      "Requirement already satisfied: google-auth-oauthlib<0.5,>=0.4.1 in c:\\users\\ai\\anaconda3\\lib\\site-packages (from tensorboard>=2.4.1->-r requirements.txt (line 18)) (0.4.6)\n",
      "Requirement already satisfied: wheel>=0.26 in c:\\users\\ai\\anaconda3\\lib\\site-packages (from tensorboard>=2.4.1->-r requirements.txt (line 18)) (0.37.1)\n",
      "Requirement already satisfied: google-auth<3,>=1.6.3 in c:\\users\\ai\\anaconda3\\lib\\site-packages (from tensorboard>=2.4.1->-r requirements.txt (line 18)) (1.33.0)\n",
      "Requirement already satisfied: setuptools>=41.0.0 in c:\\users\\ai\\anaconda3\\lib\\site-packages (from tensorboard>=2.4.1->-r requirements.txt (line 18)) (61.2.0)\n",
      "Requirement already satisfied: markdown>=2.6.8 in c:\\users\\ai\\anaconda3\\lib\\site-packages (from tensorboard>=2.4.1->-r requirements.txt (line 18)) (3.3.4)\n",
      "Requirement already satisfied: absl-py>=0.4 in c:\\users\\ai\\anaconda3\\lib\\site-packages (from tensorboard>=2.4.1->-r requirements.txt (line 18)) (1.2.0)\n",
      "Requirement already satisfied: pytz>=2020.1 in c:\\users\\ai\\anaconda3\\lib\\site-packages (from pandas>=1.1.4->-r requirements.txt (line 23)) (2021.3)\n",
      "Requirement already satisfied: traitlets>=5 in c:\\users\\ai\\anaconda3\\lib\\site-packages (from ipython->-r requirements.txt (line 41)) (5.1.1)\n",
      "Requirement already satisfied: pygments>=2.4.0 in c:\\users\\ai\\anaconda3\\lib\\site-packages (from ipython->-r requirements.txt (line 41)) (2.11.2)\n",
      "Requirement already satisfied: pickleshare in c:\\users\\ai\\anaconda3\\lib\\site-packages (from ipython->-r requirements.txt (line 41)) (0.7.5)\n",
      "Requirement already satisfied: matplotlib-inline in c:\\users\\ai\\anaconda3\\lib\\site-packages (from ipython->-r requirements.txt (line 41)) (0.1.2)\n",
      "Requirement already satisfied: stack-data in c:\\users\\ai\\anaconda3\\lib\\site-packages (from ipython->-r requirements.txt (line 41)) (0.2.0)\n",
      "Requirement already satisfied: jedi>=0.16 in c:\\users\\ai\\anaconda3\\lib\\site-packages (from ipython->-r requirements.txt (line 41)) (0.18.1)\n",
      "Requirement already satisfied: prompt-toolkit!=3.0.0,!=3.0.1,<3.1.0,>=2.0.0 in c:\\users\\ai\\anaconda3\\lib\\site-packages (from ipython->-r requirements.txt (line 41)) (3.0.20)\n",
      "Requirement already satisfied: decorator in c:\\users\\ai\\anaconda3\\lib\\site-packages (from ipython->-r requirements.txt (line 41)) (5.1.1)\n",
      "Requirement already satisfied: backcall in c:\\users\\ai\\anaconda3\\lib\\site-packages (from ipython->-r requirements.txt (line 41)) (0.2.0)\n",
      "Requirement already satisfied: cachetools<5.0,>=2.0.0 in c:\\users\\ai\\anaconda3\\lib\\site-packages (from google-auth<3,>=1.6.3->tensorboard>=2.4.1->-r requirements.txt (line 18)) (4.2.2)\n",
      "Requirement already satisfied: six>=1.9.0 in c:\\users\\ai\\anaconda3\\lib\\site-packages (from google-auth<3,>=1.6.3->tensorboard>=2.4.1->-r requirements.txt (line 18)) (1.16.0)\n",
      "Requirement already satisfied: rsa<5,>=3.1.4 in c:\\users\\ai\\anaconda3\\lib\\site-packages (from google-auth<3,>=1.6.3->tensorboard>=2.4.1->-r requirements.txt (line 18)) (4.7.2)\n",
      "Requirement already satisfied: pyasn1-modules>=0.2.1 in c:\\users\\ai\\anaconda3\\lib\\site-packages (from google-auth<3,>=1.6.3->tensorboard>=2.4.1->-r requirements.txt (line 18)) (0.2.8)\n",
      "Requirement already satisfied: requests-oauthlib>=0.7.0 in c:\\users\\ai\\anaconda3\\lib\\site-packages (from google-auth-oauthlib<0.5,>=0.4.1->tensorboard>=2.4.1->-r requirements.txt (line 18)) (1.3.1)\n",
      "Requirement already satisfied: parso<0.9.0,>=0.8.0 in c:\\users\\ai\\anaconda3\\lib\\site-packages (from jedi>=0.16->ipython->-r requirements.txt (line 41)) (0.8.3)\n",
      "Requirement already satisfied: wcwidth in c:\\users\\ai\\anaconda3\\lib\\site-packages (from prompt-toolkit!=3.0.0,!=3.0.1,<3.1.0,>=2.0.0->ipython->-r requirements.txt (line 41)) (0.2.5)\n",
      "Requirement already satisfied: asttokens in c:\\users\\ai\\anaconda3\\lib\\site-packages (from stack-data->ipython->-r requirements.txt (line 41)) (2.0.5)\n",
      "Requirement already satisfied: pure-eval in c:\\users\\ai\\anaconda3\\lib\\site-packages (from stack-data->ipython->-r requirements.txt (line 41)) (0.2.2)\n",
      "Requirement already satisfied: executing in c:\\users\\ai\\anaconda3\\lib\\site-packages (from stack-data->ipython->-r requirements.txt (line 41)) (0.8.3)\n",
      "Requirement already satisfied: pyasn1<0.5.0,>=0.4.6 in c:\\users\\ai\\anaconda3\\lib\\site-packages (from pyasn1-modules>=0.2.1->google-auth<3,>=1.6.3->tensorboard>=2.4.1->-r requirements.txt (line 18)) (0.4.8)\n",
      "Requirement already satisfied: oauthlib>=3.0.0 in c:\\users\\ai\\anaconda3\\lib\\site-packages (from requests-oauthlib>=0.7.0->google-auth-oauthlib<0.5,>=0.4.1->tensorboard>=2.4.1->-r requirements.txt (line 18)) (3.2.0)\n"
     ]
    },
    {
     "name": "stderr",
     "output_type": "stream",
     "text": [
      "WARNING: Ignore distutils configs in setup.cfg due to encoding errors.\n",
      "WARNING: Ignore distutils configs in setup.cfg due to encoding errors.\n"
     ]
    }
   ],
   "source": [
    "%pwd \n",
    "%cd yolov5/\n",
    "!pip install -r requirements.txt"
   ]
  },
  {
   "cell_type": "markdown",
   "id": "2176d07d",
   "metadata": {},
   "source": [
    "- <font color=red>cv2.imwrite(“파일명.확장자”, 프레임이미지, 옵션)</font>\n",
    "  - params=[cv2.IMWRITE_PNG_COMPRESSION, 0]) : 압축 하지 않는 PNG, 세 번째 파라미터는 압축률로 0~9까지 설정 가능 (0은 압축 없음)"
   ]
  },
  {
   "cell_type": "code",
   "execution_count": 4,
   "id": "440a7dbe",
   "metadata": {},
   "outputs": [],
   "source": [
    "import os\n",
    "import glob\n",
    "import cv2\n",
    "import math\n",
    "import numpy as np\n",
    "import matplotlib.pyplot as plt\n",
    "\n",
    "exp_path = \"C:/Users/AI/Auto_Farming/yolov5/runs/detect/exp/\"\n",
    "path = 'C:/Users/AI/Auto_Farming/yolov5/'\n",
    "weight = 'C:/Users/AI/Auto_Farming/yolov5/runs/train/insam_yolov5s_results/weights/best.pt'\n",
    "source = 'C:/Users\\AI/Auto_Farming/image/capture.png' \n",
    "save_img = 'C:/Users\\AI/Auto_Farming/image/capture.png'\n",
    "coordinate_path = \"C:/Users/AI/Auto_Farming/yolov5/runs/detect/exp/labels/\"\n",
    "frame_img_path = \"C:/Users/AI/Auto_Farming/image/capture.png\""
   ]
  },
  {
   "cell_type": "code",
   "execution_count": 51,
   "id": "865d45a7",
   "metadata": {
    "collapsed": true
   },
   "outputs": [
    {
     "name": "stdout",
     "output_type": "stream",
     "text": [
      "\n",
      "\u001b[34m\u001b[1mdetect3: \u001b[0mweights=['C:/Users/AI/Auto_Farming/yolov5/runs/train/insam_yolov5s_results/weights/best.pt'], source=C:/Users\\AI/Auto_Farming/image/capture.png, data=data\\coco128.yaml, imgsz=[1088, 1088], conf_thres=0.25, iou_thres=0.45, max_det=1000, device=, view_img=False, save_txt=True, save_conf=False, save_crop=False, nosave=False, classes=None, agnostic_nms=False, augment=False, visualize=False, update=False, project=runs\\detect, name=exp, exist_ok=True, line_thickness=3, hide_labels=True, hide_conf=True, half=False, dnn=False, vid_stride=1\n",
      "YOLOv5  v6.2-219-ga83d2a5 Python-3.9.12 torch-1.12.1 CPU\n",
      "\n",
      "Fusing layers... \n",
      "YOLOv5s summary: 157 layers, 7015519 parameters, 0 gradients, 15.8 GFLOPs\n",
      "image 1/1 C:\\Users\\AI\\Auto_Farming\\image\\capture.png: 1088x1088 6 Ginsengs, 7 heads, 593.4ms\n",
      "Speed: 4.0ms pre-process, 593.4ms inference, 11.0ms NMS per image at shape (1, 3, 1088, 1088)\n",
      "Results saved to \u001b[1mruns\\detect\\exp\u001b[0m\n",
      "225 labels saved to runs\\detect\\exp\\labels\n",
      "\u001b[34m\u001b[1mdetect3: \u001b[0mweights=['C:/Users/AI/Auto_Farming/yolov5/runs/train/insam_yolov5s_results/weights/best.pt'], source=C:/Users\\AI/Auto_Farming/image/capture.png, data=data\\coco128.yaml, imgsz=[1088, 1088], conf_thres=0.25, iou_thres=0.45, max_det=1000, device=, view_img=False, save_txt=True, save_conf=False, save_crop=False, nosave=False, classes=None, agnostic_nms=False, augment=False, visualize=False, update=False, project=runs\\detect, name=exp, exist_ok=True, line_thickness=3, hide_labels=True, hide_conf=True, half=False, dnn=False, vid_stride=1\n",
      "YOLOv5  v6.2-219-ga83d2a5 Python-3.9.12 torch-1.12.1 CPU\n",
      "\n",
      "Fusing layers... \n",
      "YOLOv5s summary: 157 layers, 7015519 parameters, 0 gradients, 15.8 GFLOPs\n",
      "image 1/1 C:\\Users\\AI\\Auto_Farming\\image\\capture.png: 1088x1088 9 Ginsengs, 11 heads, 623.6ms\n",
      "Speed: 4.0ms pre-process, 623.6ms inference, 2.0ms NMS per image at shape (1, 3, 1088, 1088)\n",
      "Results saved to \u001b[1mruns\\detect\\exp\u001b[0m\n",
      "225 labels saved to runs\\detect\\exp\\labels\n",
      "\u001b[34m\u001b[1mdetect3: \u001b[0mweights=['C:/Users/AI/Auto_Farming/yolov5/runs/train/insam_yolov5s_results/weights/best.pt'], source=C:/Users\\AI/Auto_Farming/image/capture.png, data=data\\coco128.yaml, imgsz=[1088, 1088], conf_thres=0.25, iou_thres=0.45, max_det=1000, device=, view_img=False, save_txt=True, save_conf=False, save_crop=False, nosave=False, classes=None, agnostic_nms=False, augment=False, visualize=False, update=False, project=runs\\detect, name=exp, exist_ok=True, line_thickness=3, hide_labels=True, hide_conf=True, half=False, dnn=False, vid_stride=1\n",
      "YOLOv5  v6.2-219-ga83d2a5 Python-3.9.12 torch-1.12.1 CPU\n",
      "\n",
      "Fusing layers... \n",
      "YOLOv5s summary: 157 layers, 7015519 parameters, 0 gradients, 15.8 GFLOPs\n",
      "image 1/1 C:\\Users\\AI\\Auto_Farming\\image\\capture.png: 1088x1088 9 Ginsengs, 11 heads, 577.2ms\n",
      "Speed: 3.0ms pre-process, 577.2ms inference, 1.0ms NMS per image at shape (1, 3, 1088, 1088)\n",
      "Results saved to \u001b[1mruns\\detect\\exp\u001b[0m\n",
      "225 labels saved to runs\\detect\\exp\\labels\n",
      "\u001b[34m\u001b[1mdetect3: \u001b[0mweights=['C:/Users/AI/Auto_Farming/yolov5/runs/train/insam_yolov5s_results/weights/best.pt'], source=C:/Users\\AI/Auto_Farming/image/capture.png, data=data\\coco128.yaml, imgsz=[1088, 1088], conf_thres=0.25, iou_thres=0.45, max_det=1000, device=, view_img=False, save_txt=True, save_conf=False, save_crop=False, nosave=False, classes=None, agnostic_nms=False, augment=False, visualize=False, update=False, project=runs\\detect, name=exp, exist_ok=True, line_thickness=3, hide_labels=True, hide_conf=True, half=False, dnn=False, vid_stride=1\n",
      "YOLOv5  v6.2-219-ga83d2a5 Python-3.9.12 torch-1.12.1 CPU\n",
      "\n",
      "Fusing layers... \n",
      "YOLOv5s summary: 157 layers, 7015519 parameters, 0 gradients, 15.8 GFLOPs\n",
      "image 1/1 C:\\Users\\AI\\Auto_Farming\\image\\capture.png: 1088x1088 9 Ginsengs, 11 heads, 566.5ms\n",
      "Speed: 4.0ms pre-process, 566.5ms inference, 1.0ms NMS per image at shape (1, 3, 1088, 1088)\n",
      "Results saved to \u001b[1mruns\\detect\\exp\u001b[0m\n",
      "225 labels saved to runs\\detect\\exp\\labels\n",
      "\u001b[34m\u001b[1mdetect3: \u001b[0mweights=['C:/Users/AI/Auto_Farming/yolov5/runs/train/insam_yolov5s_results/weights/best.pt'], source=C:/Users\\AI/Auto_Farming/image/capture.png, data=data\\coco128.yaml, imgsz=[1088, 1088], conf_thres=0.25, iou_thres=0.45, max_det=1000, device=, view_img=False, save_txt=True, save_conf=False, save_crop=False, nosave=False, classes=None, agnostic_nms=False, augment=False, visualize=False, update=False, project=runs\\detect, name=exp, exist_ok=True, line_thickness=3, hide_labels=True, hide_conf=True, half=False, dnn=False, vid_stride=1\n",
      "YOLOv5  v6.2-219-ga83d2a5 Python-3.9.12 torch-1.12.1 CPU\n",
      "\n",
      "Fusing layers... \n",
      "YOLOv5s summary: 157 layers, 7015519 parameters, 0 gradients, 15.8 GFLOPs\n",
      "image 1/1 C:\\Users\\AI\\Auto_Farming\\image\\capture.png: 1088x1088 9 Ginsengs, 10 heads, 594.4ms\n",
      "Speed: 3.0ms pre-process, 594.4ms inference, 1.0ms NMS per image at shape (1, 3, 1088, 1088)\n",
      "Results saved to \u001b[1mruns\\detect\\exp\u001b[0m\n",
      "225 labels saved to runs\\detect\\exp\\labels\n",
      "\u001b[34m\u001b[1mdetect3: \u001b[0mweights=['C:/Users/AI/Auto_Farming/yolov5/runs/train/insam_yolov5s_results/weights/best.pt'], source=C:/Users\\AI/Auto_Farming/image/capture.png, data=data\\coco128.yaml, imgsz=[1088, 1088], conf_thres=0.25, iou_thres=0.45, max_det=1000, device=, view_img=False, save_txt=True, save_conf=False, save_crop=False, nosave=False, classes=None, agnostic_nms=False, augment=False, visualize=False, update=False, project=runs\\detect, name=exp, exist_ok=True, line_thickness=3, hide_labels=True, hide_conf=True, half=False, dnn=False, vid_stride=1\n",
      "YOLOv5  v6.2-219-ga83d2a5 Python-3.9.12 torch-1.12.1 CPU\n",
      "\n",
      "Fusing layers... \n",
      "YOLOv5s summary: 157 layers, 7015519 parameters, 0 gradients, 15.8 GFLOPs\n",
      "image 1/1 C:\\Users\\AI\\Auto_Farming\\image\\capture.png: 1088x1088 8 Ginsengs, 7 heads, 595.1ms\n",
      "Speed: 4.0ms pre-process, 595.1ms inference, 1.0ms NMS per image at shape (1, 3, 1088, 1088)\n",
      "Results saved to \u001b[1mruns\\detect\\exp\u001b[0m\n",
      "225 labels saved to runs\\detect\\exp\\labels\n",
      "\u001b[34m\u001b[1mdetect3: \u001b[0mweights=['C:/Users/AI/Auto_Farming/yolov5/runs/train/insam_yolov5s_results/weights/best.pt'], source=C:/Users\\AI/Auto_Farming/image/capture.png, data=data\\coco128.yaml, imgsz=[1088, 1088], conf_thres=0.25, iou_thres=0.45, max_det=1000, device=, view_img=False, save_txt=True, save_conf=False, save_crop=False, nosave=False, classes=None, agnostic_nms=False, augment=False, visualize=False, update=False, project=runs\\detect, name=exp, exist_ok=True, line_thickness=3, hide_labels=True, hide_conf=True, half=False, dnn=False, vid_stride=1\n",
      "YOLOv5  v6.2-219-ga83d2a5 Python-3.9.12 torch-1.12.1 CPU\n",
      "\n",
      "Fusing layers... \n",
      "YOLOv5s summary: 157 layers, 7015519 parameters, 0 gradients, 15.8 GFLOPs\n",
      "image 1/1 C:\\Users\\AI\\Auto_Farming\\image\\capture.png: 1088x1088 11 Ginsengs, 11 heads, 593.4ms\n",
      "Speed: 4.0ms pre-process, 593.4ms inference, 1.0ms NMS per image at shape (1, 3, 1088, 1088)\n",
      "Results saved to \u001b[1mruns\\detect\\exp\u001b[0m\n",
      "225 labels saved to runs\\detect\\exp\\labels\n",
      "\u001b[34m\u001b[1mdetect3: \u001b[0mweights=['C:/Users/AI/Auto_Farming/yolov5/runs/train/insam_yolov5s_results/weights/best.pt'], source=C:/Users\\AI/Auto_Farming/image/capture.png, data=data\\coco128.yaml, imgsz=[1088, 1088], conf_thres=0.25, iou_thres=0.45, max_det=1000, device=, view_img=False, save_txt=True, save_conf=False, save_crop=False, nosave=False, classes=None, agnostic_nms=False, augment=False, visualize=False, update=False, project=runs\\detect, name=exp, exist_ok=True, line_thickness=3, hide_labels=True, hide_conf=True, half=False, dnn=False, vid_stride=1\n",
      "YOLOv5  v6.2-219-ga83d2a5 Python-3.9.12 torch-1.12.1 CPU\n",
      "\n",
      "Fusing layers... \n",
      "YOLOv5s summary: 157 layers, 7015519 parameters, 0 gradients, 15.8 GFLOPs\n",
      "image 1/1 C:\\Users\\AI\\Auto_Farming\\image\\capture.png: 1088x1088 11 Ginsengs, 11 heads, 589.9ms\n",
      "Speed: 4.1ms pre-process, 589.9ms inference, 1.0ms NMS per image at shape (1, 3, 1088, 1088)\n",
      "Results saved to \u001b[1mruns\\detect\\exp\u001b[0m\n",
      "225 labels saved to runs\\detect\\exp\\labels\n",
      "\u001b[34m\u001b[1mdetect3: \u001b[0mweights=['C:/Users/AI/Auto_Farming/yolov5/runs/train/insam_yolov5s_results/weights/best.pt'], source=C:/Users\\AI/Auto_Farming/image/capture.png, data=data\\coco128.yaml, imgsz=[1088, 1088], conf_thres=0.25, iou_thres=0.45, max_det=1000, device=, view_img=False, save_txt=True, save_conf=False, save_crop=False, nosave=False, classes=None, agnostic_nms=False, augment=False, visualize=False, update=False, project=runs\\detect, name=exp, exist_ok=True, line_thickness=3, hide_labels=True, hide_conf=True, half=False, dnn=False, vid_stride=1\n",
      "YOLOv5  v6.2-219-ga83d2a5 Python-3.9.12 torch-1.12.1 CPU\n",
      "\n",
      "Fusing layers... \n",
      "YOLOv5s summary: 157 layers, 7015519 parameters, 0 gradients, 15.8 GFLOPs\n",
      "image 1/1 C:\\Users\\AI\\Auto_Farming\\image\\capture.png: 1088x1088 11 Ginsengs, 12 heads, 618.9ms\n",
      "Speed: 4.0ms pre-process, 618.9ms inference, 2.0ms NMS per image at shape (1, 3, 1088, 1088)\n",
      "Results saved to \u001b[1mruns\\detect\\exp\u001b[0m\n",
      "225 labels saved to runs\\detect\\exp\\labels\n"
     ]
    },
    {
     "name": "stdout",
     "output_type": "stream",
     "text": [
      "\u001b[34m\u001b[1mdetect3: \u001b[0mweights=['C:/Users/AI/Auto_Farming/yolov5/runs/train/insam_yolov5s_results/weights/best.pt'], source=C:/Users\\AI/Auto_Farming/image/capture.png, data=data\\coco128.yaml, imgsz=[1088, 1088], conf_thres=0.25, iou_thres=0.45, max_det=1000, device=, view_img=False, save_txt=True, save_conf=False, save_crop=False, nosave=False, classes=None, agnostic_nms=False, augment=False, visualize=False, update=False, project=runs\\detect, name=exp, exist_ok=True, line_thickness=3, hide_labels=True, hide_conf=True, half=False, dnn=False, vid_stride=1\n",
      "YOLOv5  v6.2-219-ga83d2a5 Python-3.9.12 torch-1.12.1 CPU\n",
      "\n",
      "Fusing layers... \n",
      "YOLOv5s summary: 157 layers, 7015519 parameters, 0 gradients, 15.8 GFLOPs\n",
      "image 1/1 C:\\Users\\AI\\Auto_Farming\\image\\capture.png: 1088x1088 10 Ginsengs, 10 heads, 595.4ms\n",
      "Speed: 4.0ms pre-process, 595.4ms inference, 1.0ms NMS per image at shape (1, 3, 1088, 1088)\n",
      "Results saved to \u001b[1mruns\\detect\\exp\u001b[0m\n",
      "225 labels saved to runs\\detect\\exp\\labels\n",
      "\u001b[34m\u001b[1mdetect3: \u001b[0mweights=['C:/Users/AI/Auto_Farming/yolov5/runs/train/insam_yolov5s_results/weights/best.pt'], source=C:/Users\\AI/Auto_Farming/image/capture.png, data=data\\coco128.yaml, imgsz=[1088, 1088], conf_thres=0.25, iou_thres=0.45, max_det=1000, device=, view_img=False, save_txt=True, save_conf=False, save_crop=False, nosave=False, classes=None, agnostic_nms=False, augment=False, visualize=False, update=False, project=runs\\detect, name=exp, exist_ok=True, line_thickness=3, hide_labels=True, hide_conf=True, half=False, dnn=False, vid_stride=1\n",
      "YOLOv5  v6.2-219-ga83d2a5 Python-3.9.12 torch-1.12.1 CPU\n",
      "\n",
      "Fusing layers... \n",
      "YOLOv5s summary: 157 layers, 7015519 parameters, 0 gradients, 15.8 GFLOPs\n",
      "image 1/1 C:\\Users\\AI\\Auto_Farming\\image\\capture.png: 1088x1088 10 Ginsengs, 11 heads, 615.5ms\n",
      "Speed: 4.0ms pre-process, 615.5ms inference, 2.0ms NMS per image at shape (1, 3, 1088, 1088)\n",
      "Results saved to \u001b[1mruns\\detect\\exp\u001b[0m\n",
      "225 labels saved to runs\\detect\\exp\\labels\n",
      "\u001b[34m\u001b[1mdetect3: \u001b[0mweights=['C:/Users/AI/Auto_Farming/yolov5/runs/train/insam_yolov5s_results/weights/best.pt'], source=C:/Users\\AI/Auto_Farming/image/capture.png, data=data\\coco128.yaml, imgsz=[1088, 1088], conf_thres=0.25, iou_thres=0.45, max_det=1000, device=, view_img=False, save_txt=True, save_conf=False, save_crop=False, nosave=False, classes=None, agnostic_nms=False, augment=False, visualize=False, update=False, project=runs\\detect, name=exp, exist_ok=True, line_thickness=3, hide_labels=True, hide_conf=True, half=False, dnn=False, vid_stride=1\n",
      "YOLOv5  v6.2-219-ga83d2a5 Python-3.9.12 torch-1.12.1 CPU\n",
      "\n",
      "Fusing layers... \n",
      "YOLOv5s summary: 157 layers, 7015519 parameters, 0 gradients, 15.8 GFLOPs\n",
      "image 1/1 C:\\Users\\AI\\Auto_Farming\\image\\capture.png: 1088x1088 10 Ginsengs, 12 heads, 578.2ms\n",
      "Speed: 4.0ms pre-process, 578.2ms inference, 1.0ms NMS per image at shape (1, 3, 1088, 1088)\n",
      "Results saved to \u001b[1mruns\\detect\\exp\u001b[0m\n",
      "225 labels saved to runs\\detect\\exp\\labels\n"
     ]
    }
   ],
   "source": [
    "cap = cv2.VideoCapture(1)\n",
    "while True :\n",
    "    try:\n",
    "        os.unlink(exp_path+\"labels/capture.txt\")\n",
    "    except:\n",
    "        with open(\"C:/Users/AI/Auto_Farming/yolov5/runs/detect/exp/labels/capture.txt\", 'w') as f:\n",
    "            f.write('')\n",
    "    ret, frame = cap.read()\n",
    "    if not ret:\n",
    "        break \n",
    "    resize_frame = resize_frame[:,:480]\n",
    "    key = cv2.waitKey(99)\n",
    "    cv2.imshow(\"test\", resize_frame)\n",
    "    cv2.imwrite(save_img, resize_frame,\n",
    "               params=[cv2.IMWRITE_PNG_COMPRESSION, 0])\n",
    "    !python {path}detect3.py --weight {weight} --img 640 --source {source} --save-txt --exist-ok --hide-conf --hide-labels\n",
    "    if cv2.waitKey(1) & 0xFF == ord('q'):\n",
    "        break \n",
    "cap.release()\n",
    "cv2.destroyAllWindows()"
   ]
  },
  {
   "cell_type": "code",
   "execution_count": 54,
   "id": "ebf87e95",
   "metadata": {
    "scrolled": true
   },
   "outputs": [
    {
     "name": "stdout",
     "output_type": "stream",
     "text": [
      "정상 검출 갯수 : 10\n",
      "피더 작동 안함\n",
      "그리퍼 각도 : 180\n",
      "좌표 : 141, 1024\n"
     ]
    }
   ],
   "source": [
    "\n",
    "\n",
    "with open(coordinate_path+\"capture.txt\", \"r\") as f:\n",
    "    txt = f.readlines()  \n",
    "\n",
    "gc, hc, ga, da, min_gl, a = [], [], [], [], 640, 0\n",
    "[gc.append(i) if i[0] == '0' else hc.append(i) for i in txt]\n",
    "\n",
    "gn, hn, p = len(gc), len(hc), 0\n",
    "\n",
    "for i in range(gn):\n",
    "    g = gc[i][2:-1].split(' ')\n",
    "    gltx, glty, grbx, grby = int(g[0]), int(g[1]), int(g[2]), int(g[3])\n",
    "    lt, rt, lb, rb = [gltx, glty], [grbx, glty], [gltx, grby], [grbx, grby]\n",
    "    globals()[\"g{}\".format(i)] = [lt, rt, lb, rb]\n",
    "\n",
    "    for j in range(hn):\n",
    "        h = hc[j][2:-1].split(' ')\n",
    "        hltx, hlty, hrbx, hrby = int(h[0]), int(h[1]), int(h[2]), int(h[3])\n",
    "        globals()[\"h{}\".format(j)] = [int((hltx+hrbx)/2), int((hlty+hrby)/2)]\n",
    "        if (globals()[f\"g{i}\"][3][0] > globals()[f\"h{j}\"][0] > globals()[f\"g{i}\"][0][0])\\\n",
    "        and (globals()[f\"g{i}\"][3][1] > globals()[f\"h{j}\"][1] > globals()[f\"g{i}\"][0][1]):\n",
    "            globals()[\"g{}\".format(i)].append(globals()[\"h{}\".format(j)])\n",
    "\n",
    "    ga.append(globals()[\"g{}\".format(i)])\n",
    "\n",
    "for i in ga:\n",
    "    if len(i) == 5:\n",
    "        da.append(i)\n",
    "        \n",
    "# da=(1,2,3,4) # 개체수 없는 시나리오\n",
    "\n",
    "\n",
    "if len(da) <= 5:\n",
    "    p = 1\n",
    "else: \n",
    "    for v in da:\n",
    "        if min_gl > v[0][0]:\n",
    "                min_gl = v[0][0]   \n",
    "    for i,value in enumerate(da):\n",
    "        if min_gl == value[0][0]:\n",
    "            globals()[\"g{}\".format(i)] = np.array(globals()[\"g{}\".format(i)])\n",
    "            best = globals()[\"g{}\".format(i)]\n",
    "            alt = abs(globals()[\"g{}\".format(i)][0]-globals()[\"g{}\".format(i)][-1])\n",
    "            art = abs(globals()[\"g{}\".format(i)][1]-globals()[\"g{}\".format(i)][-1])\n",
    "            alb = abs(globals()[\"g{}\".format(i)][2]-globals()[\"g{}\".format(i)][-1])\n",
    "            arb = abs(globals()[\"g{}\".format(i)][3]-globals()[\"g{}\".format(i)][-1])\n",
    "            altu, artu = int(math.sqrt((alt[0]**2)+(alt[1]**2))), int(math.sqrt((art[0]**2)+(art[1]**2)))\n",
    "            albu, arbu = int(math.sqrt((alb[0]**2)+(alb[1]**2))), int(math.sqrt((arb[0]**2)+(arb[1]**2)))\n",
    "            bgc = {'LT':altu, 'RT':artu, 'LB':albu, 'RB':arbu}\n",
    "            bgc_sorted=sorted(bgc.items(), key=lambda x:x[1])\n",
    "            if bgc_sorted[1][1] - bgc_sorted[0][1] < 20:\n",
    "                if bgc_sorted[0][0] == 'RT' and bgc_sorted[1][0] == 'RB':\n",
    "                    a=0\n",
    "                elif bgc_sorted[1][0] == 'RT' and bgc_sorted[0][0] == 'RB':\n",
    "                    a=0\n",
    "                elif bgc_sorted[0][0] == 'LT'and bgc_sorted[1][0] == 'RT': \n",
    "                    a=90\n",
    "                elif bgc_sorted[1][0] == 'LT'and bgc_sorted[0][0] == 'RT':\n",
    "                    a=90\n",
    "                elif bgc_sorted[0][0] == 'LT' and bgc_sorted[1][0] == 'LB':\n",
    "                    a=180\n",
    "                elif bgc_sorted[1][0] == 'LT' and bgc_sorted[0][0] == 'LB':\n",
    "                    a=180\n",
    "                elif bgc_sorted[0][0] == 'LB' and bgc_sorted[1][0] == 'RB': \n",
    "                    a=270\n",
    "                elif bgc_sorted[1][0] == 'LB' and bgc_sorted[0][0] == 'RB':\n",
    "                    a=270\n",
    "            else:\n",
    "                if bgc_sorted[0][0] == 'RT':\n",
    "                    a=45\n",
    "                elif bgc_sorted[0][0] == 'LT':\n",
    "                    a=135\n",
    "                elif bgc_sorted[0][0] == 'LB': \n",
    "                    a=225\n",
    "                elif bgc_sorted[0][0] == 'RB':\n",
    "                    a=315\n",
    "\n",
    "print(f'정상 검출 갯수 : {len(da)}')\n",
    "print('피더 작동') if p==1 else print('피더 작동 안함')\n",
    "print(f'그리퍼 각도 : {a}')\n",
    "print(f'좌표 : {best[-1][0]}, {best[-1][1]}')\n",
    "\n"
   ]
  },
  {
   "cell_type": "code",
   "execution_count": 41,
   "id": "f8292fe8",
   "metadata": {},
   "outputs": [
    {
     "data": {
      "text/plain": [
       "<matplotlib.image.AxesImage at 0x26d22c7f370>"
      ]
     },
     "execution_count": 41,
     "metadata": {},
     "output_type": "execute_result"
    },
    {
     "data": {
      "image/png": "[encoded data removed]",
      "text/plain": [
       "<Figure size 432x288 with 1 Axes>"
      ]
     },
     "metadata": {},
     "output_type": "display_data"
    }
   ],
   "source": [
    "best=g0\n",
    "\n",
    "frame_img = cv2.imread(frame_img_path, cv2.IMREAD_COLOR)\n",
    "frame_img = cv2.cvtColor(frame_img, cv2.COLOR_BGR2RGB)\n",
    "frame_img = cv2.rectangle(frame_img, (best[0][0], best[0][1]), (best[3][0], best[3][1]),(0,255,0), 3)\n",
    "frame_img = cv2.circle(frame_img, (best[-1][0],best[-1][1]),5,(255,0,0), -1)\n",
    "plt.xticks([]); plt.yticks([])\n",
    "plt.imshow(frame_img)"
   ]
  },
  {
   "cell_type": "code",
   "execution_count": 19,
   "id": "756f98fb",
   "metadata": {},
   "outputs": [
    {
     "data": {
      "text/plain": [
       "['0 725 175 799 290\\n',\n",
       " '0 651 107 702 303\\n',\n",
       " '0 131 984 424 1080\\n',\n",
       " '0 638 472 676 645\\n',\n",
       " '0 216 444 464 494\\n',\n",
       " '0 210 295 532 346\\n',\n",
       " '0 655 401 961 480\\n',\n",
       " '0 906 177 963 397\\n',\n",
       " '0 238 378 531 443\\n',\n",
       " '0 874 485 930 685\\n']"
      ]
     },
     "execution_count": 19,
     "metadata": {},
     "output_type": "execute_result"
    }
   ],
   "source": [
    "gc"
   ]
  },
  {
   "cell_type": "code",
   "execution_count": 20,
   "id": "75665793",
   "metadata": {},
   "outputs": [
    {
     "data": {
      "text/plain": [
       "['1 123 1011 160 1037\\n',\n",
       " '1 658 266 690 301\\n',\n",
       " '1 772 255 796 289\\n',\n",
       " '1 922 184 950 218\\n',\n",
       " '1 430 450 458 475\\n',\n",
       " '1 659 409 693 432\\n',\n",
       " '1 882 492 900 522\\n',\n",
       " '1 489 377 526 397\\n',\n",
       " '1 502 298 533 324\\n',\n",
       " '1 642 477 662 511\\n']"
      ]
     },
     "execution_count": 20,
     "metadata": {},
     "output_type": "execute_result"
    }
   ],
   "source": [
    "hc"
   ]
  },
  {
   "cell_type": "code",
   "execution_count": null,
   "id": "5b98e8f1",
   "metadata": {},
   "outputs": [],
   "source": []
  },
  {
   "cell_type": "code",
   "execution_count": 53,
   "id": "2b2ea8f3",
   "metadata": {},
   "outputs": [],
   "source": [
    "with open(\"C:/Users/AI/Auto_Farming/yolov5/runs/detect/exp/labels/capture.txt\", 'w') as f:\n",
    "    f.write('')"
   ]
  },
  {
   "cell_type": "code",
   "execution_count": 12,
   "id": "d9759cc5",
   "metadata": {},
   "outputs": [
    {
     "data": {
      "text/plain": [
       "[[[725, 175], [799, 175], [725, 290], [799, 290], [784, 272]],\n",
       " [[651, 107], [702, 107], [651, 303], [702, 303], [674, 283]],\n",
       " [[131, 984], [424, 984], [131, 1080], [424, 1080], [141, 1024]],\n",
       " [[638, 472], [676, 472], [638, 645], [676, 645], [652, 494]],\n",
       " [[216, 444], [464, 444], [216, 494], [464, 494], [444, 462]],\n",
       " [[210, 295], [532, 295], [210, 346], [532, 346], [517, 311]],\n",
       " [[655, 401], [961, 401], [655, 480], [961, 480], [676, 420]],\n",
       " [[906, 177], [963, 177], [906, 397], [963, 397], [936, 201]],\n",
       " [[238, 378], [531, 378], [238, 443], [531, 443], [507, 387]],\n",
       " [[874, 485], [930, 485], [874, 685], [930, 685], [891, 507]]]"
      ]
     },
     "execution_count": 12,
     "metadata": {},
     "output_type": "execute_result"
    }
   ],
   "source": [
    "da"
   ]
  },
  {
   "cell_type": "code",
   "execution_count": null,
   "id": "47a36a91",
   "metadata": {},
   "outputs": [],
   "source": []
  }
 ],
 "metadata": {
  "kernelspec": {
   "display_name": "Python 3 (ipykernel)",
   "language": "python",
   "name": "python3"
  },
  "language_info": {
   "codemirror_mode": {
    "name": "ipython",
    "version": 3
   },
   "file_extension": ".py",
   "mimetype": "text/x-python",
   "name": "python",
   "nbconvert_exporter": "python",
   "pygments_lexer": "ipython3",
   "version": "3.9.12"
  },
  "toc": {
   "base_numbering": 1,
   "nav_menu": {},
   "number_sections": true,
   "sideBar": true,
   "skip_h1_title": false,
   "title_cell": "Table of Contents",
   "title_sidebar": "Contents",
   "toc_cell": false,
   "toc_position": {},
   "toc_section_display": true,
   "toc_window_display": false
  }
 },
 "nbformat": 4,
 "nbformat_minor": 5
}
