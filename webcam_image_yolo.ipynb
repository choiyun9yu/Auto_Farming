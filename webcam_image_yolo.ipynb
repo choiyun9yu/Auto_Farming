{
 "cells": [
  {
   "cell_type": "code",
   "execution_count": 15,
   "id": "47018013",
   "metadata": {
    "collapsed": true
   },
   "outputs": [
    {
     "name": "stdout",
     "output_type": "stream",
     "text": [
      "C:\\Users\\AI\\Auto_Farming\\yolov5\n",
      "Requirement already satisfied: matplotlib>=3.2.2 in c:\\users\\ai\\anaconda3\\lib\\site-packages (from -r requirements.txt (line 5)) (3.5.1)\n",
      "Requirement already satisfied: numpy>=1.18.5 in c:\\users\\ai\\anaconda3\\lib\\site-packages (from -r requirements.txt (line 6)) (1.21.5)\n",
      "Requirement already satisfied: opencv-python>=4.1.1 in c:\\users\\ai\\anaconda3\\lib\\site-packages (from -r requirements.txt (line 7)) (4.6.0.66)\n",
      "Requirement already satisfied: Pillow>=7.1.2 in c:\\users\\ai\\anaconda3\\lib\\site-packages (from -r requirements.txt (line 8)) (9.0.1)\n",
      "Requirement already satisfied: PyYAML>=5.3.1 in c:\\users\\ai\\anaconda3\\lib\\site-packages (from -r requirements.txt (line 9)) (6.0)\n",
      "Requirement already satisfied: requests>=2.23.0 in c:\\users\\ai\\anaconda3\\lib\\site-packages (from -r requirements.txt (line 10)) (2.27.1)\n",
      "Requirement already satisfied: scipy>=1.4.1 in c:\\users\\ai\\anaconda3\\lib\\site-packages (from -r requirements.txt (line 11)) (1.7.3)\n",
      "Requirement already satisfied: torch>=1.7.0 in c:\\users\\ai\\anaconda3\\lib\\site-packages (from -r requirements.txt (line 12)) (1.12.1)\n",
      "Requirement already satisfied: torchvision>=0.8.1 in c:\\users\\ai\\anaconda3\\lib\\site-packages (from -r requirements.txt (line 13)) (0.13.1)\n",
      "Requirement already satisfied: tqdm>=4.64.0 in c:\\users\\ai\\anaconda3\\lib\\site-packages (from -r requirements.txt (line 14)) (4.64.0)\n",
      "Requirement already satisfied: tensorboard>=2.4.1 in c:\\users\\ai\\anaconda3\\lib\\site-packages (from -r requirements.txt (line 18)) (2.10.0)\n",
      "Requirement already satisfied: pandas>=1.1.4 in c:\\users\\ai\\anaconda3\\lib\\site-packages (from -r requirements.txt (line 23)) (1.4.2)\n",
      "Requirement already satisfied: seaborn>=0.11.0 in c:\\users\\ai\\anaconda3\\lib\\site-packages (from -r requirements.txt (line 24)) (0.11.2)\n",
      "Requirement already satisfied: ipython in c:\\users\\ai\\anaconda3\\lib\\site-packages (from -r requirements.txt (line 41)) (8.2.0)\n",
      "Requirement already satisfied: psutil in c:\\users\\ai\\anaconda3\\lib\\site-packages (from -r requirements.txt (line 42)) (5.8.0)\n",
      "Requirement already satisfied: thop>=0.1.1 in c:\\users\\ai\\anaconda3\\lib\\site-packages (from -r requirements.txt (line 43)) (0.1.1.post2209072238)\n",
      "Requirement already satisfied: cycler>=0.10 in c:\\users\\ai\\anaconda3\\lib\\site-packages (from matplotlib>=3.2.2->-r requirements.txt (line 5)) (0.11.0)\n",
      "Requirement already satisfied: python-dateutil>=2.7 in c:\\users\\ai\\anaconda3\\lib\\site-packages (from matplotlib>=3.2.2->-r requirements.txt (line 5)) (2.8.2)\n",
      "Requirement already satisfied: packaging>=20.0 in c:\\users\\ai\\anaconda3\\lib\\site-packages (from matplotlib>=3.2.2->-r requirements.txt (line 5)) (21.3)\n",
      "Requirement already satisfied: pyparsing>=2.2.1 in c:\\users\\ai\\anaconda3\\lib\\site-packages (from matplotlib>=3.2.2->-r requirements.txt (line 5)) (3.0.4)\n",
      "Requirement already satisfied: kiwisolver>=1.0.1 in c:\\users\\ai\\anaconda3\\lib\\site-packages (from matplotlib>=3.2.2->-r requirements.txt (line 5)) (1.3.2)\n",
      "Requirement already satisfied: fonttools>=4.22.0 in c:\\users\\ai\\anaconda3\\lib\\site-packages (from matplotlib>=3.2.2->-r requirements.txt (line 5)) (4.25.0)\n",
      "Requirement already satisfied: certifi>=2017.4.17 in c:\\users\\ai\\anaconda3\\lib\\site-packages (from requests>=2.23.0->-r requirements.txt (line 10)) (2022.9.24)\n",
      "Requirement already satisfied: idna<4,>=2.5 in c:\\users\\ai\\anaconda3\\lib\\site-packages (from requests>=2.23.0->-r requirements.txt (line 10)) (3.3)\n",
      "Requirement already satisfied: urllib3<1.27,>=1.21.1 in c:\\users\\ai\\anaconda3\\lib\\site-packages (from requests>=2.23.0->-r requirements.txt (line 10)) (1.26.9)\n",
      "Requirement already satisfied: charset-normalizer~=2.0.0 in c:\\users\\ai\\anaconda3\\lib\\site-packages (from requests>=2.23.0->-r requirements.txt (line 10)) (2.0.4)\n",
      "Requirement already satisfied: typing_extensions in c:\\users\\ai\\anaconda3\\lib\\site-packages (from torch>=1.7.0->-r requirements.txt (line 12)) (4.1.1)\n",
      "Requirement already satisfied: colorama in c:\\users\\ai\\anaconda3\\lib\\site-packages (from tqdm>=4.64.0->-r requirements.txt (line 14)) (0.4.4)\n",
      "Requirement already satisfied: google-auth-oauthlib<0.5,>=0.4.1 in c:\\users\\ai\\anaconda3\\lib\\site-packages (from tensorboard>=2.4.1->-r requirements.txt (line 18)) (0.4.6)\n",
      "Requirement already satisfied: werkzeug>=1.0.1 in c:\\users\\ai\\anaconda3\\lib\\site-packages (from tensorboard>=2.4.1->-r requirements.txt (line 18)) (2.0.3)\n",
      "Requirement already satisfied: setuptools>=41.0.0 in c:\\users\\ai\\anaconda3\\lib\\site-packages (from tensorboard>=2.4.1->-r requirements.txt (line 18)) (61.2.0)\n",
      "Requirement already satisfied: wheel>=0.26 in c:\\users\\ai\\anaconda3\\lib\\site-packages (from tensorboard>=2.4.1->-r requirements.txt (line 18)) (0.37.1)\n",
      "Requirement already satisfied: markdown>=2.6.8 in c:\\users\\ai\\anaconda3\\lib\\site-packages (from tensorboard>=2.4.1->-r requirements.txt (line 18)) (3.3.4)\n",
      "Requirement already satisfied: grpcio>=1.24.3 in c:\\users\\ai\\anaconda3\\lib\\site-packages (from tensorboard>=2.4.1->-r requirements.txt (line 18)) (1.42.0)\n",
      "Requirement already satisfied: tensorboard-plugin-wit>=1.6.0 in c:\\users\\ai\\anaconda3\\lib\\site-packages (from tensorboard>=2.4.1->-r requirements.txt (line 18)) (1.8.1)\n",
      "Requirement already satisfied: google-auth<3,>=1.6.3 in c:\\users\\ai\\anaconda3\\lib\\site-packages (from tensorboard>=2.4.1->-r requirements.txt (line 18)) (1.33.0)\n",
      "Requirement already satisfied: protobuf<3.20,>=3.9.2 in c:\\users\\ai\\anaconda3\\lib\\site-packages (from tensorboard>=2.4.1->-r requirements.txt (line 18)) (3.19.1)\n",
      "Requirement already satisfied: absl-py>=0.4 in c:\\users\\ai\\anaconda3\\lib\\site-packages (from tensorboard>=2.4.1->-r requirements.txt (line 18)) (1.2.0)\n",
      "Requirement already satisfied: tensorboard-data-server<0.7.0,>=0.6.0 in c:\\users\\ai\\anaconda3\\lib\\site-packages (from tensorboard>=2.4.1->-r requirements.txt (line 18)) (0.6.1)\n",
      "Requirement already satisfied: pytz>=2020.1 in c:\\users\\ai\\anaconda3\\lib\\site-packages (from pandas>=1.1.4->-r requirements.txt (line 23)) (2021.3)\n",
      "Requirement already satisfied: pickleshare in c:\\users\\ai\\anaconda3\\lib\\site-packages (from ipython->-r requirements.txt (line 41)) (0.7.5)\n",
      "Requirement already satisfied: jedi>=0.16 in c:\\users\\ai\\anaconda3\\lib\\site-packages (from ipython->-r requirements.txt (line 41)) (0.18.1)\n",
      "Requirement already satisfied: traitlets>=5 in c:\\users\\ai\\anaconda3\\lib\\site-packages (from ipython->-r requirements.txt (line 41)) (5.1.1)\n",
      "Requirement already satisfied: pygments>=2.4.0 in c:\\users\\ai\\anaconda3\\lib\\site-packages (from ipython->-r requirements.txt (line 41)) (2.11.2)\n",
      "Requirement already satisfied: backcall in c:\\users\\ai\\anaconda3\\lib\\site-packages (from ipython->-r requirements.txt (line 41)) (0.2.0)\n",
      "Requirement already satisfied: prompt-toolkit!=3.0.0,!=3.0.1,<3.1.0,>=2.0.0 in c:\\users\\ai\\anaconda3\\lib\\site-packages (from ipython->-r requirements.txt (line 41)) (3.0.20)\n",
      "Requirement already satisfied: matplotlib-inline in c:\\users\\ai\\anaconda3\\lib\\site-packages (from ipython->-r requirements.txt (line 41)) (0.1.2)\n",
      "Requirement already satisfied: decorator in c:\\users\\ai\\anaconda3\\lib\\site-packages (from ipython->-r requirements.txt (line 41)) (5.1.1)\n",
      "Requirement already satisfied: stack-data in c:\\users\\ai\\anaconda3\\lib\\site-packages (from ipython->-r requirements.txt (line 41)) (0.2.0)\n"
     ]
    },
    {
     "name": "stderr",
     "output_type": "stream",
     "text": [
      "WARNING: Ignore distutils configs in setup.cfg due to encoding errors.\n",
      "WARNING: Ignore distutils configs in setup.cfg due to encoding errors.\n"
     ]
    },
    {
     "name": "stdout",
     "output_type": "stream",
     "text": [
      "Requirement already satisfied: pyasn1-modules>=0.2.1 in c:\\users\\ai\\anaconda3\\lib\\site-packages (from google-auth<3,>=1.6.3->tensorboard>=2.4.1->-r requirements.txt (line 18)) (0.2.8)\n",
      "Requirement already satisfied: rsa<5,>=3.1.4 in c:\\users\\ai\\anaconda3\\lib\\site-packages (from google-auth<3,>=1.6.3->tensorboard>=2.4.1->-r requirements.txt (line 18)) (4.7.2)\n",
      "Requirement already satisfied: six>=1.9.0 in c:\\users\\ai\\anaconda3\\lib\\site-packages (from google-auth<3,>=1.6.3->tensorboard>=2.4.1->-r requirements.txt (line 18)) (1.16.0)\n",
      "Requirement already satisfied: cachetools<5.0,>=2.0.0 in c:\\users\\ai\\anaconda3\\lib\\site-packages (from google-auth<3,>=1.6.3->tensorboard>=2.4.1->-r requirements.txt (line 18)) (4.2.2)\n",
      "Requirement already satisfied: requests-oauthlib>=0.7.0 in c:\\users\\ai\\anaconda3\\lib\\site-packages (from google-auth-oauthlib<0.5,>=0.4.1->tensorboard>=2.4.1->-r requirements.txt (line 18)) (1.3.1)\n",
      "Requirement already satisfied: parso<0.9.0,>=0.8.0 in c:\\users\\ai\\anaconda3\\lib\\site-packages (from jedi>=0.16->ipython->-r requirements.txt (line 41)) (0.8.3)\n",
      "Requirement already satisfied: wcwidth in c:\\users\\ai\\anaconda3\\lib\\site-packages (from prompt-toolkit!=3.0.0,!=3.0.1,<3.1.0,>=2.0.0->ipython->-r requirements.txt (line 41)) (0.2.5)\n",
      "Requirement already satisfied: pure-eval in c:\\users\\ai\\anaconda3\\lib\\site-packages (from stack-data->ipython->-r requirements.txt (line 41)) (0.2.2)\n",
      "Requirement already satisfied: executing in c:\\users\\ai\\anaconda3\\lib\\site-packages (from stack-data->ipython->-r requirements.txt (line 41)) (0.8.3)\n",
      "Requirement already satisfied: asttokens in c:\\users\\ai\\anaconda3\\lib\\site-packages (from stack-data->ipython->-r requirements.txt (line 41)) (2.0.5)\n",
      "Requirement already satisfied: pyasn1<0.5.0,>=0.4.6 in c:\\users\\ai\\anaconda3\\lib\\site-packages (from pyasn1-modules>=0.2.1->google-auth<3,>=1.6.3->tensorboard>=2.4.1->-r requirements.txt (line 18)) (0.4.8)\n",
      "Requirement already satisfied: oauthlib>=3.0.0 in c:\\users\\ai\\anaconda3\\lib\\site-packages (from requests-oauthlib>=0.7.0->google-auth-oauthlib<0.5,>=0.4.1->tensorboard>=2.4.1->-r requirements.txt (line 18)) (3.2.0)\n"
     ]
    }
   ],
   "source": [
    "%pwd # print woriking directory\n",
    "%cd yolov5/\n",
    "!pip install -r requirements.txt"
   ]
  },
  {
   "cell_type": "code",
   "execution_count": 16,
   "id": "da6ee8c6",
   "metadata": {},
   "outputs": [
    {
     "data": {
      "text/plain": [
       "'C:\\\\Users\\\\AI\\\\Auto_Farming\\\\yolov5'"
      ]
     },
     "execution_count": 16,
     "metadata": {},
     "output_type": "execute_result"
    }
   ],
   "source": [
    "%pwd"
   ]
  },
  {
   "cell_type": "markdown",
   "id": "2176d07d",
   "metadata": {},
   "source": [
    "- <font color=red>cv2.imwrite(“파일명.확장자”, 프레임이미지, 옵션)</font>\n",
    "  - params=[cv2.IMWRITE_PNG_COMPRESSION, 0]) : 압축 하지 않는 PNG, 세 번째 파라미터는 압축률로 0~9까지 설정 가능 (0은 압축 없음)"
   ]
  },
  {
   "cell_type": "code",
   "execution_count": 51,
   "id": "865d45a7",
   "metadata": {},
   "outputs": [
    {
     "name": "stdout",
     "output_type": "stream",
     "text": [
      "\n",
      "\u001b[34m\u001b[1mdetect3: \u001b[0mweights=['C:/Users/AI/Auto_Farming/yolov5/runs/train/insam_yolov5s_results/weights/best.pt'], source=C:/Users\\AI/Auto_Farming/image/capture.png, data=data\\coco128.yaml, imgsz=[1088, 1088], conf_thres=0.25, iou_thres=0.45, max_det=1000, device=, view_img=False, save_txt=True, save_conf=False, save_crop=False, nosave=False, classes=None, agnostic_nms=False, augment=False, visualize=False, update=False, project=runs\\detect, name=exp, exist_ok=True, line_thickness=3, hide_labels=True, hide_conf=True, half=False, dnn=False, vid_stride=1\n",
      "YOLOv5  v6.2-219-ga83d2a5 Python-3.9.12 torch-1.12.1 CPU\n",
      "\n",
      "Fusing layers... \n",
      "YOLOv5s summary: 157 layers, 7015519 parameters, 0 gradients, 15.8 GFLOPs\n",
      "image 1/1 C:\\Users\\AI\\Auto_Farming\\image\\capture.png: 1088x1088 6 Ginsengs, 7 heads, 593.4ms\n",
      "Speed: 4.0ms pre-process, 593.4ms inference, 11.0ms NMS per image at shape (1, 3, 1088, 1088)\n",
      "Results saved to \u001b[1mruns\\detect\\exp\u001b[0m\n",
      "225 labels saved to runs\\detect\\exp\\labels\n",
      "\u001b[34m\u001b[1mdetect3: \u001b[0mweights=['C:/Users/AI/Auto_Farming/yolov5/runs/train/insam_yolov5s_results/weights/best.pt'], source=C:/Users\\AI/Auto_Farming/image/capture.png, data=data\\coco128.yaml, imgsz=[1088, 1088], conf_thres=0.25, iou_thres=0.45, max_det=1000, device=, view_img=False, save_txt=True, save_conf=False, save_crop=False, nosave=False, classes=None, agnostic_nms=False, augment=False, visualize=False, update=False, project=runs\\detect, name=exp, exist_ok=True, line_thickness=3, hide_labels=True, hide_conf=True, half=False, dnn=False, vid_stride=1\n",
      "YOLOv5  v6.2-219-ga83d2a5 Python-3.9.12 torch-1.12.1 CPU\n",
      "\n",
      "Fusing layers... \n",
      "YOLOv5s summary: 157 layers, 7015519 parameters, 0 gradients, 15.8 GFLOPs\n",
      "image 1/1 C:\\Users\\AI\\Auto_Farming\\image\\capture.png: 1088x1088 9 Ginsengs, 11 heads, 623.6ms\n",
      "Speed: 4.0ms pre-process, 623.6ms inference, 2.0ms NMS per image at shape (1, 3, 1088, 1088)\n",
      "Results saved to \u001b[1mruns\\detect\\exp\u001b[0m\n",
      "225 labels saved to runs\\detect\\exp\\labels\n",
      "\u001b[34m\u001b[1mdetect3: \u001b[0mweights=['C:/Users/AI/Auto_Farming/yolov5/runs/train/insam_yolov5s_results/weights/best.pt'], source=C:/Users\\AI/Auto_Farming/image/capture.png, data=data\\coco128.yaml, imgsz=[1088, 1088], conf_thres=0.25, iou_thres=0.45, max_det=1000, device=, view_img=False, save_txt=True, save_conf=False, save_crop=False, nosave=False, classes=None, agnostic_nms=False, augment=False, visualize=False, update=False, project=runs\\detect, name=exp, exist_ok=True, line_thickness=3, hide_labels=True, hide_conf=True, half=False, dnn=False, vid_stride=1\n",
      "YOLOv5  v6.2-219-ga83d2a5 Python-3.9.12 torch-1.12.1 CPU\n",
      "\n",
      "Fusing layers... \n",
      "YOLOv5s summary: 157 layers, 7015519 parameters, 0 gradients, 15.8 GFLOPs\n",
      "image 1/1 C:\\Users\\AI\\Auto_Farming\\image\\capture.png: 1088x1088 9 Ginsengs, 11 heads, 577.2ms\n",
      "Speed: 3.0ms pre-process, 577.2ms inference, 1.0ms NMS per image at shape (1, 3, 1088, 1088)\n",
      "Results saved to \u001b[1mruns\\detect\\exp\u001b[0m\n",
      "225 labels saved to runs\\detect\\exp\\labels\n",
      "\u001b[34m\u001b[1mdetect3: \u001b[0mweights=['C:/Users/AI/Auto_Farming/yolov5/runs/train/insam_yolov5s_results/weights/best.pt'], source=C:/Users\\AI/Auto_Farming/image/capture.png, data=data\\coco128.yaml, imgsz=[1088, 1088], conf_thres=0.25, iou_thres=0.45, max_det=1000, device=, view_img=False, save_txt=True, save_conf=False, save_crop=False, nosave=False, classes=None, agnostic_nms=False, augment=False, visualize=False, update=False, project=runs\\detect, name=exp, exist_ok=True, line_thickness=3, hide_labels=True, hide_conf=True, half=False, dnn=False, vid_stride=1\n",
      "YOLOv5  v6.2-219-ga83d2a5 Python-3.9.12 torch-1.12.1 CPU\n",
      "\n",
      "Fusing layers... \n",
      "YOLOv5s summary: 157 layers, 7015519 parameters, 0 gradients, 15.8 GFLOPs\n",
      "image 1/1 C:\\Users\\AI\\Auto_Farming\\image\\capture.png: 1088x1088 9 Ginsengs, 11 heads, 566.5ms\n",
      "Speed: 4.0ms pre-process, 566.5ms inference, 1.0ms NMS per image at shape (1, 3, 1088, 1088)\n",
      "Results saved to \u001b[1mruns\\detect\\exp\u001b[0m\n",
      "225 labels saved to runs\\detect\\exp\\labels\n",
      "\u001b[34m\u001b[1mdetect3: \u001b[0mweights=['C:/Users/AI/Auto_Farming/yolov5/runs/train/insam_yolov5s_results/weights/best.pt'], source=C:/Users\\AI/Auto_Farming/image/capture.png, data=data\\coco128.yaml, imgsz=[1088, 1088], conf_thres=0.25, iou_thres=0.45, max_det=1000, device=, view_img=False, save_txt=True, save_conf=False, save_crop=False, nosave=False, classes=None, agnostic_nms=False, augment=False, visualize=False, update=False, project=runs\\detect, name=exp, exist_ok=True, line_thickness=3, hide_labels=True, hide_conf=True, half=False, dnn=False, vid_stride=1\n",
      "YOLOv5  v6.2-219-ga83d2a5 Python-3.9.12 torch-1.12.1 CPU\n",
      "\n",
      "Fusing layers... \n",
      "YOLOv5s summary: 157 layers, 7015519 parameters, 0 gradients, 15.8 GFLOPs\n",
      "image 1/1 C:\\Users\\AI\\Auto_Farming\\image\\capture.png: 1088x1088 9 Ginsengs, 10 heads, 594.4ms\n",
      "Speed: 3.0ms pre-process, 594.4ms inference, 1.0ms NMS per image at shape (1, 3, 1088, 1088)\n",
      "Results saved to \u001b[1mruns\\detect\\exp\u001b[0m\n",
      "225 labels saved to runs\\detect\\exp\\labels\n",
      "\u001b[34m\u001b[1mdetect3: \u001b[0mweights=['C:/Users/AI/Auto_Farming/yolov5/runs/train/insam_yolov5s_results/weights/best.pt'], source=C:/Users\\AI/Auto_Farming/image/capture.png, data=data\\coco128.yaml, imgsz=[1088, 1088], conf_thres=0.25, iou_thres=0.45, max_det=1000, device=, view_img=False, save_txt=True, save_conf=False, save_crop=False, nosave=False, classes=None, agnostic_nms=False, augment=False, visualize=False, update=False, project=runs\\detect, name=exp, exist_ok=True, line_thickness=3, hide_labels=True, hide_conf=True, half=False, dnn=False, vid_stride=1\n",
      "YOLOv5  v6.2-219-ga83d2a5 Python-3.9.12 torch-1.12.1 CPU\n",
      "\n",
      "Fusing layers... \n",
      "YOLOv5s summary: 157 layers, 7015519 parameters, 0 gradients, 15.8 GFLOPs\n",
      "image 1/1 C:\\Users\\AI\\Auto_Farming\\image\\capture.png: 1088x1088 8 Ginsengs, 7 heads, 595.1ms\n",
      "Speed: 4.0ms pre-process, 595.1ms inference, 1.0ms NMS per image at shape (1, 3, 1088, 1088)\n",
      "Results saved to \u001b[1mruns\\detect\\exp\u001b[0m\n",
      "225 labels saved to runs\\detect\\exp\\labels\n",
      "\u001b[34m\u001b[1mdetect3: \u001b[0mweights=['C:/Users/AI/Auto_Farming/yolov5/runs/train/insam_yolov5s_results/weights/best.pt'], source=C:/Users\\AI/Auto_Farming/image/capture.png, data=data\\coco128.yaml, imgsz=[1088, 1088], conf_thres=0.25, iou_thres=0.45, max_det=1000, device=, view_img=False, save_txt=True, save_conf=False, save_crop=False, nosave=False, classes=None, agnostic_nms=False, augment=False, visualize=False, update=False, project=runs\\detect, name=exp, exist_ok=True, line_thickness=3, hide_labels=True, hide_conf=True, half=False, dnn=False, vid_stride=1\n",
      "YOLOv5  v6.2-219-ga83d2a5 Python-3.9.12 torch-1.12.1 CPU\n",
      "\n",
      "Fusing layers... \n",
      "YOLOv5s summary: 157 layers, 7015519 parameters, 0 gradients, 15.8 GFLOPs\n",
      "image 1/1 C:\\Users\\AI\\Auto_Farming\\image\\capture.png: 1088x1088 11 Ginsengs, 11 heads, 593.4ms\n",
      "Speed: 4.0ms pre-process, 593.4ms inference, 1.0ms NMS per image at shape (1, 3, 1088, 1088)\n",
      "Results saved to \u001b[1mruns\\detect\\exp\u001b[0m\n",
      "225 labels saved to runs\\detect\\exp\\labels\n",
      "\u001b[34m\u001b[1mdetect3: \u001b[0mweights=['C:/Users/AI/Auto_Farming/yolov5/runs/train/insam_yolov5s_results/weights/best.pt'], source=C:/Users\\AI/Auto_Farming/image/capture.png, data=data\\coco128.yaml, imgsz=[1088, 1088], conf_thres=0.25, iou_thres=0.45, max_det=1000, device=, view_img=False, save_txt=True, save_conf=False, save_crop=False, nosave=False, classes=None, agnostic_nms=False, augment=False, visualize=False, update=False, project=runs\\detect, name=exp, exist_ok=True, line_thickness=3, hide_labels=True, hide_conf=True, half=False, dnn=False, vid_stride=1\n",
      "YOLOv5  v6.2-219-ga83d2a5 Python-3.9.12 torch-1.12.1 CPU\n",
      "\n",
      "Fusing layers... \n",
      "YOLOv5s summary: 157 layers, 7015519 parameters, 0 gradients, 15.8 GFLOPs\n",
      "image 1/1 C:\\Users\\AI\\Auto_Farming\\image\\capture.png: 1088x1088 11 Ginsengs, 11 heads, 589.9ms\n",
      "Speed: 4.1ms pre-process, 589.9ms inference, 1.0ms NMS per image at shape (1, 3, 1088, 1088)\n",
      "Results saved to \u001b[1mruns\\detect\\exp\u001b[0m\n",
      "225 labels saved to runs\\detect\\exp\\labels\n",
      "\u001b[34m\u001b[1mdetect3: \u001b[0mweights=['C:/Users/AI/Auto_Farming/yolov5/runs/train/insam_yolov5s_results/weights/best.pt'], source=C:/Users\\AI/Auto_Farming/image/capture.png, data=data\\coco128.yaml, imgsz=[1088, 1088], conf_thres=0.25, iou_thres=0.45, max_det=1000, device=, view_img=False, save_txt=True, save_conf=False, save_crop=False, nosave=False, classes=None, agnostic_nms=False, augment=False, visualize=False, update=False, project=runs\\detect, name=exp, exist_ok=True, line_thickness=3, hide_labels=True, hide_conf=True, half=False, dnn=False, vid_stride=1\n",
      "YOLOv5  v6.2-219-ga83d2a5 Python-3.9.12 torch-1.12.1 CPU\n",
      "\n",
      "Fusing layers... \n",
      "YOLOv5s summary: 157 layers, 7015519 parameters, 0 gradients, 15.8 GFLOPs\n",
      "image 1/1 C:\\Users\\AI\\Auto_Farming\\image\\capture.png: 1088x1088 11 Ginsengs, 12 heads, 618.9ms\n",
      "Speed: 4.0ms pre-process, 618.9ms inference, 2.0ms NMS per image at shape (1, 3, 1088, 1088)\n",
      "Results saved to \u001b[1mruns\\detect\\exp\u001b[0m\n",
      "225 labels saved to runs\\detect\\exp\\labels\n"
     ]
    },
    {
     "name": "stdout",
     "output_type": "stream",
     "text": [
      "\u001b[34m\u001b[1mdetect3: \u001b[0mweights=['C:/Users/AI/Auto_Farming/yolov5/runs/train/insam_yolov5s_results/weights/best.pt'], source=C:/Users\\AI/Auto_Farming/image/capture.png, data=data\\coco128.yaml, imgsz=[1088, 1088], conf_thres=0.25, iou_thres=0.45, max_det=1000, device=, view_img=False, save_txt=True, save_conf=False, save_crop=False, nosave=False, classes=None, agnostic_nms=False, augment=False, visualize=False, update=False, project=runs\\detect, name=exp, exist_ok=True, line_thickness=3, hide_labels=True, hide_conf=True, half=False, dnn=False, vid_stride=1\n",
      "YOLOv5  v6.2-219-ga83d2a5 Python-3.9.12 torch-1.12.1 CPU\n",
      "\n",
      "Fusing layers... \n",
      "YOLOv5s summary: 157 layers, 7015519 parameters, 0 gradients, 15.8 GFLOPs\n",
      "image 1/1 C:\\Users\\AI\\Auto_Farming\\image\\capture.png: 1088x1088 10 Ginsengs, 10 heads, 595.4ms\n",
      "Speed: 4.0ms pre-process, 595.4ms inference, 1.0ms NMS per image at shape (1, 3, 1088, 1088)\n",
      "Results saved to \u001b[1mruns\\detect\\exp\u001b[0m\n",
      "225 labels saved to runs\\detect\\exp\\labels\n",
      "\u001b[34m\u001b[1mdetect3: \u001b[0mweights=['C:/Users/AI/Auto_Farming/yolov5/runs/train/insam_yolov5s_results/weights/best.pt'], source=C:/Users\\AI/Auto_Farming/image/capture.png, data=data\\coco128.yaml, imgsz=[1088, 1088], conf_thres=0.25, iou_thres=0.45, max_det=1000, device=, view_img=False, save_txt=True, save_conf=False, save_crop=False, nosave=False, classes=None, agnostic_nms=False, augment=False, visualize=False, update=False, project=runs\\detect, name=exp, exist_ok=True, line_thickness=3, hide_labels=True, hide_conf=True, half=False, dnn=False, vid_stride=1\n",
      "YOLOv5  v6.2-219-ga83d2a5 Python-3.9.12 torch-1.12.1 CPU\n",
      "\n",
      "Fusing layers... \n",
      "YOLOv5s summary: 157 layers, 7015519 parameters, 0 gradients, 15.8 GFLOPs\n",
      "image 1/1 C:\\Users\\AI\\Auto_Farming\\image\\capture.png: 1088x1088 10 Ginsengs, 11 heads, 615.5ms\n",
      "Speed: 4.0ms pre-process, 615.5ms inference, 2.0ms NMS per image at shape (1, 3, 1088, 1088)\n",
      "Results saved to \u001b[1mruns\\detect\\exp\u001b[0m\n",
      "225 labels saved to runs\\detect\\exp\\labels\n",
      "\u001b[34m\u001b[1mdetect3: \u001b[0mweights=['C:/Users/AI/Auto_Farming/yolov5/runs/train/insam_yolov5s_results/weights/best.pt'], source=C:/Users\\AI/Auto_Farming/image/capture.png, data=data\\coco128.yaml, imgsz=[1088, 1088], conf_thres=0.25, iou_thres=0.45, max_det=1000, device=, view_img=False, save_txt=True, save_conf=False, save_crop=False, nosave=False, classes=None, agnostic_nms=False, augment=False, visualize=False, update=False, project=runs\\detect, name=exp, exist_ok=True, line_thickness=3, hide_labels=True, hide_conf=True, half=False, dnn=False, vid_stride=1\n",
      "YOLOv5  v6.2-219-ga83d2a5 Python-3.9.12 torch-1.12.1 CPU\n",
      "\n",
      "Fusing layers... \n",
      "YOLOv5s summary: 157 layers, 7015519 parameters, 0 gradients, 15.8 GFLOPs\n",
      "image 1/1 C:\\Users\\AI\\Auto_Farming\\image\\capture.png: 1088x1088 10 Ginsengs, 12 heads, 578.2ms\n",
      "Speed: 4.0ms pre-process, 578.2ms inference, 1.0ms NMS per image at shape (1, 3, 1088, 1088)\n",
      "Results saved to \u001b[1mruns\\detect\\exp\u001b[0m\n",
      "225 labels saved to runs\\detect\\exp\\labels\n"
     ]
    }
   ],
   "source": [
    "import os\n",
    "import glob\n",
    "import cv2\n",
    "import time\n",
    "import matplotlib.pyplot as plt\n",
    "\n",
    "cap = cv2.VideoCapture(1)\n",
    "exp_path = \"C:/Users/AI/Auto_Farming/yolov5/runs/detect/exp/\"\n",
    "path = 'C:/Users/AI/Auto_Farming/yolov5/'\n",
    "weight = 'C:/Users/AI/Auto_Farming/yolov5/runs/train/insam_yolov5s_results/weights/best.pt'\n",
    "source = 'C:/Users\\AI/Auto_Farming/image/capture.png' \n",
    "save_img = 'C:/Users\\AI/Auto_Farming/image/capture.png'\n",
    "coordinate_path = \"C:/Users/AI/Auto_Farming/yolov5/runs/detect/exp/labels/\"\n",
    "\n",
    "while True :\n",
    "    try:\n",
    "        os.unlink(exp_path+\"labels/capture.txt\")\n",
    "    except:\n",
    "        print(\"\")\n",
    "    ret, frame = cap.read()\n",
    "\n",
    "    if not ret :\n",
    "        break\n",
    "    \n",
    "    resize_frame = cv2.resize(frame, (1920, 1080))\n",
    "    resize_frame = resize_frame[:,:1080]\n",
    "    key = cv2.waitKey(33)\n",
    "    cv2.imshow(\"test\", resize_frame)\n",
    "    cv2.imwrite(save_img, resize_frame,\n",
    "               params=[cv2.IMWRITE_PNG_COMPRESSION, 0])\n",
    "    rs = !python {path}detect3.py --weight {weight} --img 1088 --source {source} --save-txt --exist-ok --hide-conf --hide-labels\n",
    "    for i in rs:\n",
    "        print(i)\n",
    "        \n",
    "#####################################################################################################################\n",
    "#     with open(coordinate_path+\"capture.txt\", \"r\") as f:\n",
    "#         txt = f.readlines()  # 해당 파일 줄별 리스트 형태로 반환\n",
    "#     print(txt)\n",
    "\n",
    "#     ginseng_coordinate = []\n",
    "#     head_coordinate = []\n",
    "#     for i in txt:\n",
    "#         if i[0] == '0':\n",
    "#             ginseng_coordinate.append(i)\n",
    "#         elif i[0] == '1':\n",
    "#             head_coordinate.append(i)\n",
    "#     print(ginseng_coordinate)\n",
    "#     print(head_coordinate)\n",
    "    \n",
    "#     nginseng = len(ginseng_coordinate)\n",
    "#     nhead = len(head_coordinate)\n",
    "    \n",
    "#     for i in range(len(ginseng_coordinate)):    \n",
    "#         ginseng = ginseng_coordinate[i][2:-1].split(' ')\n",
    "#         gLTx, gLTy, gRBx, gRBy = ginseng[0], ginseng[1], ginseng[2], ginseng[3] \n",
    "#         LT, RT, LB, RB = (gLTx, gLTy), (gRBx, gLTy), (gLTx, gRBy), (gRBx, gRBy)\n",
    "#         globals()[\"ginseng{}\".format(i)] = [LT, RT, LB, RB]\n",
    "    \n",
    "#     for i in range(len(head_coordinate)):\n",
    "#         head = head_coordinate[i][2:-1].split(' ')\n",
    "#         hLTx, hLTy, hRBx, hRBy = int(head[0]), int(head[1]), int(head[2]), int(head[3])\n",
    "#         globals()[\"head{}\".format(i)] = (int((hLTx+hRBx)/2), int((hLTy+hRBy)/2))\n",
    "#####################################################################################################################\n",
    "\n",
    "    if cv2.waitKey(1) & 0xFF == ord('q'):\n",
    "        break\n",
    "\n",
    "cap.release() #비디오 객체 메모리에서 해제\n",
    "cv2.destroyAllWindows() #창닫기"
   ]
  },
  {
   "cell_type": "code",
   "execution_count": 164,
   "id": "65988851",
   "metadata": {},
   "outputs": [
    {
     "name": "stdout",
     "output_type": "stream",
     "text": [
      "['1 220 330 243 346\\n', '1 944 366 965 394\\n', '1 642 476 662 503\\n', '1 123 1013 153 1035\\n', '1 923 184 948 216\\n', '1 773 262 797 288\\n', '0 639 470 674 645\\n', '1 664 276 688 302\\n', '1 882 494 901 519\\n', '1 504 301 534 323\\n', '1 659 411 694 430\\n', '1 435 451 459 474\\n', '1 493 379 527 396\\n', '0 217 446 458 489\\n', '0 162 988 422 1064\\n', '0 244 374 522 446\\n', '0 214 292 540 345\\n', '0 652 102 700 303\\n', '0 722 182 792 289\\n', '0 658 401 959 464\\n', '0 877 488 930 688\\n', '0 907 181 964 396\\n']\n"
     ]
    }
   ],
   "source": [
    "#좌표 save_txt\n",
    "coordinate_path = \"C:/Users/AI/Auto_Farming/yolov5/runs/detect/exp/labels/\"\n",
    "with open(coordinate_path+\"capture.txt\", \"r\") as f:\n",
    "    txt = f.readlines()  # 해당 파일 줄별 리스트 형태로 반환\n",
    "print(txt)"
   ]
  },
  {
   "cell_type": "code",
   "execution_count": 165,
   "id": "ebf87e95",
   "metadata": {
    "scrolled": true
   },
   "outputs": [
    {
     "name": "stdout",
     "output_type": "stream",
     "text": [
      "['0 639 470 674 645\\n', '0 217 446 458 489\\n', '0 162 988 422 1064\\n', '0 244 374 522 446\\n', '0 214 292 540 345\\n', '0 652 102 700 303\\n', '0 722 182 792 289\\n', '0 658 401 959 464\\n', '0 877 488 930 688\\n', '0 907 181 964 396\\n']\n",
      "['1 220 330 243 346\\n', '1 944 366 965 394\\n', '1 642 476 662 503\\n', '1 123 1013 153 1035\\n', '1 923 184 948 216\\n', '1 773 262 797 288\\n', '1 664 276 688 302\\n', '1 882 494 901 519\\n', '1 504 301 534 323\\n', '1 659 411 694 430\\n', '1 435 451 459 474\\n', '1 493 379 527 396\\n']\n"
     ]
    }
   ],
   "source": [
    "# ginseng, head 좌표 따로 모으는 반복문\n",
    "ginseng_coordinate = []\n",
    "head_coordinate = []\n",
    "for i in txt:\n",
    "    if i[0] == '0':\n",
    "        ginseng_coordinate.append(i)\n",
    "    if i[0] == '1':\n",
    "        head_coordinate.append(i)\n",
    "print(ginseng_coordinate)\n",
    "print(head_coordinate)\n",
    "\n"
   ]
  },
  {
   "cell_type": "code",
   "execution_count": 166,
   "id": "743bb6c7",
   "metadata": {
    "scrolled": false
   },
   "outputs": [
    {
     "name": "stdout",
     "output_type": "stream",
     "text": [
      "인삼 갯수 : 10\n",
      "뇌두 갯수 : 12\n",
      "\n",
      "(좌상단 : 639, 470)\n",
      "(우상단 : 674, 470)\n",
      "(좌하단 : 639, 645)\n",
      "(우하단 : 674, 645)\n",
      "\n",
      "(좌상단 : 217, 446)\n",
      "(우상단 : 458, 446)\n",
      "(좌하단 : 217, 489)\n",
      "(우하단 : 458, 489)\n",
      "\n",
      "(좌상단 : 162, 988)\n",
      "(우상단 : 422, 988)\n",
      "(좌하단 : 162, 1064)\n",
      "(우하단 : 422, 1064)\n",
      "\n",
      "(좌상단 : 244, 374)\n",
      "(우상단 : 522, 374)\n",
      "(좌하단 : 244, 446)\n",
      "(우하단 : 522, 446)\n",
      "\n",
      "(좌상단 : 214, 292)\n",
      "(우상단 : 540, 292)\n",
      "(좌하단 : 214, 345)\n",
      "(우하단 : 540, 345)\n",
      "\n",
      "(좌상단 : 652, 102)\n",
      "(우상단 : 700, 102)\n",
      "(좌하단 : 652, 303)\n",
      "(우하단 : 700, 303)\n",
      "\n",
      "(좌상단 : 722, 182)\n",
      "(우상단 : 792, 182)\n",
      "(좌하단 : 722, 289)\n",
      "(우하단 : 792, 289)\n",
      "\n",
      "(좌상단 : 658, 401)\n",
      "(우상단 : 959, 401)\n",
      "(좌하단 : 658, 464)\n",
      "(우하단 : 959, 464)\n",
      "\n",
      "(좌상단 : 877, 488)\n",
      "(우상단 : 930, 488)\n",
      "(좌하단 : 877, 688)\n",
      "(우하단 : 930, 688)\n",
      "\n",
      "(좌상단 : 907, 181)\n",
      "(우상단 : 964, 181)\n",
      "(좌하단 : 907, 396)\n",
      "(우하단 : 964, 396)\n",
      "\n"
     ]
    }
   ],
   "source": [
    "# 인삼 좌표 도출\n",
    "\n",
    "print(f'인삼 갯수 : {len(ginseng_coordinate)}')\n",
    "print(f'뇌두 갯수 : {len(head_coordinate)}')\n",
    "print('')\n",
    "\n",
    "for i in range(len(ginseng_coordinate)):\n",
    "    ginseng = ginseng_coordinate[i][2:-1].split(' ')\n",
    "    gLTx = ginseng[0]\n",
    "    gLTy = ginseng[1]\n",
    "    gRBx = ginseng[2]\n",
    "    gRBy = ginseng[3]\n",
    "\n",
    "    print(f'(좌상단 : {gLTx}, {gLTy})')\n",
    "    print(f'(우상단 : {gRBx}, {gLTy})')\n",
    "    print(f'(좌하단 : {gLTx}, {gRBy})')\n",
    "    print(f'(우하단 : {gRBx}, {gRBy})')\n",
    "    print('')\n",
    "    "
   ]
  },
  {
   "cell_type": "code",
   "execution_count": 167,
   "id": "86e1370b",
   "metadata": {},
   "outputs": [
    {
     "name": "stdout",
     "output_type": "stream",
     "text": [
      "(231, 338)\n",
      "(954, 380)\n",
      "(652, 489)\n",
      "(138, 1024)\n",
      "(935, 200)\n",
      "(785, 275)\n",
      "(676, 289)\n",
      "(891, 506)\n",
      "(519, 312)\n",
      "(676, 420)\n",
      "(447, 462)\n",
      "(510, 387)\n"
     ]
    }
   ],
   "source": [
    "#뇌두 중심점 도출\n",
    "for i in range(len(head_coordinate)):\n",
    "    head = head_coordinate[i][2:-1].split(' ')\n",
    "    hLTx, hLTy, hRBx, hRBy = int(head[0]), int(head[1]), int(head[2]), int(head[3])\n",
    "    print(f'({int((hLTx+hRBx)/2)}, {int((hLTy+hRBy)/2)})')"
   ]
  },
  {
   "cell_type": "code",
   "execution_count": 188,
   "id": "55722c95",
   "metadata": {
    "scrolled": true
   },
   "outputs": [
    {
     "name": "stdout",
     "output_type": "stream",
     "text": [
      "[(639, 470), (674, 470), (639, 645), (674, 645)]의 뇌두는 (652, 489)입니다\n",
      "[(217, 446), (458, 446), (217, 489), (458, 489)]의 뇌두는 (447, 462)입니다\n",
      "[(244, 374), (522, 374), (244, 446), (522, 446)]의 뇌두는 (510, 387)입니다\n",
      "[(214, 292), (540, 292), (214, 345), (540, 345)]의 뇌두는 (231, 338)입니다\n",
      "[(214, 292), (540, 292), (214, 345), (540, 345)]의 뇌두는 (519, 312)입니다\n",
      "[(652, 102), (700, 102), (652, 303), (700, 303)]의 뇌두는 (676, 289)입니다\n",
      "[(722, 182), (792, 182), (722, 289), (792, 289)]의 뇌두는 (785, 275)입니다\n",
      "[(658, 401), (959, 401), (658, 464), (959, 464)]의 뇌두는 (676, 420)입니다\n",
      "[(877, 488), (930, 488), (877, 688), (930, 688)]의 뇌두는 (891, 506)입니다\n",
      "[(907, 181), (964, 181), (907, 396), (964, 396)]의 뇌두는 (954, 380)입니다\n",
      "[(907, 181), (964, 181), (907, 396), (964, 396)]의 뇌두는 (935, 200)입니다\n"
     ]
    }
   ],
   "source": [
    "for i in range(len(ginseng_coordinate)):    \n",
    "    ginseng = ginseng_coordinate[i][2:-1].split(' ')\n",
    "    gLTx, gLTy, gRBx, gRBy = int(ginseng[0]), int(ginseng[1]), int(ginseng[2]), int(ginseng[3])\n",
    "    LT, RT, LB, RB = (gLTx, gLTy), (gRBx, gLTy), (gLTx, gRBy), (gRBx, gRBy)\n",
    "    globals()[\"g{}\".format(i)] = [LT, RT, LB, RB]\n",
    "\n",
    "    for j in range(len(head_coordinate)):\n",
    "        head = head_coordinate[j][2:-1].split(' ')\n",
    "        hLTx, hLTy, hRBx, hRBy = int(head[0]), int(head[1]), int(head[2]), int(head[3])\n",
    "        globals()[\"h{}\".format(j)] = (int((hLTx+hRBx)/2), int((hLTy+hRBy)/2))\n",
    "\n",
    "        if (globals()[\"g{}\".format(i)][3][0] > globals()[\"h{}\".format(j)][0] > globals()[\"g{}\".format(i)][0][0]) and (globals()[\"g{}\".format(i)][3][1] > globals()[\"h{}\".format(j)][1] > globals()[\"g{}\".format(i)][0][1]):\n",
    "            print(f'{globals()[\"g{}\".format(i)]}의 뇌두는 {globals()[\"h{}\".format(j)]}입니다')\n",
    "\n",
    "\n",
    "        "
   ]
  },
  {
   "cell_type": "code",
   "execution_count": 189,
   "id": "58092a40",
   "metadata": {},
   "outputs": [
    {
     "name": "stdout",
     "output_type": "stream",
     "text": [
      "g0의 뇌두는 h2입니다\n",
      "g1의 뇌두는 h10입니다\n",
      "g3의 뇌두는 h11입니다\n",
      "g4의 뇌두는 h0입니다\n",
      "g4의 뇌두는 h8입니다\n",
      "g5의 뇌두는 h6입니다\n",
      "g6의 뇌두는 h5입니다\n",
      "g7의 뇌두는 h9입니다\n",
      "g8의 뇌두는 h7입니다\n",
      "g9의 뇌두는 h1입니다\n",
      "g9의 뇌두는 h4입니다\n"
     ]
    }
   ],
   "source": [
    "for i in range(len(ginseng_coordinate)):    \n",
    "    ginseng = ginseng_coordinate[i][2:-1].split(' ')\n",
    "    gLTx, gLTy, gRBx, gRBy = int(ginseng[0]), int(ginseng[1]), int(ginseng[2]), int(ginseng[3])\n",
    "    LT, RT, LB, RB = (gLTx, gLTy), (gRBx, gLTy), (gLTx, gRBy), (gRBx, gRBy)\n",
    "    globals()[\"g{}\".format(i)] = [LT, RT, LB, RB]\n",
    "\n",
    "    for j in range(len(head_coordinate)):\n",
    "        head = head_coordinate[j][2:-1].split(' ')\n",
    "        hLTx, hLTy, hRBx, hRBy = int(head[0]), int(head[1]), int(head[2]), int(head[3])\n",
    "        globals()[\"h{}\".format(j)] = (int((hLTx+hRBx)/2), int((hLTy+hRBy)/2))\n",
    "\n",
    "        if (globals()[\"g{}\".format(i)][3][0] > globals()[\"h{}\".format(j)][0] > globals()[\"g{}\".format(i)][0][0]) and (globals()[\"g{}\".format(i)][3][1] > globals()[\"h{}\".format(j)][1] > globals()[\"g{}\".format(i)][0][1]):\n",
    "            print(f'g{i}의 뇌두는 h{j}입니다')\n"
   ]
  },
  {
   "cell_type": "code",
   "execution_count": 175,
   "id": "09a0cc52",
   "metadata": {},
   "outputs": [
    {
     "name": "stdout",
     "output_type": "stream",
     "text": [
      "g0의 뇌두는 h2입니다\n",
      "g1의 뇌두는 h0입니다\n",
      "g1의 뇌두는 h10입니다\n",
      "g2의 뇌두는 h0입니다\n",
      "g3의 뇌두는 h8입니다\n",
      "g3의 뇌두는 h10입니다\n",
      "g3의 뇌두는 h11입니다\n",
      "g4의 뇌두는 h0입니다\n",
      "g4의 뇌두는 h8입니다\n",
      "g4의 뇌두는 h10입니다\n",
      "g4의 뇌두는 h11입니다\n",
      "g5의 뇌두는 h2입니다\n",
      "g5의 뇌두는 h6입니다\n",
      "g5의 뇌두는 h9입니다\n",
      "g6의 뇌두는 h5입니다\n",
      "g7의 뇌두는 h1입니다\n",
      "g7의 뇌두는 h4입니다\n",
      "g7의 뇌두는 h5입니다\n",
      "g7의 뇌두는 h6입니다\n",
      "g7의 뇌두는 h7입니다\n",
      "g7의 뇌두는 h9입니다\n",
      "g8의 뇌두는 h7입니다\n",
      "g9의 뇌두는 h1입니다\n",
      "g9의 뇌두는 h4입니다\n"
     ]
    }
   ],
   "source": [
    "for i in range(len(ginseng_coordinate)):    \n",
    "    ginseng = ginseng_coordinate[i][2:-1].split(' ')\n",
    "    gLTx, gLTy, gRBx, gRBy = int(ginseng[0]), int(ginseng[1]), int(ginseng[2]), int(ginseng[3])\n",
    "    LT, RT, LB, RB = (gLTx, gLTy), (gRBx, gLTy), (gLTx, gRBy), (gRBx, gRBy)\n",
    "    globals()[\"g{}\".format(i)] = [LT, RT, LB, RB]\n",
    "\n",
    "    for j in range(len(head_coordinate)):\n",
    "        head = head_coordinate[j][2:-1].split(' ')\n",
    "        hLTx, hLTy, hRBx, hRBy = int(head[0]), int(head[1]), int(head[2]), int(head[3])\n",
    "        globals()[\"h{}\".format(j)] = (int((hLTx+hRBx)/2), int((hLTy+hRBy)/2))\n",
    "\n",
    "        if (globals()[\"g{}\".format(i)][3] > globals()[\"h{}\".format(j)] > globals()[\"g{}\".format(i)][0]):\n",
    "            print(f'g{i}의 뇌두는 h{j}입니다')"
   ]
  },
  {
   "cell_type": "code",
   "execution_count": null,
   "id": "8dd4978f",
   "metadata": {},
   "outputs": [],
   "source": []
  },
  {
   "cell_type": "code",
   "execution_count": null,
   "id": "61366ce9",
   "metadata": {},
   "outputs": [],
   "source": []
  },
  {
   "cell_type": "code",
   "execution_count": null,
   "id": "33d0285b",
   "metadata": {},
   "outputs": [],
   "source": []
  },
  {
   "cell_type": "code",
   "execution_count": null,
   "id": "5b649729",
   "metadata": {},
   "outputs": [],
   "source": []
  },
  {
   "cell_type": "code",
   "execution_count": null,
   "id": "ea4cd834",
   "metadata": {},
   "outputs": [],
   "source": []
  },
  {
   "cell_type": "code",
   "execution_count": null,
   "id": "7380dc8a",
   "metadata": {},
   "outputs": [],
   "source": []
  },
  {
   "cell_type": "code",
   "execution_count": null,
   "id": "80d894b4",
   "metadata": {},
   "outputs": [],
   "source": []
  },
  {
   "cell_type": "code",
   "execution_count": null,
   "id": "de41bd98",
   "metadata": {},
   "outputs": [],
   "source": []
  },
  {
   "cell_type": "code",
   "execution_count": null,
   "id": "0ea77ff2",
   "metadata": {},
   "outputs": [],
   "source": []
  },
  {
   "cell_type": "code",
   "execution_count": null,
   "id": "7b5c059e",
   "metadata": {},
   "outputs": [],
   "source": []
  },
  {
   "cell_type": "code",
   "execution_count": 186,
   "id": "26fe7886",
   "metadata": {},
   "outputs": [
    {
     "name": "stdout",
     "output_type": "stream",
     "text": [
      "g0의 뇌두는 (652, 489)입니다\n",
      "g0의 뇌두는 (652, 489)입니다\n",
      "g0의 뇌두는 (652, 489)입니다\n",
      "g0의 뇌두는 (652, 489)입니다\n",
      "g0의 뇌두는 (652, 489)입니다\n",
      "g0의 뇌두는 (652, 489)입니다\n",
      "g0의 뇌두는 (652, 489)입니다\n",
      "g0의 뇌두는 (652, 489)입니다\n",
      "g0의 뇌두는 (652, 489)입니다\n",
      "g0의 뇌두는 (652, 489)입니다\n",
      "g0의 뇌두는 (652, 489)입니다\n",
      "g0의 뇌두는 (652, 489)입니다\n"
     ]
    }
   ],
   "source": [
    "for i in range(len(ginseng_coordinate)):    \n",
    "    ginseng = ginseng_coordinate[i][2:-1].split(' ')\n",
    "    gLTx, gLTy, gRBx, gRBy = int(ginseng[0]), int(ginseng[1]), int(ginseng[2]), int(ginseng[3])\n",
    "    LT, RT, LB, RB = (gLTx, gLTy), (gRBx, gLTy), (gLTx, gRBy), (gRBx, gRBy)\n",
    "    globals()[\"g{}\".format(i)] = [LT, RT, LB, RB]\n",
    "\n",
    "    for j in range(len(head_coordinate)):\n",
    "        head = head_coordinate[i][2:-1].split(' ')\n",
    "        hLTx, hLTy, hRBx, hRBy = int(head[0]), int(head[1]), int(head[2]), int(head[3])\n",
    "        globals()[\"h{}\".format(j)] = (int((hLTx+hRBx)/2), int((hLTy+hRBy)/2))\n",
    "\n",
    "        if (g0[3][0] > globals()[\"h{}\".format(j)][0] > g0[0][0]) and (g0[3][1] > globals()[\"h{}\".format(j)][1] > g0[0][1]):\n",
    "            print(f'g0의 뇌두는 {globals()[\"h{}\".format(j)]}입니다')\n",
    "        \n",
    "\n",
    "        "
   ]
  },
  {
   "cell_type": "code",
   "execution_count": 150,
   "id": "a2e0038c",
   "metadata": {},
   "outputs": [],
   "source": [
    "aa = (0,0)\n",
    "bb = (10,10)\n",
    "cc = (5,5)"
   ]
  },
  {
   "cell_type": "code",
   "execution_count": 151,
   "id": "f1c4f6fa",
   "metadata": {},
   "outputs": [
    {
     "name": "stdout",
     "output_type": "stream",
     "text": [
      "ok\n"
     ]
    }
   ],
   "source": [
    "if bb > cc > aa :\n",
    "    print(\"ok\")"
   ]
  },
  {
   "cell_type": "code",
   "execution_count": null,
   "id": "e0d34a3c",
   "metadata": {},
   "outputs": [],
   "source": []
  },
  {
   "cell_type": "code",
   "execution_count": 147,
   "id": "883a0b70",
   "metadata": {},
   "outputs": [],
   "source": [
    "if g0[3] > h11 > g0[0]:\n",
    "    pirnt(\"ok\")"
   ]
  },
  {
   "cell_type": "code",
   "execution_count": 75,
   "id": "f1c5c535",
   "metadata": {},
   "outputs": [
    {
     "data": {
      "text/plain": [
       "[(639, 470), (674, 470), (639, 645), (674, 645)]"
      ]
     },
     "execution_count": 75,
     "metadata": {},
     "output_type": "execute_result"
    }
   ],
   "source": [
    "g0"
   ]
  },
  {
   "cell_type": "code",
   "execution_count": 76,
   "id": "6fc13019",
   "metadata": {},
   "outputs": [
    {
     "data": {
      "text/plain": [
       "[(217, 446), (458, 446), (217, 489), (458, 489)]"
      ]
     },
     "execution_count": 76,
     "metadata": {},
     "output_type": "execute_result"
    }
   ],
   "source": [
    "g1"
   ]
  },
  {
   "cell_type": "code",
   "execution_count": 77,
   "id": "1a2b0a9d",
   "metadata": {},
   "outputs": [
    {
     "data": {
      "text/plain": [
       "(162, 988)"
      ]
     },
     "execution_count": 77,
     "metadata": {},
     "output_type": "execute_result"
    }
   ],
   "source": [
    "g2 #list\n",
    "g2[0]"
   ]
  },
  {
   "cell_type": "code",
   "execution_count": 78,
   "id": "4b1796ee",
   "metadata": {},
   "outputs": [
    {
     "data": {
      "text/plain": [
       "(676, 420)"
      ]
     },
     "execution_count": 78,
     "metadata": {},
     "output_type": "execute_result"
    }
   ],
   "source": [
    "h1"
   ]
  },
  {
   "cell_type": "code",
   "execution_count": 79,
   "id": "bdbcb608",
   "metadata": {},
   "outputs": [
    {
     "data": {
      "text/plain": [
       "(676, 420)"
      ]
     },
     "execution_count": 79,
     "metadata": {},
     "output_type": "execute_result"
    }
   ],
   "source": [
    "h2 #튜플"
   ]
  },
  {
   "cell_type": "code",
   "execution_count": 80,
   "id": "e6858b37",
   "metadata": {},
   "outputs": [
    {
     "name": "stdout",
     "output_type": "stream",
     "text": [
      "인삼 갯수 : 10\n",
      "뇌두 갯수 : 12\n"
     ]
    }
   ],
   "source": [
    "print(f'인삼 갯수 : {len(ginseng_coordinate)}')\n",
    "print(f'뇌두 갯수 : {len(head_coordinate)}')"
   ]
  },
  {
   "cell_type": "code",
   "execution_count": 81,
   "id": "2dd204a9",
   "metadata": {},
   "outputs": [],
   "source": [
    "#인삼 바운딩 박스 범위\n",
    "\n",
    "# x축 범위 \n",
    "\n",
    "# y축 범위"
   ]
  },
  {
   "cell_type": "code",
   "execution_count": null,
   "id": "fe2334fe",
   "metadata": {},
   "outputs": [],
   "source": []
  },
  {
   "cell_type": "code",
   "execution_count": null,
   "id": "2581102c",
   "metadata": {},
   "outputs": [],
   "source": []
  },
  {
   "cell_type": "code",
   "execution_count": null,
   "id": "a2c8b4d9",
   "metadata": {},
   "outputs": [],
   "source": []
  },
  {
   "cell_type": "code",
   "execution_count": null,
   "id": "7011a60e",
   "metadata": {},
   "outputs": [],
   "source": []
  },
  {
   "cell_type": "code",
   "execution_count": null,
   "id": "40b9a8c9",
   "metadata": {},
   "outputs": [],
   "source": []
  },
  {
   "cell_type": "code",
   "execution_count": null,
   "id": "8543ffa5",
   "metadata": {},
   "outputs": [],
   "source": []
  },
  {
   "cell_type": "code",
   "execution_count": 48,
   "id": "28c29468",
   "metadata": {},
   "outputs": [],
   "source": []
  },
  {
   "cell_type": "code",
   "execution_count": 40,
   "id": "71e1a81e",
   "metadata": {},
   "outputs": [
    {
     "data": {
      "text/plain": [
       "<matplotlib.image.AxesImage at 0x1df7759e070>"
      ]
     },
     "execution_count": 40,
     "metadata": {},
     "output_type": "execute_result"
    },
    {
     "data": {
      "image/png": "[encoded data removed]",
      "text/plain": [
       "<Figure size 432x288 with 1 Axes>"
      ]
     },
     "metadata": {},
     "output_type": "display_data"
    }
   ],
   "source": [
    "#디텍션 결과 이미지로\n",
    "exp_path = \"C:/Users/AI/Auto_Farming/yolov5/runs/detect/exp/\"\n",
    "img1 = cv2.imread(exp_path+'capture.png', cv2.IMREAD_COLOR)\n",
    "img1 = cv2.cvtColor(img1, cv2.COLOR_BGR2RGB)\n",
    "plt.xticks([]); plt.yticks([])\n",
    "plt.imshow(img1)"
   ]
  },
  {
   "cell_type": "markdown",
   "id": "11a96a69",
   "metadata": {},
   "source": [
    "## ROI에 도형 그리기\n",
    "\n",
    "- <font color=red>cv2.rectangle(배경이미지, 좌상단점좌표, 우하단점좌표, 색상, 선두께)</font> : 사각형 그리기\n",
    "- <font color=red>cv2.circle(배경이미지, 중심좌표, 반지름, 색상, 선두께)</font> : 원 그리기"
   ]
  },
  {
   "cell_type": "code",
   "execution_count": null,
   "id": "a7cd0c67",
   "metadata": {},
   "outputs": [],
   "source": [
    "[(244, 374), (522, 374), (244, 446), (522, 446)]의 뇌두는 (519, 312)입니다\n",
    "[(244, 374), (522, 374), (244, 446), (522, 446)]의 뇌두는 (447, 462)입니다\n",
    "[(244, 374), (522, 374), (244, 446), (522, 446)]의 뇌두는 (510, 387)입니다"
   ]
  },
  {
   "cell_type": "code",
   "execution_count": 184,
   "id": "e579f7ef",
   "metadata": {},
   "outputs": [
    {
     "name": "stdout",
     "output_type": "stream",
     "text": [
      "604.0\n",
      "276.5\n"
     ]
    },
    {
     "data": {
      "text/plain": [
       "<matplotlib.image.AxesImage at 0x1e83c09cc40>"
      ]
     },
     "execution_count": 184,
     "metadata": {},
     "output_type": "execute_result"
    },
    {
     "data": {
      "image/png": "[encoded data removed]",
      "text/plain": [
       "<Figure size 432x288 with 1 Axes>"
      ]
     },
     "metadata": {},
     "output_type": "display_data"
    }
   ],
   "source": [
    "path12 = \"C:/Users/AI/Auto_Farming/image/capture.png\"\n",
    "img12 = cv2.imread(path12, cv2.IMREAD_COLOR)\n",
    "img12 = cv2.cvtColor(img12, cv2.COLOR_BGR2RGB)\n",
    "\n",
    "img12 = cv2.rectangle(img12, (244, 374),(522, 446),(0,255,0), 3)\n",
    "img12 = cv2.circle(img12, (519, 312),5,(255,0,0), -1)\n",
    "\n",
    "\n",
    "x13 = (587+621)/2\n",
    "y13 = (78+475)/2\n",
    "print(x13)\n",
    "print(y13)\n",
    "img13 = cv2.circle(img12, (int(x13), int(y13)),3,(255,0,0), -1)\n",
    "\n",
    "plt.xticks([]); plt.yticks([])\n",
    "plt.imshow(img12)"
   ]
  },
  {
   "cell_type": "markdown",
   "id": "093a0334",
   "metadata": {},
   "source": [
    "# 데이터 전처리"
   ]
  },
  {
   "cell_type": "code",
   "execution_count": null,
   "id": "3139c492",
   "metadata": {},
   "outputs": [],
   "source": [
    "import cv2\n",
    "webcam = cv2.VideoCapture(1)\n",
    "webcam.set(cv2.CAP_PROP_FRAME_WIDTH, 1080)\n",
    "webcam.set(cv2.CAP_PROP_FRAME_HEIGHT, 1080)\n",
    "if not webcam.isOpened():\n",
    "    print(\"Could not open webcam\")\n",
    "    exit()\n",
    "while webcam.isOpened():\n",
    "    status, frame = webcam.read()\n",
    "    frame = frame[:,:720]\n",
    "    if status:\n",
    "        cv2.imshow(\"test\", frame)\n",
    "    if cv2.waitKey(1) & 0xFF == ord('q'):\n",
    "        break\n",
    "webcam.release()\n",
    "cv2.destroyAllWindows()"
   ]
  },
  {
   "cell_type": "code",
   "execution_count": null,
   "id": "22fd903c",
   "metadata": {},
   "outputs": [],
   "source": [
    "# #인삼 디텍션된 것 크롭\n",
    "# ginseng_crop_path = \"C:/Users/AI/Auto_Farming/yolov5/runs/detect/exp/crops/Ginseng/\"\n",
    "# ginseng_crop_img = cv2.imread(ginseng_crop_path+'capture.jpg', cv2.IMREAD_COLOR)\n",
    "# ginseng_crop_img = cv2.cvtColor(ginseng_crop_img, cv2.COLOR_BGR2RGB)\n",
    "# plt.xticks([]); plt.yticks([])\n",
    "# plt.imshow(ginseng_crop_img)"
   ]
  },
  {
   "cell_type": "code",
   "execution_count": null,
   "id": "b66860b5",
   "metadata": {},
   "outputs": [],
   "source": [
    "# #뇌두 디텍션된 것 크롭\n",
    "# head_crop_path = \"C:/Users/AI/Auto_Farming/yolov5/runs/detect/exp/crops/head/\"\n",
    "# head_crop_img = cv2.imread(head_crop_path+\"capture.jpg\", cv2.IMREAD_COLOR)\n",
    "# head_crop_img = cv2.cvtColor(head_crop_img, cv2.COLOR_BGR2RGB)\n",
    "# plt.xticks([]); plt.yticks([])\n",
    "# plt.imshow(head_crop_img)"
   ]
  },
  {
   "cell_type": "code",
   "execution_count": null,
   "id": "5fec5c8f",
   "metadata": {},
   "outputs": [],
   "source": [
    "# list1=glob.glob(exp_path+'crops/Ginseng/capture*')\n",
    "# for i in list1:\n",
    "#     os.unlink(i)\n",
    "# list2=glob.glob(exp_path+'crops/head/capture*')\n",
    "# for i in list2:\n",
    "#     os.unlink(i)"
   ]
  },
  {
   "cell_type": "code",
   "execution_count": null,
   "id": "7d8c1337",
   "metadata": {},
   "outputs": [],
   "source": [
    "#     # 원본 동영상 크기 정보\n",
    "#     w = cap.get(cv2.CAP_PROP_FRAME_WIDTH)\n",
    "#     h = cap.get(cv2.CAP_PROP_FRAME_HEIGHT)\n",
    "#     print(\"원본 동영상 너비(가로) : {}, 높이(세로) : {}\".format(w, h))\n",
    "\n",
    "#     # 동영상 크기 변환\n",
    "#     cap.set(cv2.CAP_PROP_FRAME_WIDTH, 480) # 가로\n",
    "#     cap.set(cv2.CAP_PROP_FRAME_HEIGHT, 480) # 세로\n",
    "\n",
    "#     # 변환된 동영상 크기 정보\n",
    "#     w = cap.get(cv2.CAP_PROP_FRAME_WIDTH)\n",
    "#     h = cap.get(cv2.CAP_PROP_FRAME_HEIGHT)\n",
    "#     print(\"변환된 동영상 너비(가로) : {}, 높이(세로) : {}\".format(w, h))"
   ]
  },
  {
   "cell_type": "code",
   "execution_count": null,
   "id": "99e6cfac",
   "metadata": {},
   "outputs": [],
   "source": [
    "    # 이미지 보정 시작 #\n",
    "#     img = cv2.imread(\"C:/Users\\AI/Auto_Farming/image/capture.png\", cv2.IMREAD_COLOR)\n",
    "#     img = cv2.cvtColor(img, cv2.COLOR_BGR2RGB)\n",
    "#     plt.xticks([]); plt.yticks([])\n",
    "#     plt.imshow(img)\n",
    "#     img = cv2.cvtColor(img, cv2.COLOR_BGR2RGB)\n",
    "#     hsv = cv2.cvtColor(img, cv2.COLOR_RGB2HSV)\n",
    "#     lower = np.array([20, 100,200])\n",
    "#     higher = np.array([30, 255, 255])\n",
    "#     mask = cv2.inRange(hsv, lower, higher)\n",
    "#     img_hsv = cv2.bitwise_and(img, img, mask=mask)\n",
    "#     img_gray = cv2.cvtColor(img_hsv, cv2.COLOR_RGB2GRAY)\n",
    "    # 이미지 보정 끝 #"
   ]
  },
  {
   "cell_type": "code",
   "execution_count": null,
   "id": "ca69c23c",
   "metadata": {},
   "outputs": [],
   "source": [
    "# os 라이브러리에 디렉터리 안에 있는 파일 명 리스트로 받는 함수 쓰고\n",
    "# 거기서 정렬한다음에 \n",
    "# 맨 뒤에꺼 하면 최신 파일 되니까\n",
    "# 그거 로드하면 되긴할듯 "
   ]
  },
  {
   "cell_type": "code",
   "execution_count": null,
   "id": "d8ac36a9",
   "metadata": {},
   "outputs": [],
   "source": [
    "# 갯수 =\n",
    "# 좌표list = []\n",
    "# 가장 앞쪽에 있는거 좌표 = []\n",
    "# 가장 앞쪽에 있는거 좌표 로봇에 보내주고\n",
    "# 갯수가 n개 이하되면 피서한테 튕기면서 당겨오라고 하고"
   ]
  },
  {
   "cell_type": "code",
   "execution_count": null,
   "id": "b9892fb0",
   "metadata": {},
   "outputs": [],
   "source": [
    "# 생육상태 파악 <딥러닝(상민)\n",
    "# 외부인 침입 감지 <딥러닝(대철)\n",
    "# 컨베이어벨트 작동 여부 확인 <딥러닝(?)\n",
    "# 환기장치, 워터벨브 등 엑추에이터 작동여부 확인 <딥러닝(?)\n",
    "# 챗봇상담 < 딥러닝(?)"
   ]
  },
  {
   "cell_type": "code",
   "execution_count": null,
   "id": "6620a1a8",
   "metadata": {},
   "outputs": [],
   "source": [
    "!python detect.py --weight ./runs/train/insam_yolov5s_results/weights/best.pt --source '{img}'"
   ]
  }
 ],
 "metadata": {
  "kernelspec": {
   "display_name": "Python 3 (ipykernel)",
   "language": "python",
   "name": "python3"
  },
  "language_info": {
   "codemirror_mode": {
    "name": "ipython",
    "version": 3
   },
   "file_extension": ".py",
   "mimetype": "text/x-python",
   "name": "python",
   "nbconvert_exporter": "python",
   "pygments_lexer": "ipython3",
   "version": "3.9.12"
  },
  "toc": {
   "base_numbering": 1,
   "nav_menu": {},
   "number_sections": true,
   "sideBar": true,
   "skip_h1_title": false,
   "title_cell": "Table of Contents",
   "title_sidebar": "Contents",
   "toc_cell": false,
   "toc_position": {},
   "toc_section_display": true,
   "toc_window_display": false
  }
 },
 "nbformat": 4,
 "nbformat_minor": 5
}
