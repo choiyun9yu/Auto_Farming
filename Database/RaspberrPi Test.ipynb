{
 "cells": [
  {
   "cell_type": "code",
   "execution_count": null,
   "id": "bdb4c04f",
   "metadata": {},
   "outputs": [],
   "source": [
    "import requests\n",
    "import time\n",
    "\n",
    "while True:\n",
    "    try:\n",
    "        btn1 = requests.get(\"http://192.168.70.8:8080/btn1\")\n",
    "        btn2 = requests.get(\"http://192.168.70.8:8080/btn2\")\n",
    "        btn3 = requests.get(\"http://192.168.70.8:8080/btn3\")\n",
    "        btn4 = requests.get(\"http://192.168.70.8:8080/btn4\")\n",
    "        btn5 = requests.get(\"http://192.168.70.8:8080/btn5\")\n",
    "        btn6 = requests.get(\"http://192.168.70.8:8080/btn6\")\n",
    "        btn7 = requests.get(\"http://192.168.70.8:8080/btn7\")\n",
    "        if btn1.text !='':\n",
    "            print(f'btn1 : {btn1.text}', end=' ')\n",
    "        if btn2.text !='':\n",
    "            print(f'btn2 : {btn2.text}', end=' ')\n",
    "        if btn3.text !='':\n",
    "            print(f'btn3 : {btn3.text}', end=' ')\n",
    "        if btn4.text !='':\n",
    "            print(f'btn4 : {btn4.text}', end=' ')            \n",
    "        if btn5.text !='':\n",
    "            print(f'btn5 : {btn5.text}', end=' ')    \n",
    "        if btn6.text !='':\n",
    "            print(f'btn6 : {btn6.text}', end=' ')\n",
    "        if btn7.text !='':\n",
    "            print(f'btn7 : {btn7.text}', end=' ')            \n",
    "        time.sleep(5)\n",
    "        print('')\n",
    "    except:\n",
    "        print(\"Closed\")\n",
    "        time.sleep(5)"
   ]
  },
  {
   "cell_type": "code",
   "execution_count": null,
   "id": "7782f0bf",
   "metadata": {},
   "outputs": [],
   "source": [
    "import requests\n",
    "import time"
   ]
  },
  {
   "cell_type": "code",
   "execution_count": 91,
   "id": "a6662566",
   "metadata": {},
   "outputs": [
    {
     "name": "stdout",
     "output_type": "stream",
     "text": [
      "undefined\n"
     ]
    }
   ],
   "source": [
    "btn = requests.post(\"http://192.168.70.8:8080/btn2\")\n",
    "try:\n",
    "    print(btn.json())\n",
    "except:\n",
    "    print(btn.text)"
   ]
  },
  {
   "cell_type": "code",
   "execution_count": 10,
   "id": "a3861622",
   "metadata": {},
   "outputs": [
    {
     "data": {
      "text/plain": [
       "'<!DOCTYPE html>\\n<html lang=\"en\">\\n<head>\\n<meta charset=\"utf-8\">\\n<title>Error</title>\\n</head>\\n<body>\\n<pre>Cannot GET /btn2</pre>\\n</body>\\n</html>\\n'"
      ]
     },
     "execution_count": 10,
     "metadata": {},
     "output_type": "execute_result"
    }
   ],
   "source": [
    "btn = requests.get(\"http://192.168.70.8:8080/btn2\")\n",
    "btn.text"
   ]
  }
 ],
 "metadata": {
  "kernelspec": {
   "display_name": "Python 3 (ipykernel)",
   "language": "python",
   "name": "python3"
  },
  "language_info": {
   "codemirror_mode": {
    "name": "ipython",
    "version": 3
   },
   "file_extension": ".py",
   "mimetype": "text/x-python",
   "name": "python",
   "nbconvert_exporter": "python",
   "pygments_lexer": "ipython3",
   "version": "3.9.12"
  },
  "toc": {
   "base_numbering": 1,
   "nav_menu": {},
   "number_sections": true,
   "sideBar": true,
   "skip_h1_title": false,
   "title_cell": "Table of Contents",
   "title_sidebar": "Contents",
   "toc_cell": false,
   "toc_position": {},
   "toc_section_display": true,
   "toc_window_display": false
  }
 },
 "nbformat": 4,
 "nbformat_minor": 5
}
