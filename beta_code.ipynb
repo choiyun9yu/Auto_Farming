{
 "cells": [
  {
   "cell_type": "code",
   "execution_count": null,
   "id": "b318d726",
   "metadata": {},
   "outputs": [],
   "source": [
    "from threading import Thread\n",
    "import time\n",
    "\n",
    "def yolo(id, root, source):\n",
    "    !python {root}detect.py --weight {root}runs/train/insam_yolov5s_results/weights/best.pt --source {source} --save-txt --exist-ok --hide-conf --hide-labels\n",
    "    return\n",
    "\n",
    "def master(id, root):\n",
    "    with open(root+\"runs/detect/exp/result.txt\", \"r\") as f:\n",
    "        com = f.readlines()[0]\n",
    "    while True:\n",
    "        with open(root+\"runs/detect/exp/result.txt\", \"r\") as f:\n",
    "            try :\n",
    "                txt = f.readlines()[0]\n",
    "            except IndexError : \n",
    "                pass\n",
    "            else :\n",
    "                if txt != com:\n",
    "                    com = txt\n",
    "                    GA, conveyer, DA, feeder, angle, x_coordinate, y_coordinate = txt.split(' ')\n",
    "                    print('-------------SYNARIO-------------')\n",
    "                    print(f'인삼 검출 갯수 : {GA}')\n",
    "                    print(f'컨베이어 작동') if conveyer == '1' else print('컨베이어 멈춤')\n",
    "                    print(f'정상 검출 갯수 : {DA}')\n",
    "                    print('피더 작동') if feeder == '1' else print('피더 멈춤')\n",
    "                    print(f'그리퍼 각도 : {angle}')\n",
    "                    print(f'좌표 : {x_coordinate}, {y_coordinate}')\n",
    "                    print('-'*33)\n",
    "                    print(f'소켓OUT : {conveyer}, {feeder}, {angle}, {x_coordinate}, {y_coordinate}')\n",
    "                    print('-'*33)\n",
    "                    print(' ')\n",
    "                    print(' ')\n",
    "        time.sleep(1)\n",
    "    return\n",
    "\n",
    "if __name__ == \"__main__\":\n",
    "    root = 'C:/Users/AI/firecat_e6/yolov5/'\n",
    "    yolo = Thread(target=yolo, args=(1, root, 0))\n",
    "    master = Thread(target=master, args=(2, root))\n",
    "    yolo.start()\n",
    "    master.start()"
   ]
  }
 ],
 "metadata": {
  "kernelspec": {
   "display_name": "Python 3 (ipykernel)",
   "language": "python",
   "name": "python3"
  },
  "language_info": {
   "codemirror_mode": {
    "name": "ipython",
    "version": 3
   },
   "file_extension": ".py",
   "mimetype": "text/x-python",
   "name": "python",
   "nbconvert_exporter": "python",
   "pygments_lexer": "ipython3",
   "version": "3.9.12"
  },
  "toc": {
   "base_numbering": 1,
   "nav_menu": {},
   "number_sections": true,
   "sideBar": true,
   "skip_h1_title": false,
   "title_cell": "Table of Contents",
   "title_sidebar": "Contents",
   "toc_cell": false,
   "toc_position": {},
   "toc_section_display": true,
   "toc_window_display": false
  }
 },
 "nbformat": 4,
 "nbformat_minor": 5
}
