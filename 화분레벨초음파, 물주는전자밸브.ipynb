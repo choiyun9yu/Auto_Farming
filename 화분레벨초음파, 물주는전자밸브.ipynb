{
 "cells": [
  {
   "cell_type": "code",
   "execution_count": null,
   "id": "4eb3255c",
   "metadata": {},
   "outputs": [],
   "source": [
    "# 컨베이어 벨트 움직이라는 신호는 밖에서 주고\n",
    "\n",
    "#setup\n",
    "st = 1\n",
    "mv = 0\n",
    "\n",
    "#loop\n",
    "mv = (밖에서 움직여도 좋다는 신호를 받는 변수)\n",
    "\n",
    "if mv == 1:\n",
    "    moter on\n",
    "\n",
    "if eco <= 15 and (state == 0):\n",
    "    stop\n",
    "    state = 1\n",
    "    mv = 0\n",
    "\n",
    "if eco >= 15:\n",
    "    state = 0"
   ]
  },
  {
   "cell_type": "code",
   "execution_count": null,
   "id": "19f60e33",
   "metadata": {},
   "outputs": [],
   "source": [
    "# 워터펌프 물주는 조건식\n",
    "\n",
    "#setup\n",
    "wp = 0\n",
    "\n",
    "#loop\n",
    "wp = (밖에서 물 줘도 좋다는 신호를 받는 변수)\n",
    "\n",
    "if wp = 1:\n",
    "    valve on\n",
    "    timesleep(n)\n",
    "    wp = 0\n",
    "\n",
    "\n",
    "    #변수 물통의 수위에 따라서 전자밸브에서 쏘는 시간당 물의 양이 달라지는 것"
   ]
  }
 ],
 "metadata": {
  "kernelspec": {
   "display_name": "Python 3 (ipykernel)",
   "language": "python",
   "name": "python3"
  },
  "language_info": {
   "codemirror_mode": {
    "name": "ipython",
    "version": 3
   },
   "file_extension": ".py",
   "mimetype": "text/x-python",
   "name": "python",
   "nbconvert_exporter": "python",
   "pygments_lexer": "ipython3",
   "version": "3.9.12"
  },
  "toc": {
   "base_numbering": 1,
   "nav_menu": {},
   "number_sections": true,
   "sideBar": true,
   "skip_h1_title": false,
   "title_cell": "Table of Contents",
   "title_sidebar": "Contents",
   "toc_cell": false,
   "toc_position": {},
   "toc_section_display": true,
   "toc_window_display": false
  }
 },
 "nbformat": 4,
 "nbformat_minor": 5
}
