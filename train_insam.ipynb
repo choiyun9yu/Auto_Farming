{
 "cells": [
  {
   "cell_type": "markdown",
   "metadata": {
    "id": "Qf3cM6JnHzD6"
   },
   "source": [
    "# 구글 마운트"
   ]
  },
  {
   "cell_type": "code",
   "execution_count": 113,
   "metadata": {
    "colab": {
     "base_uri": "https://localhost:8080/"
    },
    "executionInfo": {
     "elapsed": 3807,
     "status": "ok",
     "timestamp": 1667290483819,
     "user": {
      "displayName": "YunGyu Choi",
      "userId": "06416918229746608709"
     },
     "user_tz": -540
    },
    "id": "TT5PuXcmDuLk",
    "outputId": "4d52bbc3-50e0-4e56-a946-c2ad32477d9b"
   },
   "outputs": [
    {
     "name": "stdout",
     "output_type": "stream",
     "text": [
      "Drive already mounted at /content/drive; to attempt to forcibly remount, call drive.mount(\"/content/drive\", force_remount=True).\n"
     ]
    }
   ],
   "source": [
    "from google.colab import drive\n",
    "drive.mount('/content/drive')"
   ]
  },
  {
   "cell_type": "code",
   "execution_count": 1,
   "metadata": {
    "executionInfo": {
     "elapsed": 5478,
     "status": "ok",
     "timestamp": 1667283556834,
     "user": {
      "displayName": "YunGyu Choi",
      "userId": "06416918229746608709"
     },
     "user_tz": -540
    },
    "id": "Jgmc15Ig-m3T"
   },
   "outputs": [],
   "source": [
    "# 할당된 GPU 실행\n",
    "import tensorflow as tf\n",
    "import os\n",
    "\n",
    "os.environ[\"CUDA_VISIBLE_DEVICES\"] = \"0\"\n",
    "gpus = tf.config.experimental.list_physical_devices(\"GPU\")\n",
    "\n",
    "if gpus:\n",
    "    try:\n",
    "    # GPU 메모리 사용 설정\n",
    "    tf.config.experimental.set_memory_growth(gpus[0], True)  \n",
    "    except RuntimeError as re:\n",
    "    print(re)\n",
    "\n",
    "# GPU 메모리를 전부 할당하지 않고 필요에 따라 자동으로 할당하도록 설정\n",
    "from tensorflow.compat.v1 import ConfigProto, InteractiveSession\n",
    "\n",
    "config = ConfigProto()\n",
    "config.gpu_options.allow_growth = True\n",
    "session = InteractiveSession(config = config)"
   ]
  },
  {
   "cell_type": "code",
   "execution_count": null,
   "metadata": {
    "id": "WH2vkJw1-1YM"
   },
   "outputs": [],
   "source": [
    "%pwd # print woriking directory"
   ]
  },
  {
   "cell_type": "code",
   "execution_count": null,
   "metadata": {
    "id": "fQuvKPma8f8y"
   },
   "outputs": [],
   "source": [
    "%ls"
   ]
  },
  {
   "cell_type": "code",
   "execution_count": null,
   "metadata": {
    "id": "gynGf1el8qH0"
   },
   "outputs": [],
   "source": [
    "%cd drive/MyDrive/Auto_Farming"
   ]
  },
  {
   "cell_type": "code",
   "execution_count": null,
   "metadata": {
    "id": "HMz1E0rJ-44Y"
   },
   "outputs": [],
   "source": [
    "# # github에 있는 파일 다운로드\n",
    "# !git clone https://github.com/ultralytics/yolov5"
   ]
  },
  {
   "cell_type": "code",
   "execution_count": null,
   "metadata": {
    "id": "LPr1k6Ky-6HQ"
   },
   "outputs": [],
   "source": [
    "# yolo를 사용하는데 필요한 라이브러리 설치하기\n",
    "%cd yolov5/\n",
    "!pip install -r requirements.txt  # requirements.txt 안에 적혀있음"
   ]
  },
  {
   "cell_type": "code",
   "execution_count": 84,
   "metadata": {
    "colab": {
     "base_uri": "https://localhost:8080/",
     "height": 52
    },
    "executionInfo": {
     "elapsed": 384,
     "status": "ok",
     "timestamp": 1667285866246,
     "user": {
      "displayName": "YunGyu Choi",
      "userId": "06416918229746608709"
     },
     "user_tz": -540
    },
    "id": "eH_qO_yJ-_Zc",
    "outputId": "2ed3caf9-c76c-4a61-a8de-1824593dab1e"
   },
   "outputs": [
    {
     "name": "stdout",
     "output_type": "stream",
     "text": [
      "/content/drive/MyDrive/Auto_Farming\n"
     ]
    },
    {
     "data": {
      "application/vnd.google.colaboratory.intrinsic+json": {
       "type": "string"
      },
      "text/plain": [
       "'/content/drive/MyDrive/Auto_Farming'"
      ]
     },
     "execution_count": 84,
     "metadata": {},
     "output_type": "execute_result"
    }
   ],
   "source": [
    "%cd ../\n",
    "%pwd"
   ]
  },
  {
   "cell_type": "code",
   "execution_count": 78,
   "metadata": {
    "executionInfo": {
     "elapsed": 563,
     "status": "ok",
     "timestamp": 1667285616591,
     "user": {
      "displayName": "YunGyu Choi",
      "userId": "06416918229746608709"
     },
     "user_tz": -540
    },
    "id": "uFR7dN71_CB1"
   },
   "outputs": [],
   "source": [
    "# make directory\n",
    "%mkdir dataset"
   ]
  },
  {
   "cell_type": "markdown",
   "metadata": {
    "id": "Fzpowf7sH9MM"
   },
   "source": [
    "# 데이터 로드"
   ]
  },
  {
   "cell_type": "code",
   "execution_count": null,
   "metadata": {
    "id": "715mQY08Bmqr"
   },
   "outputs": [],
   "source": [
    "# # dataset load (roboflow to gogle drive)\n",
    "# !curl -L \"https://app.roboflow.com/ds/XglPwSifXL?key=AU3AnbzfQU\" > roboflow.zip; unzip roboflow.zip; rm roboflow.zip"
   ]
  },
  {
   "cell_type": "code",
   "execution_count": 90,
   "metadata": {
    "executionInfo": {
     "elapsed": 345,
     "status": "ok",
     "timestamp": 1667286735669,
     "user": {
      "displayName": "YunGyu Choi",
      "userId": "06416918229746608709"
     },
     "user_tz": -540
    },
    "id": "lXZTcDin_Do5"
   },
   "outputs": [],
   "source": [
    "# move\n",
    "%mv ./README.dataset.txt ./README.roboflow.txt ./data.yaml train test valid /content/drive/MyDrive/Auto_Farming/dataset"
   ]
  },
  {
   "cell_type": "code",
   "execution_count": 91,
   "metadata": {
    "colab": {
     "base_uri": "https://localhost:8080/"
    },
    "executionInfo": {
     "elapsed": 750,
     "status": "ok",
     "timestamp": 1667286772524,
     "user": {
      "displayName": "YunGyu Choi",
      "userId": "06416918229746608709"
     },
     "user_tz": -540
    },
    "id": "LUoYpe9P_GbR",
    "outputId": "e5a491dd-4847-45c1-f6fe-7c7ea4f01263"
   },
   "outputs": [
    {
     "name": "stdout",
     "output_type": "stream",
     "text": [
      "train: ../train/images\n",
      "val: ../valid/images\n",
      "test: ../test/images\n",
      "\n",
      "nc: 2\n",
      "names: ['Ginseng', 'head']\n",
      "\n",
      "roboflow:\n",
      "  workspace: yungyu-choi-urac0\n",
      "  project: insam\n",
      "  version: 10\n",
      "  license: CC BY 4.0\n",
      "  url: https://universe.roboflow.com/yungyu-choi-urac0/insam/dataset/10"
     ]
    }
   ],
   "source": [
    "# 파일 내용 보기\n",
    "%cat /content/drive/MyDrive/Auto_Farming/dataset/data.yaml"
   ]
  },
  {
   "cell_type": "code",
   "execution_count": 92,
   "metadata": {
    "colab": {
     "base_uri": "https://localhost:8080/"
    },
    "executionInfo": {
     "elapsed": 370,
     "status": "ok",
     "timestamp": 1667286833386,
     "user": {
      "displayName": "YunGyu Choi",
      "userId": "06416918229746608709"
     },
     "user_tz": -540
    },
    "id": "2ef6kCDb_H0T",
    "outputId": "55e8df5f-0bba-4820-97af-873360e99117"
   },
   "outputs": [
    {
     "data": {
      "text/plain": [
       "9"
      ]
     },
     "execution_count": 92,
     "metadata": {},
     "output_type": "execute_result"
    }
   ],
   "source": [
    "from glob import glob  # 많은 파일들을 다룰때 사용\n",
    "\n",
    "train_img_list = glob('/content/drive/MyDrive/Auto_Farming/dataset/train/images/*.jpg')\n",
    "test_img_list = glob('/content/drive/MyDrive/Auto_Farming/dataset/test/images/*.jpg')\n",
    "valid_img_list = glob('/content/drive/MyDrive/Auto_Farming/dataset/valid/images/*.jpg')\n",
    "len(valid_img_list)"
   ]
  },
  {
   "cell_type": "code",
   "execution_count": 94,
   "metadata": {
    "executionInfo": {
     "elapsed": 349,
     "status": "ok",
     "timestamp": 1667286902403,
     "user": {
      "displayName": "YunGyu Choi",
      "userId": "06416918229746608709"
     },
     "user_tz": -540
    },
    "id": "HnIweIzY_NIb"
   },
   "outputs": [],
   "source": [
    "# 모든 이미지 경로를 하나의 파일에 담아줌\n",
    "# train.txt, val.txt 파일에 각각 담아줌\n",
    "with open('/content/drive/MyDrive/Auto_Farming/dataset/train.txt', 'w') as f:\n",
    "  f.write('\\n'.join(train_img_list) + '\\n')\n",
    "\n",
    "with open('/content/drive/MyDrive/Auto_Farming/dataset/val.txt', 'w') as f:\n",
    "  f.write('\\n'.join(valid_img_list) + '\\n')"
   ]
  },
  {
   "cell_type": "code",
   "execution_count": 95,
   "metadata": {
    "colab": {
     "base_uri": "https://localhost:8080/"
    },
    "executionInfo": {
     "elapsed": 4,
     "status": "ok",
     "timestamp": 1667286902809,
     "user": {
      "displayName": "YunGyu Choi",
      "userId": "06416918229746608709"
     },
     "user_tz": -540
    },
    "id": "zhdNJOR7_POU",
    "outputId": "b59dd5b6-bd07-4b95-c6ce-7933bda41455"
   },
   "outputs": [
    {
     "name": "stdout",
     "output_type": "stream",
     "text": [
      "{'train': '../train/images', 'val': '../valid/images', 'test': '../test/images', 'nc': 2, 'names': ['Ginseng', 'head'], 'roboflow': {'workspace': 'yungyu-choi-urac0', 'project': 'insam', 'version': 10, 'license': 'CC BY 4.0', 'url': 'https://universe.roboflow.com/yungyu-choi-urac0/insam/dataset/10'}}\n"
     ]
    }
   ],
   "source": [
    "# data.yaml 파일 불러와서 수정\n",
    "import yaml\n",
    "\n",
    "with open('/content/drive/MyDrive/Auto_Farming/dataset/data.yaml','r') as f:\n",
    "  data = yaml.safe_load(f)\n",
    "\n",
    "print(data)"
   ]
  },
  {
   "cell_type": "code",
   "execution_count": 96,
   "metadata": {
    "colab": {
     "base_uri": "https://localhost:8080/"
    },
    "executionInfo": {
     "elapsed": 397,
     "status": "ok",
     "timestamp": 1667286920415,
     "user": {
      "displayName": "YunGyu Choi",
      "userId": "06416918229746608709"
     },
     "user_tz": -540
    },
    "id": "540dg3rZ_Qq-",
    "outputId": "2ae57427-69e3-4d91-8e20-28ffbc0bf47b"
   },
   "outputs": [
    {
     "data": {
      "text/plain": [
       "{'train': '/content/drive/MyDrive/Auto_Farming/dataset/train.txt',\n",
       " 'val': '/content/drive/MyDrive/Auto_Farming/dataset/val.txt',\n",
       " 'test': '../test/images',\n",
       " 'nc': 2,\n",
       " 'names': ['Ginseng', 'head'],\n",
       " 'roboflow': {'workspace': 'yungyu-choi-urac0',\n",
       "  'project': 'insam',\n",
       "  'version': 10,\n",
       "  'license': 'CC BY 4.0',\n",
       "  'url': 'https://universe.roboflow.com/yungyu-choi-urac0/insam/dataset/10'}}"
      ]
     },
     "execution_count": 96,
     "metadata": {},
     "output_type": "execute_result"
    }
   ],
   "source": [
    "data['train'] = '/content/drive/MyDrive/Auto_Farming/dataset/train.txt'\n",
    "data['val'] = '/content/drive/MyDrive/Auto_Farming/dataset/val.txt'\n",
    "data"
   ]
  },
  {
   "cell_type": "code",
   "execution_count": 97,
   "metadata": {
    "executionInfo": {
     "elapsed": 2,
     "status": "ok",
     "timestamp": 1667286929695,
     "user": {
      "displayName": "YunGyu Choi",
      "userId": "06416918229746608709"
     },
     "user_tz": -540
    },
    "id": "zZZIg10W_Rzx"
   },
   "outputs": [],
   "source": [
    "# data를 yaml파일에 덮어쓰기\n",
    "with open('/content/drive/MyDrive/Auto_Farming/dataset/data.yaml','w') as f:\n",
    "  yaml.dump(data,f)"
   ]
  },
  {
   "cell_type": "markdown",
   "metadata": {
    "id": "YptcHOFvICG7"
   },
   "source": [
    "# 전이 학습"
   ]
  },
  {
   "cell_type": "code",
   "execution_count": 5,
   "metadata": {},
   "outputs": [
    {
     "data": {
      "text/plain": [
       "'C:\\\\Users\\\\AI\\\\Auto_Farming'"
      ]
     },
     "execution_count": 5,
     "metadata": {},
     "output_type": "execute_result"
    }
   ],
   "source": [
    "%pwd"
   ]
  },
  {
   "cell_type": "code",
   "execution_count": 3,
   "metadata": {},
   "outputs": [
    {
     "name": "stdout",
     "output_type": "stream",
     "text": [
      "C:\\Users\\AI\\Auto_Farming\n"
     ]
    }
   ],
   "source": [
    "%cd "
   ]
  },
  {
   "cell_type": "code",
   "execution_count": 4,
   "metadata": {},
   "outputs": [
    {
     "data": {
      "text/plain": [
       "'C:\\\\Users\\\\AI\\\\Auto_Farming'"
      ]
     },
     "execution_count": 4,
     "metadata": {},
     "output_type": "execute_result"
    }
   ],
   "source": [
    "import os \n",
    "os.getcwd()"
   ]
  },
  {
   "cell_type": "code",
   "execution_count": null,
   "metadata": {},
   "outputs": [],
   "source": []
  },
  {
   "cell_type": "code",
   "execution_count": null,
   "metadata": {},
   "outputs": [],
   "source": [
    "# 학습 모듈이 있는 dir로 이동\n",
    "%cd yolov5"
   ]
  },
  {
   "cell_type": "code",
   "execution_count": 100,
   "metadata": {
    "colab": {
     "base_uri": "https://localhost:8080/"
    },
    "executionInfo": {
     "elapsed": 38658,
     "status": "ok",
     "timestamp": 1667287603459,
     "user": {
      "displayName": "YunGyu Choi",
      "userId": "06416918229746608709"
     },
     "user_tz": -540
    },
    "id": "4yDyIl9kEVTh",
    "outputId": "d5c31cf1-0729-4f99-ed3c-2aaf6aa501ba"
   },
   "outputs": [
    {
     "name": "stdout",
     "output_type": "stream",
     "text": [
      "\u001b[34m\u001b[1mtrain: \u001b[0mweights=/content/drive/MyDrive/Auto_Farming/yolov5/runs/train/insam_yolov5s_results/weights/best.pt, cfg=./models/yolov5s.yaml, data=/content/dataset/data.yaml, hyp=data/hyps/hyp.scratch-low.yaml, epochs=1, batch_size=128, imgsz=448, rect=False, resume=False, nosave=False, noval=False, noautoanchor=False, noplots=False, evolve=None, bucket=, cache=None, image_weights=False, device=, multi_scale=False, single_cls=False, optimizer=SGD, sync_bn=False, workers=8, project=runs/train, name=insam_yolov5s_results, exist_ok=False, quad=False, cos_lr=False, label_smoothing=0.0, patience=100, freeze=[0], save_period=-1, seed=0, local_rank=-1, entity=None, upload_dataset=False, bbox_interval=-1, artifact_alias=latest\n",
      "\u001b[34m\u001b[1mgithub: \u001b[0mup to date with https://github.com/ultralytics/yolov5 ✅\n",
      "YOLOv5 🚀 v6.2-219-ga83d2a5 Python-3.7.15 torch-1.12.1+cu113 CUDA:0 (Tesla T4, 15110MiB)\n",
      "\n",
      "\u001b[34m\u001b[1mhyperparameters: \u001b[0mlr0=0.01, lrf=0.01, momentum=0.937, weight_decay=0.0005, warmup_epochs=3.0, warmup_momentum=0.8, warmup_bias_lr=0.1, box=0.05, cls=0.5, cls_pw=1.0, obj=1.0, obj_pw=1.0, iou_t=0.2, anchor_t=4.0, fl_gamma=0.0, hsv_h=0.015, hsv_s=0.7, hsv_v=0.4, degrees=0.0, translate=0.1, scale=0.5, shear=0.0, perspective=0.0, flipud=0.0, fliplr=0.5, mosaic=1.0, mixup=0.0, copy_paste=0.0\n",
      "\u001b[34m\u001b[1mClearML: \u001b[0mrun 'pip install clearml' to automatically track, visualize and remotely train YOLOv5 🚀 in ClearML\n",
      "\u001b[34m\u001b[1mComet: \u001b[0mrun 'pip install comet_ml' to automatically track and visualize YOLOv5 🚀 runs in Comet\n",
      "\u001b[34m\u001b[1mTensorBoard: \u001b[0mStart with 'tensorboard --logdir runs/train', view at http://localhost:6006/\n",
      "Overriding model.yaml nc=80 with nc=2\n",
      "\n",
      "                 from  n    params  module                                  arguments                     \n",
      "  0                -1  1      3520  models.common.Conv                      [3, 32, 6, 2, 2]              \n",
      "  1                -1  1     18560  models.common.Conv                      [32, 64, 3, 2]                \n",
      "  2                -1  1     18816  models.common.C3                        [64, 64, 1]                   \n",
      "  3                -1  1     73984  models.common.Conv                      [64, 128, 3, 2]               \n",
      "  4                -1  2    115712  models.common.C3                        [128, 128, 2]                 \n",
      "  5                -1  1    295424  models.common.Conv                      [128, 256, 3, 2]              \n",
      "  6                -1  3    625152  models.common.C3                        [256, 256, 3]                 \n",
      "  7                -1  1   1180672  models.common.Conv                      [256, 512, 3, 2]              \n",
      "  8                -1  1   1182720  models.common.C3                        [512, 512, 1]                 \n",
      "  9                -1  1    656896  models.common.SPPF                      [512, 512, 5]                 \n",
      " 10                -1  1    131584  models.common.Conv                      [512, 256, 1, 1]              \n",
      " 11                -1  1         0  torch.nn.modules.upsampling.Upsample    [None, 2, 'nearest']          \n",
      " 12           [-1, 6]  1         0  models.common.Concat                    [1]                           \n",
      " 13                -1  1    361984  models.common.C3                        [512, 256, 1, False]          \n",
      " 14                -1  1     33024  models.common.Conv                      [256, 128, 1, 1]              \n",
      " 15                -1  1         0  torch.nn.modules.upsampling.Upsample    [None, 2, 'nearest']          \n",
      " 16           [-1, 4]  1         0  models.common.Concat                    [1]                           \n",
      " 17                -1  1     90880  models.common.C3                        [256, 128, 1, False]          \n",
      " 18                -1  1    147712  models.common.Conv                      [128, 128, 3, 2]              \n",
      " 19          [-1, 14]  1         0  models.common.Concat                    [1]                           \n",
      " 20                -1  1    296448  models.common.C3                        [256, 256, 1, False]          \n",
      " 21                -1  1    590336  models.common.Conv                      [256, 256, 3, 2]              \n",
      " 22          [-1, 10]  1         0  models.common.Concat                    [1]                           \n",
      " 23                -1  1   1182720  models.common.C3                        [512, 512, 1, False]          \n",
      " 24      [17, 20, 23]  1     18879  models.yolo.Detect                      [2, [[10, 13, 16, 30, 33, 23], [30, 61, 62, 45, 59, 119], [116, 90, 156, 198, 373, 326]], [128, 256, 512]]\n",
      "YOLOv5s summary: 214 layers, 7025023 parameters, 7025023 gradients, 16.0 GFLOPs\n",
      "\n",
      "Transferred 348/349 items from /content/drive/MyDrive/Auto_Farming/yolov5/runs/train/insam_yolov5s_results/weights/best.pt\n",
      "\u001b[34m\u001b[1mAMP: \u001b[0mchecks passed ✅\n",
      "\u001b[34m\u001b[1moptimizer:\u001b[0m SGD(lr=0.01) with parameter groups 57 weight(decay=0.0), 60 weight(decay=0.001), 60 bias\n",
      "\u001b[34m\u001b[1malbumentations: \u001b[0mBlur(p=0.01, blur_limit=(3, 7)), MedianBlur(p=0.01, blur_limit=(3, 7)), ToGray(p=0.01), CLAHE(p=0.01, clip_limit=(1, 4.0), tile_grid_size=(8, 8))\n",
      "\u001b[34m\u001b[1mtrain: \u001b[0mScanning '/content/dataset/train.cache' images and labels... 92 found, 0 missing, 0 empty, 0 corrupt: 100% 92/92 [00:00<?, ?it/s]\n",
      "\u001b[34m\u001b[1mval: \u001b[0mScanning '/content/dataset/val.cache' images and labels... 9 found, 0 missing, 0 empty, 0 corrupt: 100% 9/9 [00:00<?, ?it/s]\n",
      "\n",
      "\u001b[34m\u001b[1mAutoAnchor: \u001b[0m2.87 anchors/target, 0.988 Best Possible Recall (BPR). Current anchors are a good fit to dataset ✅\n",
      "Plotting labels to runs/train/insam_yolov5s_results2/labels.jpg... \n",
      "Image sizes 448 train, 448 val\n",
      "Using 2 dataloader workers\n",
      "Logging results to \u001b[1mruns/train/insam_yolov5s_results2\u001b[0m\n",
      "Starting training for 1 epochs...\n",
      "\n",
      "      Epoch    GPU_mem   box_loss   obj_loss   cls_loss  Instances       Size\n",
      "        0/0      10.1G     0.0364    0.05312   0.001744       2281        448: 100% 1/1 [00:05<00:00,  5.05s/it]\n",
      "/usr/local/lib/python3.7/dist-packages/torch/optim/lr_scheduler.py:136: UserWarning: Detected call of `lr_scheduler.step()` before `optimizer.step()`. In PyTorch 1.1.0 and later, you should call them in the opposite order: `optimizer.step()` before `lr_scheduler.step()`.  Failure to do this will result in PyTorch skipping the first value of the learning rate schedule. See more details at https://pytorch.org/docs/stable/optim.html#how-to-adjust-learning-rate\n",
      "  \"https://pytorch.org/docs/stable/optim.html#how-to-adjust-learning-rate\", UserWarning)\n",
      "                 Class     Images  Instances          P          R      mAP50   mAP50-95: 100% 1/1 [00:00<00:00,  4.05it/s]\n",
      "                   all          9        151      0.949      0.966      0.977      0.613\n",
      "\n",
      "1 epochs completed in 0.002 hours.\n",
      "Optimizer stripped from runs/train/insam_yolov5s_results2/weights/last.pt, 14.3MB\n",
      "Optimizer stripped from runs/train/insam_yolov5s_results2/weights/best.pt, 14.3MB\n",
      "\n",
      "Validating runs/train/insam_yolov5s_results2/weights/best.pt...\n",
      "Fusing layers... \n",
      "YOLOv5s summary: 157 layers, 7015519 parameters, 0 gradients, 15.8 GFLOPs\n",
      "                 Class     Images  Instances          P          R      mAP50   mAP50-95: 100% 1/1 [00:00<00:00,  7.26it/s]\n",
      "                   all          9        151      0.949      0.965      0.977      0.615\n",
      "               Ginseng          9         76      0.912      0.957      0.972      0.655\n",
      "                  head          9         75      0.986      0.973      0.982      0.574\n",
      "Results saved to \u001b[1mruns/train/insam_yolov5s_results2\u001b[0m\n"
     ]
    }
   ],
   "source": [
    "# 학습 모듈 실행\n",
    "\n",
    "#경고 무시\n",
    "import warnings\n",
    "warnings.filterwarnings(\"ignore\")\n",
    "# 사용할 파이썬 파일\n",
    "python_t = 'train.py'\n",
    "# 사용할 데이터를 적어둔 yaml file\n",
    "data = '/content/drive/MyDrive/Auto_Farming/dataset/data.yaml'\n",
    "# 사용할 모델 구조 (x>l>n>m>s)\n",
    "cfg = './models/yolov5s.yaml'\n",
    "# 사용할 가중치\n",
    "weights = '/content/drive/MyDrive/Auto_Farming/yolov5/runs/train/insam_yolov5s_results/weights/best.pt'\n",
    "# 학습 결과를 저장할 폴더 이름\n",
    "name = 'insam_yolov5s_results'\n",
    "\n",
    "!python {python_t} --img 448 --batch 128 --epochs 1 --data {data} --cfg {cfg} --weights {weights} --name {name}"
   ]
  },
  {
   "cell_type": "markdown",
   "metadata": {
    "id": "1z4Z1DLkHrMI"
   },
   "source": [
    "## 학습 결과 해석\n",
    "- gpu_mem : 사용한 그래픽카드 메모리\n",
    "- box_loss : 영역추정을 얼마나 잘 했는지\n",
    "- obj_loss : 객체탐지를 얼마나 잘 했는지 \n",
    "- mAP50 : 영역안 타겟 추측 확률이 50%이하인 것의 정확도?\n",
    "- mAP50-95 : 영역 안 타겟의 추측 확률이 50~95 사이인 것들의 정확도?"
   ]
  },
  {
   "cell_type": "markdown",
   "metadata": {
    "id": "u6dRdtFSIF-g"
   },
   "source": [
    "# 평가"
   ]
  },
  {
   "cell_type": "code",
   "execution_count": 108,
   "metadata": {
    "colab": {
     "base_uri": "https://localhost:8080/",
     "height": 465
    },
    "executionInfo": {
     "elapsed": 6,
     "status": "ok",
     "timestamp": 1667287683840,
     "user": {
      "displayName": "YunGyu Choi",
      "userId": "06416918229746608709"
     },
     "user_tz": -540
    },
    "id": "eAJoimxRBxoP",
    "outputId": "00b77a00-23fc-4ee3-d294-ddae8f8fb13b"
   },
   "outputs": [
    {
     "data": {
      "image/jpeg": "[encoded data removed]",
      "text/plain": [
       "<IPython.core.display.Image object>"
      ]
     },
     "execution_count": 108,
     "metadata": {},
     "output_type": "execute_result"
    }
   ],
   "source": [
    "from IPython.display import Image\n",
    "test_img = test_img_list[5]\n",
    "Image(test_img)"
   ]
  },
  {
   "cell_type": "code",
   "execution_count": 112,
   "metadata": {
    "executionInfo": {
     "elapsed": 7609,
     "status": "ok",
     "timestamp": 1667288605990,
     "user": {
      "displayName": "YunGyu Choi",
      "userId": "06416918229746608709"
     },
     "user_tz": -540
    },
    "id": "3vIV9gJpB2d0"
   },
   "outputs": [],
   "source": [
    "# 실행의 결과를 변수에 담음\n",
    "# 사용할 파이썬\n",
    "python_d = 'detect.py'\n",
    "# 사용할 가중치\n",
    "weights = '/content/drive/MyDrive/Auto_Farming/yolov5/runs/train/insam_yolov5s_results/weights/best.pt'\n",
    "# conf : confidence(추정 영역 내 타겟이 있을 확률 / 컨피던스가 몇 이상인 것을 표시할지)\n",
    "# source : 판별에 사용할 소스\n",
    "rs = !python {python_d} --weights {weights} --img 448 --conf 0.4 --source \"{test_img}\""
   ]
  },
  {
   "cell_type": "code",
   "execution_count": 122,
   "metadata": {
    "colab": {
     "base_uri": "https://localhost:8080/"
    },
    "executionInfo": {
     "elapsed": 644,
     "status": "ok",
     "timestamp": 1667291209969,
     "user": {
      "displayName": "YunGyu Choi",
      "userId": "06416918229746608709"
     },
     "user_tz": -540
    },
    "id": "bJ2DMU77B4gV",
    "outputId": "fc65c630-4254-4264-f176-2bd5bd2ea247"
   },
   "outputs": [
    {
     "data": {
      "text/plain": [
       "[\"\\x1b[34m\\x1b[1mdetect: \\x1b[0mweights=['/content/drive/MyDrive/Auto_Farming/yolov5/runs/train/insam_yolov5s_results/weights/best.pt'], source=/content/drive/MyDrive/Auto_Farming/dataset/test/images/KakaoTalk_20221031_144727497_jpg.rf.2947b6e0b42def47cb959dcc4f6e7ffb.jpg, data=data/coco128.yaml, imgsz=[448, 448], conf_thres=0.4, iou_thres=0.45, max_det=1000, device=, view_img=False, save_txt=False, save_conf=False, save_crop=False, nosave=False, classes=None, agnostic_nms=False, augment=False, visualize=False, update=False, project=runs/detect, name=exp, exist_ok=False, line_thickness=3, hide_labels=False, hide_conf=False, half=False, dnn=False, vid_stride=1\",\n",
       " 'YOLOv5 🚀 v6.2-219-ga83d2a5 Python-3.7.15 torch-1.12.1+cu113 CUDA:0 (Tesla T4, 15110MiB)',\n",
       " '',\n",
       " 'Fusing layers... ',\n",
       " 'YOLOv5s summary: 157 layers, 7015519 parameters, 0 gradients, 15.8 GFLOPs',\n",
       " 'image 1/1 /content/drive/MyDrive/Auto_Farming/dataset/test/images/KakaoTalk_20221031_144727497_jpg.rf.2947b6e0b42def47cb959dcc4f6e7ffb.jpg: 448x448 3 Ginsengs, 3 heads, 9.8ms',\n",
       " 'Speed: 0.4ms pre-process, 9.8ms inference, 1.4ms NMS per image at shape (1, 3, 448, 448)',\n",
       " 'Results saved to \\x1b[1mruns/detect/exp3\\x1b[0m']"
      ]
     },
     "execution_count": 122,
     "metadata": {},
     "output_type": "execute_result"
    }
   ],
   "source": [
    "rs"
   ]
  },
  {
   "cell_type": "markdown",
   "metadata": {
    "id": "9qu4W2hRJqz9"
   },
   "source": [
    "# 웹캠 연결"
   ]
  },
  {
   "cell_type": "code",
   "execution_count": null,
   "metadata": {
    "id": "SulH6LrTTM7r"
   },
   "outputs": [],
   "source": [
    "!python detect.py --weight ./runs/train/insam_yolov5s_results/weights/best.pt --source 1"
   ]
  }
 ],
 "metadata": {
  "accelerator": "GPU",
  "colab": {
   "provenance": []
  },
  "gpuClass": "standard",
  "kernelspec": {
   "display_name": "Python 3 (ipykernel)",
   "language": "python",
   "name": "python3"
  },
  "language_info": {
   "codemirror_mode": {
    "name": "ipython",
    "version": 3
   },
   "file_extension": ".py",
   "mimetype": "text/x-python",
   "name": "python",
   "nbconvert_exporter": "python",
   "pygments_lexer": "ipython3",
   "version": "3.9.12"
  },
  "toc": {
   "base_numbering": 1,
   "nav_menu": {},
   "number_sections": true,
   "sideBar": true,
   "skip_h1_title": false,
   "title_cell": "Table of Contents",
   "title_sidebar": "Contents",
   "toc_cell": false,
   "toc_position": {},
   "toc_section_display": true,
   "toc_window_display": false
  }
 },
 "nbformat": 4,
 "nbformat_minor": 1
}
