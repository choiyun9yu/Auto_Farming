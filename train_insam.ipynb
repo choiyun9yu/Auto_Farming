{
 "cells": [
  {
   "attachments": {},
   "cell_type": "markdown",
   "metadata": {
    "id": "Qf3cM6JnHzD6"
   },
   "source": [
    "# Colab 설정"
   ]
  },
  {
   "cell_type": "code",
   "execution_count": 113,
   "metadata": {
    "colab": {
     "base_uri": "https://localhost:8080/"
    },
    "executionInfo": {
     "elapsed": 3807,
     "status": "ok",
     "timestamp": 1667290483819,
     "user": {
      "displayName": "YunGyu Choi",
      "userId": "06416918229746608709"
     },
     "user_tz": -540
    },
    "id": "TT5PuXcmDuLk",
    "outputId": "4d52bbc3-50e0-4e56-a946-c2ad32477d9b"
   },
   "outputs": [
    {
     "name": "stdout",
     "output_type": "stream",
     "text": [
      "Drive already mounted at /content/drive; to attempt to forcibly remount, call drive.mount(\"/content/drive\", force_remount=True).\n"
     ]
    }
   ],
   "source": [
    "from google.colab import drive\n",
    "drive.mount('/content/drive')"
   ]
  },
  {
   "cell_type": "code",
   "execution_count": 1,
   "metadata": {
    "executionInfo": {
     "elapsed": 5478,
     "status": "ok",
     "timestamp": 1667283556834,
     "user": {
      "displayName": "YunGyu Choi",
      "userId": "06416918229746608709"
     },
     "user_tz": -540
    },
    "id": "Jgmc15Ig-m3T"
   },
   "outputs": [],
   "source": [
    "# 할당된 GPU 실행\n",
    "import tensorflow as tf\n",
    "import os\n",
    "\n",
    "os.environ[\"CUDA_VISIBLE_DEVICES\"] = \"0\"\n",
    "gpus = tf.config.experimental.list_physical_devices(\"GPU\")\n",
    "\n",
    "if gpus:\n",
    "    try:\n",
    "    # GPU 메모리 사용 설정\n",
    "    tf.config.experimental.set_memory_growth(gpus[0], True)  \n",
    "    except RuntimeError as re:\n",
    "    print(re)\n",
    "\n",
    "# GPU 메모리를 전부 할당하지 않고 필요에 따라 자동으로 할당하도록 설정\n",
    "from tensorflow.compat.v1 import ConfigProto, InteractiveSession\n",
    "\n",
    "config = ConfigProto()\n",
    "config.gpu_options.allow_growth = True\n",
    "session = InteractiveSession(config = config)"
   ]
  },
  {
   "attachments": {},
   "cell_type": "markdown",
   "metadata": {},
   "source": [
    "# Yolo v5 설정"
   ]
  },
  {
   "cell_type": "code",
   "execution_count": null,
   "metadata": {
    "id": "WH2vkJw1-1YM"
   },
   "outputs": [],
   "source": [
    "# 현재 디렉토리 출력\n",
    "%pwd"
   ]
  },
  {
   "cell_type": "code",
   "execution_count": null,
   "metadata": {
    "id": "fQuvKPma8f8y"
   },
   "outputs": [],
   "source": [
    "# 지금 디렉터리 내 존재하는 디렉토리 리스트 출력\n",
    "%ls"
   ]
  },
  {
   "cell_type": "code",
   "execution_count": null,
   "metadata": {
    "id": "gynGf1el8qH0"
   },
   "outputs": [],
   "source": [
    "# 해당 경로로 이동\n",
    "%cd drive/MyDrive/Auto_Farming"
   ]
  },
  {
   "attachments": {},
   "cell_type": "markdown",
   "metadata": {},
   "source": [
    "#### Git-Hub 에서 yolo 다운로드 "
   ]
  },
  {
   "cell_type": "code",
   "execution_count": 1,
   "metadata": {
    "id": "HMz1E0rJ-44Y"
   },
   "outputs": [
    {
     "name": "stdout",
     "output_type": "stream",
     "text": [
      "'yolov5'에 복제합니다...\n",
      "remote: Enumerating objects: 14995, done.\u001b[K\n",
      "remote: Total 14995 (delta 0), reused 0 (delta 0), pack-reused 14995\u001b[K\n",
      "오브젝트를 받는 중: 100% (14995/14995), 14.07 MiB | 19.17 MiB/s, 완료.\n",
      "델타를 알아내는 중: 100% (10286/10286), 완료.\n"
     ]
    }
   ],
   "source": [
    "!git clone https://github.com/ultralytics/yolov5"
   ]
  },
  {
   "attachments": {},
   "cell_type": "markdown",
   "metadata": {},
   "source": [
    "#### Yolo를 사용한데 필요한 라이브러리 설치"
   ]
  },
  {
   "cell_type": "code",
   "execution_count": 1,
   "metadata": {},
   "outputs": [
    {
     "data": {
      "text/plain": [
       "'/Users/choiyungyu/Library/Mobile Documents/com~apple~CloudDocs/AI-school/pr.Auto-Farming'"
      ]
     },
     "execution_count": 1,
     "metadata": {},
     "output_type": "execute_result"
    }
   ],
   "source": [
    "%pwd"
   ]
  },
  {
   "cell_type": "code",
   "execution_count": 2,
   "metadata": {
    "id": "LPr1k6Ky-6HQ"
   },
   "outputs": [
    {
     "name": "stdout",
     "output_type": "stream",
     "text": [
      "/Users/choiyungyu/Library/Mobile Documents/com~apple~CloudDocs/AI-school/pr.Auto-Farming/yolov5\n",
      "Collecting gitpython\n",
      "  Downloading GitPython-3.1.30-py3-none-any.whl (184 kB)\n",
      "\u001b[2K     \u001b[90m━━━━━━━━━━━━━━━━━━━━━━━━━━━━━━━━━━━━━━━\u001b[0m \u001b[32m184.0/184.0 kB\u001b[0m \u001b[31m4.6 MB/s\u001b[0m eta \u001b[36m0:00:00\u001b[0ma \u001b[36m0:00:01\u001b[0m\n",
      "\u001b[?25hRequirement already satisfied: ipython in /Users/choiyungyu/opt/anaconda3/lib/python3.9/site-packages (from -r requirements.txt (line 6)) (8.2.0)\n",
      "Requirement already satisfied: matplotlib>=3.2.2 in /Users/choiyungyu/opt/anaconda3/lib/python3.9/site-packages (from -r requirements.txt (line 7)) (3.5.1)\n",
      "Requirement already satisfied: numpy>=1.18.5 in /Users/choiyungyu/opt/anaconda3/lib/python3.9/site-packages (from -r requirements.txt (line 8)) (1.21.5)\n",
      "Collecting opencv-python>=4.1.1\n",
      "  Using cached opencv_python-4.7.0.68-cp37-abi3-macosx_10_13_x86_64.whl (51.7 MB)\n",
      "Requirement already satisfied: Pillow>=7.1.2 in /Users/choiyungyu/opt/anaconda3/lib/python3.9/site-packages (from -r requirements.txt (line 10)) (9.0.1)\n",
      "Requirement already satisfied: psutil in /Users/choiyungyu/opt/anaconda3/lib/python3.9/site-packages (from -r requirements.txt (line 11)) (5.8.0)\n",
      "Requirement already satisfied: PyYAML>=5.3.1 in /Users/choiyungyu/opt/anaconda3/lib/python3.9/site-packages (from -r requirements.txt (line 12)) (6.0)\n",
      "Requirement already satisfied: requests>=2.23.0 in /Users/choiyungyu/opt/anaconda3/lib/python3.9/site-packages (from -r requirements.txt (line 13)) (2.27.1)\n",
      "Requirement already satisfied: scipy>=1.4.1 in /Users/choiyungyu/opt/anaconda3/lib/python3.9/site-packages (from -r requirements.txt (line 14)) (1.7.3)\n",
      "Collecting thop>=0.1.1\n",
      "  Downloading thop-0.1.1.post2209072238-py3-none-any.whl (15 kB)\n",
      "Collecting torch>=1.7.0\n",
      "  Downloading torch-1.13.1-cp39-none-macosx_10_9_x86_64.whl (135.3 MB)\n",
      "\u001b[2K     \u001b[90m━━━━━━━━━━━━━━━━━━━━━━━━━━━━━━━━━━━━━━\u001b[0m \u001b[32m135.3/135.3 MB\u001b[0m \u001b[31m19.2 MB/s\u001b[0m eta \u001b[36m0:00:00\u001b[0m00:01\u001b[0m00:01\u001b[0m\n",
      "\u001b[?25hCollecting torchvision>=0.8.1\n",
      "  Downloading torchvision-0.14.1-cp39-cp39-macosx_10_9_x86_64.whl (1.4 MB)\n",
      "\u001b[2K     \u001b[90m━━━━━━━━━━━━━━━━━━━━━━━━━━━━━━━━━━━━━━━━\u001b[0m \u001b[32m1.4/1.4 MB\u001b[0m \u001b[31m30.9 MB/s\u001b[0m eta \u001b[36m0:00:00\u001b[0m00:01\u001b[0m\n",
      "\u001b[?25hRequirement already satisfied: tqdm>=4.64.0 in /Users/choiyungyu/opt/anaconda3/lib/python3.9/site-packages (from -r requirements.txt (line 18)) (4.64.0)\n",
      "Requirement already satisfied: tensorboard>=2.4.1 in /Users/choiyungyu/opt/anaconda3/lib/python3.9/site-packages (from -r requirements.txt (line 22)) (2.11.0)\n",
      "Requirement already satisfied: pandas>=1.1.4 in /Users/choiyungyu/opt/anaconda3/lib/python3.9/site-packages (from -r requirements.txt (line 27)) (1.4.2)\n",
      "Requirement already satisfied: seaborn>=0.11.0 in /Users/choiyungyu/opt/anaconda3/lib/python3.9/site-packages (from -r requirements.txt (line 28)) (0.11.2)\n",
      "Collecting gitdb<5,>=4.0.1\n",
      "  Downloading gitdb-4.0.10-py3-none-any.whl (62 kB)\n",
      "\u001b[2K     \u001b[90m━━━━━━━━━━━━━━━━━━━━━━━━━━━━━━━━━━━━━━━━\u001b[0m \u001b[32m62.7/62.7 kB\u001b[0m \u001b[31m2.6 MB/s\u001b[0m eta \u001b[36m0:00:00\u001b[0m\n",
      "\u001b[?25hRequirement already satisfied: decorator in /Users/choiyungyu/opt/anaconda3/lib/python3.9/site-packages (from ipython->-r requirements.txt (line 6)) (5.1.1)\n",
      "Requirement already satisfied: prompt-toolkit!=3.0.0,!=3.0.1,<3.1.0,>=2.0.0 in /Users/choiyungyu/opt/anaconda3/lib/python3.9/site-packages (from ipython->-r requirements.txt (line 6)) (3.0.20)\n",
      "Requirement already satisfied: stack-data in /Users/choiyungyu/opt/anaconda3/lib/python3.9/site-packages (from ipython->-r requirements.txt (line 6)) (0.2.0)\n",
      "Requirement already satisfied: matplotlib-inline in /Users/choiyungyu/opt/anaconda3/lib/python3.9/site-packages (from ipython->-r requirements.txt (line 6)) (0.1.2)\n",
      "Requirement already satisfied: setuptools>=18.5 in /Users/choiyungyu/opt/anaconda3/lib/python3.9/site-packages (from ipython->-r requirements.txt (line 6)) (61.2.0)\n",
      "Requirement already satisfied: backcall in /Users/choiyungyu/opt/anaconda3/lib/python3.9/site-packages (from ipython->-r requirements.txt (line 6)) (0.2.0)\n",
      "Requirement already satisfied: jedi>=0.16 in /Users/choiyungyu/opt/anaconda3/lib/python3.9/site-packages (from ipython->-r requirements.txt (line 6)) (0.18.1)\n",
      "Requirement already satisfied: traitlets>=5 in /Users/choiyungyu/opt/anaconda3/lib/python3.9/site-packages (from ipython->-r requirements.txt (line 6)) (5.1.1)\n",
      "Requirement already satisfied: pickleshare in /Users/choiyungyu/opt/anaconda3/lib/python3.9/site-packages (from ipython->-r requirements.txt (line 6)) (0.7.5)\n",
      "Requirement already satisfied: appnope in /Users/choiyungyu/opt/anaconda3/lib/python3.9/site-packages (from ipython->-r requirements.txt (line 6)) (0.1.2)\n",
      "Requirement already satisfied: pygments>=2.4.0 in /Users/choiyungyu/opt/anaconda3/lib/python3.9/site-packages (from ipython->-r requirements.txt (line 6)) (2.11.2)\n",
      "Requirement already satisfied: pexpect>4.3 in /Users/choiyungyu/opt/anaconda3/lib/python3.9/site-packages (from ipython->-r requirements.txt (line 6)) (4.8.0)\n",
      "Requirement already satisfied: fonttools>=4.22.0 in /Users/choiyungyu/opt/anaconda3/lib/python3.9/site-packages (from matplotlib>=3.2.2->-r requirements.txt (line 7)) (4.25.0)\n",
      "Requirement already satisfied: pyparsing>=2.2.1 in /Users/choiyungyu/opt/anaconda3/lib/python3.9/site-packages (from matplotlib>=3.2.2->-r requirements.txt (line 7)) (3.0.4)\n",
      "Requirement already satisfied: packaging>=20.0 in /Users/choiyungyu/opt/anaconda3/lib/python3.9/site-packages (from matplotlib>=3.2.2->-r requirements.txt (line 7)) (21.3)\n",
      "Requirement already satisfied: python-dateutil>=2.7 in /Users/choiyungyu/opt/anaconda3/lib/python3.9/site-packages (from matplotlib>=3.2.2->-r requirements.txt (line 7)) (2.8.2)\n",
      "Requirement already satisfied: kiwisolver>=1.0.1 in /Users/choiyungyu/opt/anaconda3/lib/python3.9/site-packages (from matplotlib>=3.2.2->-r requirements.txt (line 7)) (1.3.2)\n",
      "Requirement already satisfied: cycler>=0.10 in /Users/choiyungyu/opt/anaconda3/lib/python3.9/site-packages (from matplotlib>=3.2.2->-r requirements.txt (line 7)) (0.11.0)\n",
      "Requirement already satisfied: idna<4,>=2.5 in /Users/choiyungyu/opt/anaconda3/lib/python3.9/site-packages (from requests>=2.23.0->-r requirements.txt (line 13)) (3.3)\n",
      "Requirement already satisfied: charset-normalizer~=2.0.0 in /Users/choiyungyu/opt/anaconda3/lib/python3.9/site-packages (from requests>=2.23.0->-r requirements.txt (line 13)) (2.0.4)\n",
      "Requirement already satisfied: urllib3<1.27,>=1.21.1 in /Users/choiyungyu/opt/anaconda3/lib/python3.9/site-packages (from requests>=2.23.0->-r requirements.txt (line 13)) (1.26.9)\n",
      "Requirement already satisfied: certifi>=2017.4.17 in /Users/choiyungyu/opt/anaconda3/lib/python3.9/site-packages (from requests>=2.23.0->-r requirements.txt (line 13)) (2022.12.7)\n",
      "Requirement already satisfied: typing-extensions in /Users/choiyungyu/opt/anaconda3/lib/python3.9/site-packages (from torch>=1.7.0->-r requirements.txt (line 16)) (4.1.1)\n",
      "Requirement already satisfied: protobuf<4,>=3.9.2 in /Users/choiyungyu/opt/anaconda3/lib/python3.9/site-packages (from tensorboard>=2.4.1->-r requirements.txt (line 22)) (3.20.1)\n",
      "Requirement already satisfied: grpcio>=1.24.3 in /Users/choiyungyu/opt/anaconda3/lib/python3.9/site-packages (from tensorboard>=2.4.1->-r requirements.txt (line 22)) (1.42.0)\n",
      "Requirement already satisfied: markdown>=2.6.8 in /Users/choiyungyu/opt/anaconda3/lib/python3.9/site-packages (from tensorboard>=2.4.1->-r requirements.txt (line 22)) (3.3.4)\n",
      "Requirement already satisfied: google-auth<3,>=1.6.3 in /Users/choiyungyu/opt/anaconda3/lib/python3.9/site-packages (from tensorboard>=2.4.1->-r requirements.txt (line 22)) (1.33.0)\n",
      "Requirement already satisfied: werkzeug>=1.0.1 in /Users/choiyungyu/opt/anaconda3/lib/python3.9/site-packages (from tensorboard>=2.4.1->-r requirements.txt (line 22)) (2.0.3)\n",
      "Requirement already satisfied: absl-py>=0.4 in /Users/choiyungyu/opt/anaconda3/lib/python3.9/site-packages (from tensorboard>=2.4.1->-r requirements.txt (line 22)) (1.3.0)\n",
      "Requirement already satisfied: google-auth-oauthlib<0.5,>=0.4.1 in /Users/choiyungyu/opt/anaconda3/lib/python3.9/site-packages (from tensorboard>=2.4.1->-r requirements.txt (line 22)) (0.4.6)\n",
      "Requirement already satisfied: tensorboard-plugin-wit>=1.6.0 in /Users/choiyungyu/opt/anaconda3/lib/python3.9/site-packages (from tensorboard>=2.4.1->-r requirements.txt (line 22)) (1.8.1)\n",
      "Requirement already satisfied: wheel>=0.26 in /Users/choiyungyu/opt/anaconda3/lib/python3.9/site-packages (from tensorboard>=2.4.1->-r requirements.txt (line 22)) (0.35.1)\n",
      "Requirement already satisfied: tensorboard-data-server<0.7.0,>=0.6.0 in /Users/choiyungyu/opt/anaconda3/lib/python3.9/site-packages (from tensorboard>=2.4.1->-r requirements.txt (line 22)) (0.6.1)\n",
      "Requirement already satisfied: pytz>=2020.1 in /Users/choiyungyu/opt/anaconda3/lib/python3.9/site-packages (from pandas>=1.1.4->-r requirements.txt (line 27)) (2021.3)\n",
      "Collecting smmap<6,>=3.0.1\n",
      "  Downloading smmap-5.0.0-py3-none-any.whl (24 kB)\n",
      "Requirement already satisfied: cachetools<5.0,>=2.0.0 in /Users/choiyungyu/opt/anaconda3/lib/python3.9/site-packages (from google-auth<3,>=1.6.3->tensorboard>=2.4.1->-r requirements.txt (line 22)) (4.2.2)\n",
      "Requirement already satisfied: six>=1.9.0 in /Users/choiyungyu/opt/anaconda3/lib/python3.9/site-packages (from google-auth<3,>=1.6.3->tensorboard>=2.4.1->-r requirements.txt (line 22)) (1.16.0)\n",
      "Requirement already satisfied: rsa<5,>=3.1.4 in /Users/choiyungyu/opt/anaconda3/lib/python3.9/site-packages (from google-auth<3,>=1.6.3->tensorboard>=2.4.1->-r requirements.txt (line 22)) (4.7.2)\n",
      "Requirement already satisfied: pyasn1-modules>=0.2.1 in /Users/choiyungyu/opt/anaconda3/lib/python3.9/site-packages (from google-auth<3,>=1.6.3->tensorboard>=2.4.1->-r requirements.txt (line 22)) (0.2.8)\n",
      "Requirement already satisfied: requests-oauthlib>=0.7.0 in /Users/choiyungyu/opt/anaconda3/lib/python3.9/site-packages (from google-auth-oauthlib<0.5,>=0.4.1->tensorboard>=2.4.1->-r requirements.txt (line 22)) (1.3.1)\n",
      "Requirement already satisfied: parso<0.9.0,>=0.8.0 in /Users/choiyungyu/opt/anaconda3/lib/python3.9/site-packages (from jedi>=0.16->ipython->-r requirements.txt (line 6)) (0.8.3)\n",
      "Requirement already satisfied: ptyprocess>=0.5 in /Users/choiyungyu/opt/anaconda3/lib/python3.9/site-packages (from pexpect>4.3->ipython->-r requirements.txt (line 6)) (0.7.0)\n",
      "Requirement already satisfied: wcwidth in /Users/choiyungyu/opt/anaconda3/lib/python3.9/site-packages (from prompt-toolkit!=3.0.0,!=3.0.1,<3.1.0,>=2.0.0->ipython->-r requirements.txt (line 6)) (0.2.5)\n",
      "Requirement already satisfied: pure-eval in /Users/choiyungyu/opt/anaconda3/lib/python3.9/site-packages (from stack-data->ipython->-r requirements.txt (line 6)) (0.2.2)\n",
      "Requirement already satisfied: asttokens in /Users/choiyungyu/opt/anaconda3/lib/python3.9/site-packages (from stack-data->ipython->-r requirements.txt (line 6)) (2.0.5)\n",
      "Requirement already satisfied: executing in /Users/choiyungyu/opt/anaconda3/lib/python3.9/site-packages (from stack-data->ipython->-r requirements.txt (line 6)) (0.8.3)\n",
      "Requirement already satisfied: pyasn1<0.5.0,>=0.4.6 in /Users/choiyungyu/opt/anaconda3/lib/python3.9/site-packages (from pyasn1-modules>=0.2.1->google-auth<3,>=1.6.3->tensorboard>=2.4.1->-r requirements.txt (line 22)) (0.4.8)\n",
      "Requirement already satisfied: oauthlib>=3.0.0 in /Users/choiyungyu/opt/anaconda3/lib/python3.9/site-packages (from requests-oauthlib>=0.7.0->google-auth-oauthlib<0.5,>=0.4.1->tensorboard>=2.4.1->-r requirements.txt (line 22)) (3.2.2)\n",
      "Installing collected packages: torch, smmap, opencv-python, torchvision, thop, gitdb, gitpython\n",
      "  Attempting uninstall: opencv-python\n",
      "    Found existing installation: opencv-python 3.4.11.45\n",
      "    Uninstalling opencv-python-3.4.11.45:\n",
      "      Successfully uninstalled opencv-python-3.4.11.45\n",
      "Successfully installed gitdb-4.0.10 gitpython-3.1.30 opencv-python-4.7.0.68 smmap-5.0.0 thop-0.1.1.post2209072238 torch-1.13.1 torchvision-0.14.1\n"
     ]
    }
   ],
   "source": [
    "%cd yolov5/\n",
    "!pip install -r requirements.txt  # requirements.txt 안에 적혀있음"
   ]
  },
  {
   "attachments": {},
   "cell_type": "markdown",
   "metadata": {
    "id": "Fzpowf7sH9MM"
   },
   "source": [
    "# 데이터 로드"
   ]
  },
  {
   "cell_type": "code",
   "execution_count": null,
   "metadata": {},
   "outputs": [],
   "source": [
    "%cd ../\n",
    "%pwd"
   ]
  },
  {
   "cell_type": "code",
   "execution_count": 2,
   "metadata": {},
   "outputs": [],
   "source": [
    "# make directory\n",
    "%mkdir dataset"
   ]
  },
  {
   "attachments": {},
   "cell_type": "markdown",
   "metadata": {},
   "source": [
    "#### Roboflow에서 라벨링한 데이터 다운로드"
   ]
  },
  {
   "cell_type": "code",
   "execution_count": 1,
   "metadata": {
    "id": "715mQY08Bmqr"
   },
   "outputs": [
    {
     "name": "stdout",
     "output_type": "stream",
     "text": [
      "  % Total    % Received % Xferd  Average Speed   Time    Time     Time  Current\n",
      "                                 Dload  Upload   Total   Spent    Left  Speed\n",
      "100   902  100   902    0     0    298      0  0:00:03  0:00:03 --:--:--   298\n",
      "100 1741k  100 1741k    0     0   440k      0  0:00:03  0:00:03 --:--:-- 13.0M\n",
      "Archive:  roboflow.zip\n",
      " extracting: README.dataset.txt      \n",
      " extracting: README.roboflow.txt     \n",
      " extracting: data.yaml               \n",
      "   creating: test/\n",
      "   creating: test/images/\n",
      " extracting: test/images/IMG_0879_JPG.rf.eb55df94b109238039f01e67bac9b45c.jpg  \n",
      " extracting: test/images/IMG_0888_JPG.rf.80610cfa901d310eb25516136ef82c2b.jpg  \n",
      " extracting: test/images/KakaoTalk_20221031_144727497_08_jpg.rf.f0e6c15f9c872eed564a7393dcb764aa.jpg  \n",
      " extracting: test/images/KakaoTalk_20221031_144727497_11_jpg.rf.8b4f10ebf30767736778bf7f0888b461.jpg  \n",
      " extracting: test/images/KakaoTalk_20221031_144727497_14_jpg.rf.7d943b2b0379ec2eaffde8d14a224bae.jpg  \n",
      " extracting: test/images/KakaoTalk_20221031_144727497_jpg.rf.2947b6e0b42def47cb959dcc4f6e7ffb.jpg  \n",
      "   creating: test/labels/\n",
      " extracting: test/labels/IMG_0879_JPG.rf.eb55df94b109238039f01e67bac9b45c.txt  \n",
      " extracting: test/labels/IMG_0888_JPG.rf.80610cfa901d310eb25516136ef82c2b.txt  \n",
      " extracting: test/labels/KakaoTalk_20221031_144727497_08_jpg.rf.f0e6c15f9c872eed564a7393dcb764aa.txt  \n",
      " extracting: test/labels/KakaoTalk_20221031_144727497_11_jpg.rf.8b4f10ebf30767736778bf7f0888b461.txt  \n",
      " extracting: test/labels/KakaoTalk_20221031_144727497_14_jpg.rf.7d943b2b0379ec2eaffde8d14a224bae.txt  \n",
      " extracting: test/labels/KakaoTalk_20221031_144727497_jpg.rf.2947b6e0b42def47cb959dcc4f6e7ffb.txt  \n",
      "   creating: train/\n",
      "   creating: train/images/\n",
      " extracting: train/images/IMG_0878_JPG.rf.1b72bca289c7cf3c840d2402e2058ac7.jpg  \n",
      " extracting: train/images/IMG_0878_JPG.rf.a93d5ae61b975a8303a10447cf521314.jpg  \n",
      " extracting: train/images/IMG_0878_JPG.rf.dd72870949be43dfd99bbaf2cd8c28fc.jpg  \n",
      " extracting: train/images/IMG_0882_JPG.rf.5a8b9cd72cc3c738a7f58ef1f342a788.jpg  \n",
      " extracting: train/images/IMG_0882_JPG.rf.f035c89854848b607a44ce9b596f2672.jpg  \n",
      " extracting: train/images/IMG_0884_JPG.rf.747b814abb652a80d13f04566e65e15c.jpg  \n",
      " extracting: train/images/IMG_0884_JPG.rf.8f4372777b062a36ac0f25855982afc2.jpg  \n",
      " extracting: train/images/IMG_0884_JPG.rf.a799e4551a26522d354e2e78b377b045.jpg  \n",
      " extracting: train/images/IMG_0885_JPG.rf.50833a381cd0341277c5ac9ab862bde9.jpg  \n",
      " extracting: train/images/IMG_0885_JPG.rf.7cae5f6cc8d0bab0e8a821006e29dac3.jpg  \n",
      " extracting: train/images/IMG_0885_JPG.rf.c50984869f8f7c6c0458be8e5259f154.jpg  \n",
      " extracting: train/images/IMG_0886_JPG.rf.4950cd2bbc581fd7d4d5bcac452f2c1d.jpg  \n",
      " extracting: train/images/IMG_0886_JPG.rf.bf5962ab9d817584ecba0ef7a1755045.jpg  \n",
      " extracting: train/images/IMG_0886_JPG.rf.c5f06c028761b916e14cb5cb83b17137.jpg  \n",
      " extracting: train/images/IMG_0887_JPG.rf.2a46d4947658aa9f423c3e7e751f5b64.jpg  \n",
      " extracting: train/images/IMG_0887_JPG.rf.a0d2dd7f6c5ddd2bab05fd944e23fc44.jpg  \n",
      " extracting: train/images/IMG_0887_JPG.rf.b3f1f23d2d1e4ae25cd3c8690c7c30c4.jpg  \n",
      " extracting: train/images/IMG_0889_JPG.rf.4cab6c612ba14399fbb1cb9270821d60.jpg  \n",
      " extracting: train/images/IMG_0889_JPG.rf.6a6be3795e2cb4d91099376690285d07.jpg  \n",
      " extracting: train/images/IMG_0889_JPG.rf.e7163f84099bb58518c87a87326566a3.jpg  \n",
      " extracting: train/images/IMG_0890_JPG.rf.73280486bd269ab9b8657510117a961c.jpg  \n",
      " extracting: train/images/IMG_0890_JPG.rf.808a2420ba68dfee49bbe46895fd0afd.jpg  \n",
      " extracting: train/images/IMG_0890_JPG.rf.a425ccbd24e385c67a03d4178c535d84.jpg  \n",
      " extracting: train/images/IMG_0891_JPG.rf.7224f9fef387d906e0b1ad519ebfb532.jpg  \n",
      " extracting: train/images/IMG_0891_JPG.rf.c762f097508eb72c7c5bc95f78e0f236.jpg  \n",
      " extracting: train/images/IMG_0891_JPG.rf.e03534d8870906fff4e7aad15ea1efc3.jpg  \n",
      " extracting: train/images/IMG_0892_JPG.rf.62ef6facaf8841e309503cc4af66c843.jpg  \n",
      " extracting: train/images/IMG_0892_JPG.rf.728b93b7632f4ea858ece06ea491a4d8.jpg  \n",
      " extracting: train/images/IMG_0892_JPG.rf.a277251612d5624d5824c3daabb5910f.jpg  \n",
      " extracting: train/images/IMG_0893_JPG.rf.7bd944416c58da28ae7efd05c72b3264.jpg  \n",
      " extracting: train/images/IMG_0893_JPG.rf.82ac79a65bf2e44577894538ded59ade.jpg  \n",
      " extracting: train/images/IMG_0893_JPG.rf.e91715beb0a8695cabd2265dc976e312.jpg  \n",
      " extracting: train/images/IMG_0895_JPG.rf.409a30c48251ef52bf135cd313cd4607.jpg  \n",
      " extracting: train/images/IMG_0895_JPG.rf.9b592a6fd28d12339d4a3f63883b98fa.jpg  \n",
      " extracting: train/images/IMG_0895_JPG.rf.a53a6f24c508f104a025c57604407a00.jpg  \n",
      " extracting: train/images/IMG_0896_JPG.rf.8c85abf7b7633012ca641d06954e7669.jpg  \n",
      " extracting: train/images/IMG_0896_JPG.rf.903ee898274984b32af705082b58c15f.jpg  \n",
      " extracting: train/images/IMG_0897_JPG.rf.28be1526ec6ddada9a0c807c4a9f623a.jpg  \n",
      " extracting: train/images/IMG_0897_JPG.rf.9d0e4d5b76c8395f4f1f9a5a886421e1.jpg  \n",
      " extracting: train/images/IMG_0897_JPG.rf.df1b984a8ee3fdd170ff8dd115becf93.jpg  \n",
      " extracting: train/images/IMG_0898_JPG.rf.14cd9d46294b2646025574f0d6503de8.jpg  \n",
      " extracting: train/images/IMG_0898_JPG.rf.17ddb65fb4913b97d029d67d1637aa0e.jpg  \n",
      " extracting: train/images/IMG_0898_JPG.rf.fb3043c65579f24d9c360e86e78c0f3b.jpg  \n",
      " extracting: train/images/IMG_0899_JPG.rf.1812e3e55396a5ec0c12430ed8a92dd0.jpg  \n",
      " extracting: train/images/IMG_0899_JPG.rf.1df92ac8943c8dac6db0840b93627aac.jpg  \n",
      " extracting: train/images/IMG_0899_JPG.rf.6be775b06dc2e2c5fb7d428712558fc1.jpg  \n",
      " extracting: train/images/IMG_0900_JPG.rf.6fdedeccc525ef734ac706e0b2b8e92e.jpg  \n",
      " extracting: train/images/IMG_0900_JPG.rf.8293e3355a54356ee3d81acb049f0fea.jpg  \n",
      " extracting: train/images/IMG_0900_JPG.rf.ceb886284b69745dca766ff0aa93df7d.jpg  \n",
      " extracting: train/images/IMG_0901_JPG.rf.4c77354134602833008b77c3c454fbb8.jpg  \n",
      " extracting: train/images/IMG_0901_JPG.rf.6923bf3c8c5b32cdaa8453dbbbd75f2e.jpg  \n",
      " extracting: train/images/IMG_0901_JPG.rf.d4ef882aeab9133188a2fbfe35688cf2.jpg  \n",
      " extracting: train/images/KakaoTalk_20221031_144727497_01_jpg.rf.08687d4e95c9c4ffc1060f25d002989f.jpg  \n",
      " extracting: train/images/KakaoTalk_20221031_144727497_01_jpg.rf.6a892228e783bf4fbe03851f015d5a70.jpg  \n",
      " extracting: train/images/KakaoTalk_20221031_144727497_01_jpg.rf.e27beda750450ad624b4a88052a9347e.jpg  \n",
      " extracting: train/images/KakaoTalk_20221031_144727497_03_jpg.rf.2716e0a2ff461cad1dfa6af6149c2033.jpg  \n",
      " extracting: train/images/KakaoTalk_20221031_144727497_03_jpg.rf.c119ce481d79b365e44834ed8131e9fa.jpg  \n",
      " extracting: train/images/KakaoTalk_20221031_144727497_03_jpg.rf.f9cb6af9ce1af92b390faaf7f2d1fb5b.jpg  \n",
      " extracting: train/images/KakaoTalk_20221031_144727497_04_jpg.rf.22c4bc7078452875aea57b12094f67e9.jpg  \n",
      " extracting: train/images/KakaoTalk_20221031_144727497_04_jpg.rf.fd3bccf5593c6440658a8625dcbf39f7.jpg  \n",
      " extracting: train/images/KakaoTalk_20221031_144727497_05_jpg.rf.6893e435eb417e40d37743da633d7a72.jpg  \n",
      " extracting: train/images/KakaoTalk_20221031_144727497_05_jpg.rf.ac5625aa72775a8ca6f98aa586c22349.jpg  \n",
      " extracting: train/images/KakaoTalk_20221031_144727497_05_jpg.rf.c26b88cb58f137ae210abccb6bf645ae.jpg  \n",
      " extracting: train/images/KakaoTalk_20221031_144727497_07_jpg.rf.0ecd41fef8ebc24d2bf592599530199a.jpg  \n",
      " extracting: train/images/KakaoTalk_20221031_144727497_07_jpg.rf.be993851d2e33bec99b7be3f69254485.jpg  \n",
      " extracting: train/images/KakaoTalk_20221031_144727497_07_jpg.rf.e4e8e54bbf7abc58d7bf3020003ee34c.jpg  \n",
      " extracting: train/images/KakaoTalk_20221031_144727497_10_jpg.rf.45107639fa2f1ed3a5568398a7d972a1.jpg  \n",
      " extracting: train/images/KakaoTalk_20221031_144727497_10_jpg.rf.688cbee5e2ea5a17bccb105039d771ae.jpg  \n",
      " extracting: train/images/KakaoTalk_20221031_144727497_10_jpg.rf.aa3a0d907016799ae06435819c7214ff.jpg  \n",
      " extracting: train/images/KakaoTalk_20221031_144727497_12_jpg.rf.c815bd00f19d777d8a3eeb9614c35cd9.jpg  \n",
      " extracting: train/images/KakaoTalk_20221031_144727497_12_jpg.rf.f08af237a3feb3e651a5ae37568f0e63.jpg  \n",
      " extracting: train/images/KakaoTalk_20221031_144727497_12_jpg.rf.f4593252c039045162833041d8b5a81b.jpg  \n",
      " extracting: train/images/KakaoTalk_20221031_144727497_13_jpg.rf.0125fc54a5e5a6faf526ab8200e4cf6b.jpg  \n",
      " extracting: train/images/KakaoTalk_20221031_144727497_13_jpg.rf.a2d8a660e2a249297fc66a4b673351b6.jpg  \n",
      " extracting: train/images/KakaoTalk_20221031_144727497_13_jpg.rf.c483efc09324fb331ee9b092e597993b.jpg  \n",
      " extracting: train/images/KakaoTalk_20221031_144727497_15_jpg.rf.6db7fdaaffd4739d60df22eb3ec77d4f.jpg  \n",
      " extracting: train/images/KakaoTalk_20221031_144727497_15_jpg.rf.7dfd699002a59ea0773c162657b3f7cd.jpg  \n",
      " extracting: train/images/KakaoTalk_20221031_144727497_15_jpg.rf.da9cc200d1ea5cb77fa5c8b1cd74de01.jpg  \n",
      " extracting: train/images/KakaoTalk_20221031_144727497_16_jpg.rf.17891ec679f76e8b6e4937752e4f4894.jpg  \n",
      " extracting: train/images/KakaoTalk_20221031_144727497_16_jpg.rf.65532c33d11a31e0f1720f3b374408d5.jpg  \n",
      " extracting: train/images/KakaoTalk_20221031_144727497_18_jpg.rf.1585534f2e28f332184aeb48b020b648.jpg  \n",
      " extracting: train/images/KakaoTalk_20221031_144727497_18_jpg.rf.c3c6eab1dede6f7d313aed755e06cea3.jpg  \n",
      " extracting: train/images/KakaoTalk_20221031_144727497_18_jpg.rf.dfb968e0c28113da075248764432c210.jpg  \n",
      " extracting: train/images/KakaoTalk_20221031_144727497_20_jpg.rf.440b6c7b8b429d5babf2f90a82833fb3.jpg  \n",
      " extracting: train/images/KakaoTalk_20221031_144727497_20_jpg.rf.b574270eaaef57de18869b4f55e054aa.jpg  \n",
      " extracting: train/images/KakaoTalk_20221031_144727497_20_jpg.rf.d7f5b3c411099d9b6d1baeb3eebf5935.jpg  \n",
      " extracting: train/images/KakaoTalk_20221031_144727497_21_jpg.rf.0aecda9b9f072c7069cedd09024dc3df.jpg  \n",
      " extracting: train/images/KakaoTalk_20221031_144727497_21_jpg.rf.3ddaf76fc5124c6ca3f03d094f8669bd.jpg  \n",
      " extracting: train/images/KakaoTalk_20221031_144727497_21_jpg.rf.8d1be0167d3e586ddec3ffb189247d1d.jpg  \n",
      " extracting: train/images/KakaoTalk_20221031_144727497_22_jpg.rf.0054f56d07d499a9481db77ba380190b.jpg  \n",
      " extracting: train/images/KakaoTalk_20221031_144727497_22_jpg.rf.a3f8cc8cd0d7041d6ccf37ea04c421e9.jpg  \n",
      " extracting: train/images/KakaoTalk_20221031_144727497_22_jpg.rf.af13e8fd3e01e8ef9ae5b484be44fa9f.jpg  \n",
      "   creating: train/labels/\n",
      " extracting: train/labels/IMG_0878_JPG.rf.1b72bca289c7cf3c840d2402e2058ac7.txt  \n",
      " extracting: train/labels/IMG_0878_JPG.rf.a93d5ae61b975a8303a10447cf521314.txt  \n",
      " extracting: train/labels/IMG_0878_JPG.rf.dd72870949be43dfd99bbaf2cd8c28fc.txt  \n",
      " extracting: train/labels/IMG_0882_JPG.rf.5a8b9cd72cc3c738a7f58ef1f342a788.txt  \n",
      " extracting: train/labels/IMG_0882_JPG.rf.f035c89854848b607a44ce9b596f2672.txt  \n",
      " extracting: train/labels/IMG_0884_JPG.rf.747b814abb652a80d13f04566e65e15c.txt  \n",
      " extracting: train/labels/IMG_0884_JPG.rf.8f4372777b062a36ac0f25855982afc2.txt  \n",
      " extracting: train/labels/IMG_0884_JPG.rf.a799e4551a26522d354e2e78b377b045.txt  \n",
      " extracting: train/labels/IMG_0885_JPG.rf.50833a381cd0341277c5ac9ab862bde9.txt  \n",
      " extracting: train/labels/IMG_0885_JPG.rf.7cae5f6cc8d0bab0e8a821006e29dac3.txt  \n",
      " extracting: train/labels/IMG_0885_JPG.rf.c50984869f8f7c6c0458be8e5259f154.txt  \n",
      " extracting: train/labels/IMG_0886_JPG.rf.4950cd2bbc581fd7d4d5bcac452f2c1d.txt  \n",
      " extracting: train/labels/IMG_0886_JPG.rf.bf5962ab9d817584ecba0ef7a1755045.txt  \n",
      " extracting: train/labels/IMG_0886_JPG.rf.c5f06c028761b916e14cb5cb83b17137.txt  \n",
      " extracting: train/labels/IMG_0887_JPG.rf.2a46d4947658aa9f423c3e7e751f5b64.txt  \n",
      " extracting: train/labels/IMG_0887_JPG.rf.a0d2dd7f6c5ddd2bab05fd944e23fc44.txt  \n",
      " extracting: train/labels/IMG_0887_JPG.rf.b3f1f23d2d1e4ae25cd3c8690c7c30c4.txt  \n",
      " extracting: train/labels/IMG_0889_JPG.rf.4cab6c612ba14399fbb1cb9270821d60.txt  \n",
      " extracting: train/labels/IMG_0889_JPG.rf.6a6be3795e2cb4d91099376690285d07.txt  \n",
      " extracting: train/labels/IMG_0889_JPG.rf.e7163f84099bb58518c87a87326566a3.txt  \n",
      " extracting: train/labels/IMG_0890_JPG.rf.73280486bd269ab9b8657510117a961c.txt  \n",
      " extracting: train/labels/IMG_0890_JPG.rf.808a2420ba68dfee49bbe46895fd0afd.txt  \n",
      " extracting: train/labels/IMG_0890_JPG.rf.a425ccbd24e385c67a03d4178c535d84.txt  \n",
      " extracting: train/labels/IMG_0891_JPG.rf.7224f9fef387d906e0b1ad519ebfb532.txt  \n",
      " extracting: train/labels/IMG_0891_JPG.rf.c762f097508eb72c7c5bc95f78e0f236.txt  \n",
      " extracting: train/labels/IMG_0891_JPG.rf.e03534d8870906fff4e7aad15ea1efc3.txt  \n",
      " extracting: train/labels/IMG_0892_JPG.rf.62ef6facaf8841e309503cc4af66c843.txt  \n",
      " extracting: train/labels/IMG_0892_JPG.rf.728b93b7632f4ea858ece06ea491a4d8.txt  \n",
      " extracting: train/labels/IMG_0892_JPG.rf.a277251612d5624d5824c3daabb5910f.txt  \n",
      " extracting: train/labels/IMG_0893_JPG.rf.7bd944416c58da28ae7efd05c72b3264.txt  \n",
      " extracting: train/labels/IMG_0893_JPG.rf.82ac79a65bf2e44577894538ded59ade.txt  \n",
      " extracting: train/labels/IMG_0893_JPG.rf.e91715beb0a8695cabd2265dc976e312.txt  \n",
      " extracting: train/labels/IMG_0895_JPG.rf.409a30c48251ef52bf135cd313cd4607.txt  \n",
      " extracting: train/labels/IMG_0895_JPG.rf.9b592a6fd28d12339d4a3f63883b98fa.txt  \n",
      " extracting: train/labels/IMG_0895_JPG.rf.a53a6f24c508f104a025c57604407a00.txt  \n",
      " extracting: train/labels/IMG_0896_JPG.rf.8c85abf7b7633012ca641d06954e7669.txt  \n",
      " extracting: train/labels/IMG_0896_JPG.rf.903ee898274984b32af705082b58c15f.txt  \n",
      " extracting: train/labels/IMG_0897_JPG.rf.28be1526ec6ddada9a0c807c4a9f623a.txt  \n",
      " extracting: train/labels/IMG_0897_JPG.rf.9d0e4d5b76c8395f4f1f9a5a886421e1.txt  \n",
      " extracting: train/labels/IMG_0897_JPG.rf.df1b984a8ee3fdd170ff8dd115becf93.txt  \n",
      " extracting: train/labels/IMG_0898_JPG.rf.14cd9d46294b2646025574f0d6503de8.txt  \n",
      " extracting: train/labels/IMG_0898_JPG.rf.17ddb65fb4913b97d029d67d1637aa0e.txt  \n",
      " extracting: train/labels/IMG_0898_JPG.rf.fb3043c65579f24d9c360e86e78c0f3b.txt  \n",
      " extracting: train/labels/IMG_0899_JPG.rf.1812e3e55396a5ec0c12430ed8a92dd0.txt  \n",
      " extracting: train/labels/IMG_0899_JPG.rf.1df92ac8943c8dac6db0840b93627aac.txt  \n",
      " extracting: train/labels/IMG_0899_JPG.rf.6be775b06dc2e2c5fb7d428712558fc1.txt  \n",
      " extracting: train/labels/IMG_0900_JPG.rf.6fdedeccc525ef734ac706e0b2b8e92e.txt  \n",
      " extracting: train/labels/IMG_0900_JPG.rf.8293e3355a54356ee3d81acb049f0fea.txt  \n",
      " extracting: train/labels/IMG_0900_JPG.rf.ceb886284b69745dca766ff0aa93df7d.txt  \n",
      " extracting: train/labels/IMG_0901_JPG.rf.4c77354134602833008b77c3c454fbb8.txt  \n",
      " extracting: train/labels/IMG_0901_JPG.rf.6923bf3c8c5b32cdaa8453dbbbd75f2e.txt  \n",
      " extracting: train/labels/IMG_0901_JPG.rf.d4ef882aeab9133188a2fbfe35688cf2.txt  \n",
      " extracting: train/labels/KakaoTalk_20221031_144727497_01_jpg.rf.08687d4e95c9c4ffc1060f25d002989f.txt  \n",
      " extracting: train/labels/KakaoTalk_20221031_144727497_01_jpg.rf.6a892228e783bf4fbe03851f015d5a70.txt  \n",
      " extracting: train/labels/KakaoTalk_20221031_144727497_01_jpg.rf.e27beda750450ad624b4a88052a9347e.txt  \n",
      " extracting: train/labels/KakaoTalk_20221031_144727497_03_jpg.rf.2716e0a2ff461cad1dfa6af6149c2033.txt  \n",
      " extracting: train/labels/KakaoTalk_20221031_144727497_03_jpg.rf.c119ce481d79b365e44834ed8131e9fa.txt  \n",
      " extracting: train/labels/KakaoTalk_20221031_144727497_03_jpg.rf.f9cb6af9ce1af92b390faaf7f2d1fb5b.txt  \n",
      " extracting: train/labels/KakaoTalk_20221031_144727497_04_jpg.rf.22c4bc7078452875aea57b12094f67e9.txt  \n",
      " extracting: train/labels/KakaoTalk_20221031_144727497_04_jpg.rf.fd3bccf5593c6440658a8625dcbf39f7.txt  \n",
      " extracting: train/labels/KakaoTalk_20221031_144727497_05_jpg.rf.6893e435eb417e40d37743da633d7a72.txt  \n",
      " extracting: train/labels/KakaoTalk_20221031_144727497_05_jpg.rf.ac5625aa72775a8ca6f98aa586c22349.txt  \n",
      " extracting: train/labels/KakaoTalk_20221031_144727497_05_jpg.rf.c26b88cb58f137ae210abccb6bf645ae.txt  \n",
      " extracting: train/labels/KakaoTalk_20221031_144727497_07_jpg.rf.0ecd41fef8ebc24d2bf592599530199a.txt  \n",
      " extracting: train/labels/KakaoTalk_20221031_144727497_07_jpg.rf.be993851d2e33bec99b7be3f69254485.txt  \n",
      " extracting: train/labels/KakaoTalk_20221031_144727497_07_jpg.rf.e4e8e54bbf7abc58d7bf3020003ee34c.txt  \n",
      " extracting: train/labels/KakaoTalk_20221031_144727497_10_jpg.rf.45107639fa2f1ed3a5568398a7d972a1.txt  \n",
      " extracting: train/labels/KakaoTalk_20221031_144727497_10_jpg.rf.688cbee5e2ea5a17bccb105039d771ae.txt  \n",
      " extracting: train/labels/KakaoTalk_20221031_144727497_10_jpg.rf.aa3a0d907016799ae06435819c7214ff.txt  \n",
      " extracting: train/labels/KakaoTalk_20221031_144727497_12_jpg.rf.c815bd00f19d777d8a3eeb9614c35cd9.txt  \n",
      " extracting: train/labels/KakaoTalk_20221031_144727497_12_jpg.rf.f08af237a3feb3e651a5ae37568f0e63.txt  \n",
      " extracting: train/labels/KakaoTalk_20221031_144727497_12_jpg.rf.f4593252c039045162833041d8b5a81b.txt  \n",
      " extracting: train/labels/KakaoTalk_20221031_144727497_13_jpg.rf.0125fc54a5e5a6faf526ab8200e4cf6b.txt  \n",
      " extracting: train/labels/KakaoTalk_20221031_144727497_13_jpg.rf.a2d8a660e2a249297fc66a4b673351b6.txt  \n",
      " extracting: train/labels/KakaoTalk_20221031_144727497_13_jpg.rf.c483efc09324fb331ee9b092e597993b.txt  \n",
      " extracting: train/labels/KakaoTalk_20221031_144727497_15_jpg.rf.6db7fdaaffd4739d60df22eb3ec77d4f.txt  \n",
      " extracting: train/labels/KakaoTalk_20221031_144727497_15_jpg.rf.7dfd699002a59ea0773c162657b3f7cd.txt  \n",
      " extracting: train/labels/KakaoTalk_20221031_144727497_15_jpg.rf.da9cc200d1ea5cb77fa5c8b1cd74de01.txt  \n",
      " extracting: train/labels/KakaoTalk_20221031_144727497_16_jpg.rf.17891ec679f76e8b6e4937752e4f4894.txt  \n",
      " extracting: train/labels/KakaoTalk_20221031_144727497_16_jpg.rf.65532c33d11a31e0f1720f3b374408d5.txt  \n",
      " extracting: train/labels/KakaoTalk_20221031_144727497_18_jpg.rf.1585534f2e28f332184aeb48b020b648.txt  \n",
      " extracting: train/labels/KakaoTalk_20221031_144727497_18_jpg.rf.c3c6eab1dede6f7d313aed755e06cea3.txt  \n",
      " extracting: train/labels/KakaoTalk_20221031_144727497_18_jpg.rf.dfb968e0c28113da075248764432c210.txt  \n",
      " extracting: train/labels/KakaoTalk_20221031_144727497_20_jpg.rf.440b6c7b8b429d5babf2f90a82833fb3.txt  \n",
      " extracting: train/labels/KakaoTalk_20221031_144727497_20_jpg.rf.b574270eaaef57de18869b4f55e054aa.txt  \n",
      " extracting: train/labels/KakaoTalk_20221031_144727497_20_jpg.rf.d7f5b3c411099d9b6d1baeb3eebf5935.txt  \n",
      " extracting: train/labels/KakaoTalk_20221031_144727497_21_jpg.rf.0aecda9b9f072c7069cedd09024dc3df.txt  \n",
      " extracting: train/labels/KakaoTalk_20221031_144727497_21_jpg.rf.3ddaf76fc5124c6ca3f03d094f8669bd.txt  \n",
      " extracting: train/labels/KakaoTalk_20221031_144727497_21_jpg.rf.8d1be0167d3e586ddec3ffb189247d1d.txt  \n",
      " extracting: train/labels/KakaoTalk_20221031_144727497_22_jpg.rf.0054f56d07d499a9481db77ba380190b.txt  \n",
      " extracting: train/labels/KakaoTalk_20221031_144727497_22_jpg.rf.a3f8cc8cd0d7041d6ccf37ea04c421e9.txt  \n",
      " extracting: train/labels/KakaoTalk_20221031_144727497_22_jpg.rf.af13e8fd3e01e8ef9ae5b484be44fa9f.txt  \n",
      "   creating: valid/\n",
      "   creating: valid/images/\n",
      " extracting: valid/images/IMG_0880_JPG.rf.3089a831812111d4717440e2f5f71d61.jpg  \n",
      " extracting: valid/images/IMG_0881_JPG.rf.906df5f57e07cc1fda0d092d333fec2d.jpg  \n",
      " extracting: valid/images/IMG_0883_JPG.rf.b3dbe47a0b70293fafe99b25da5dd95c.jpg  \n",
      " extracting: valid/images/IMG_0894_JPG.rf.db4fdf9a5a1ceeefb00a36e661a29f25.jpg  \n",
      " extracting: valid/images/KakaoTalk_20221031_144727497_02_jpg.rf.dabba9217d2e131717cbf75c1ce69d9a.jpg  \n",
      " extracting: valid/images/KakaoTalk_20221031_144727497_06_jpg.rf.368fa2fdd903c3caddb5d4bd036377c9.jpg  \n",
      " extracting: valid/images/KakaoTalk_20221031_144727497_09_jpg.rf.f64c3e6f9c46e0285c0243ee79295d8c.jpg  \n",
      " extracting: valid/images/KakaoTalk_20221031_144727497_17_jpg.rf.aa8f006c2b90cbaa1dfccb2af7de3706.jpg  \n",
      " extracting: valid/images/KakaoTalk_20221031_144727497_19_jpg.rf.d0f151c45fb4c24b3d7fe2133859811c.jpg  \n",
      "   creating: valid/labels/\n",
      " extracting: valid/labels/IMG_0880_JPG.rf.3089a831812111d4717440e2f5f71d61.txt  \n",
      " extracting: valid/labels/IMG_0881_JPG.rf.906df5f57e07cc1fda0d092d333fec2d.txt  \n",
      " extracting: valid/labels/IMG_0883_JPG.rf.b3dbe47a0b70293fafe99b25da5dd95c.txt  \n",
      " extracting: valid/labels/IMG_0894_JPG.rf.db4fdf9a5a1ceeefb00a36e661a29f25.txt  \n",
      " extracting: valid/labels/KakaoTalk_20221031_144727497_02_jpg.rf.dabba9217d2e131717cbf75c1ce69d9a.txt  \n",
      " extracting: valid/labels/KakaoTalk_20221031_144727497_06_jpg.rf.368fa2fdd903c3caddb5d4bd036377c9.txt  \n",
      " extracting: valid/labels/KakaoTalk_20221031_144727497_09_jpg.rf.f64c3e6f9c46e0285c0243ee79295d8c.txt  \n",
      " extracting: valid/labels/KakaoTalk_20221031_144727497_17_jpg.rf.aa8f006c2b90cbaa1dfccb2af7de3706.txt  \n",
      " extracting: valid/labels/KakaoTalk_20221031_144727497_19_jpg.rf.d0f151c45fb4c24b3d7fe2133859811c.txt  \n"
     ]
    }
   ],
   "source": [
    "!curl -L \"https://app.roboflow.com/ds/XglPwSifXL?key=AU3AnbzfQU\" > roboflow.zip; unzip roboflow.zip; rm roboflow.zip"
   ]
  },
  {
   "cell_type": "code",
   "execution_count": 90,
   "metadata": {
    "executionInfo": {
     "elapsed": 345,
     "status": "ok",
     "timestamp": 1667286735669,
     "user": {
      "displayName": "YunGyu Choi",
      "userId": "06416918229746608709"
     },
     "user_tz": -540
    },
    "id": "lXZTcDin_Do5"
   },
   "outputs": [],
   "source": [
    "# 데이터 셋을 위에 만든 디렉터리로 이동\n",
    "%mv ./README.dataset.txt ./README.roboflow.txt ./data.yaml train test valid /content/drive/MyDrive/Auto_Farming/dataset"
   ]
  },
  {
   "cell_type": "code",
   "execution_count": 91,
   "metadata": {
    "colab": {
     "base_uri": "https://localhost:8080/"
    },
    "executionInfo": {
     "elapsed": 750,
     "status": "ok",
     "timestamp": 1667286772524,
     "user": {
      "displayName": "YunGyu Choi",
      "userId": "06416918229746608709"
     },
     "user_tz": -540
    },
    "id": "LUoYpe9P_GbR",
    "outputId": "e5a491dd-4847-45c1-f6fe-7c7ea4f01263"
   },
   "outputs": [
    {
     "name": "stdout",
     "output_type": "stream",
     "text": [
      "train: ../train/images\n",
      "val: ../valid/images\n",
      "test: ../test/images\n",
      "\n",
      "nc: 2\n",
      "names: ['Ginseng', 'head']\n",
      "\n",
      "roboflow:\n",
      "  workspace: yungyu-choi-urac0\n",
      "  project: insam\n",
      "  version: 10\n",
      "  license: CC BY 4.0\n",
      "  url: https://universe.roboflow.com/yungyu-choi-urac0/insam/dataset/10"
     ]
    }
   ],
   "source": [
    "# 파일 내용 보기\n",
    "%cat /content/drive/MyDrive/Auto_Farming/dataset/data.yaml"
   ]
  },
  {
   "cell_type": "code",
   "execution_count": 92,
   "metadata": {
    "colab": {
     "base_uri": "https://localhost:8080/"
    },
    "executionInfo": {
     "elapsed": 370,
     "status": "ok",
     "timestamp": 1667286833386,
     "user": {
      "displayName": "YunGyu Choi",
      "userId": "06416918229746608709"
     },
     "user_tz": -540
    },
    "id": "2ef6kCDb_H0T",
    "outputId": "55e8df5f-0bba-4820-97af-873360e99117"
   },
   "outputs": [
    {
     "data": {
      "text/plain": [
       "9"
      ]
     },
     "execution_count": 92,
     "metadata": {},
     "output_type": "execute_result"
    }
   ],
   "source": [
    "from glob import glob  # 많은 파일들을 다룰때 사용\n",
    "\n",
    "train_img_list = glob('/content/drive/MyDrive/Auto_Farming/dataset/train/images/*.jpg')\n",
    "test_img_list = glob('/content/drive/MyDrive/Auto_Farming/dataset/test/images/*.jpg')\n",
    "valid_img_list = glob('/content/drive/MyDrive/Auto_Farming/dataset/valid/images/*.jpg')\n",
    "len(valid_img_list)"
   ]
  },
  {
   "cell_type": "code",
   "execution_count": null,
   "metadata": {},
   "outputs": [],
   "source": [
    "# 모든 이미지 경로를 하나의 파일에 담기, train.txt, val.txt 파일에 각각 담아줌\n",
    "with open('/content/drive/MyDrive/Auto_Farming/dataset/train.txt', 'w') as f:\n",
    "  f.write('\\n'.join(train_img_list) + '\\n')\n",
    "\n",
    "with open('/content/drive/MyDrive/Auto_Farming/dataset/val.txt', 'w') as f:\n",
    "  f.write('\\n'.join(valid_img_list) + '\\n')"
   ]
  },
  {
   "cell_type": "code",
   "execution_count": 95,
   "metadata": {
    "colab": {
     "base_uri": "https://localhost:8080/"
    },
    "executionInfo": {
     "elapsed": 4,
     "status": "ok",
     "timestamp": 1667286902809,
     "user": {
      "displayName": "YunGyu Choi",
      "userId": "06416918229746608709"
     },
     "user_tz": -540
    },
    "id": "zhdNJOR7_POU",
    "outputId": "b59dd5b6-bd07-4b95-c6ce-7933bda41455"
   },
   "outputs": [
    {
     "name": "stdout",
     "output_type": "stream",
     "text": [
      "{'train': '../train/images', 'val': '../valid/images', 'test': '../test/images', 'nc': 2, 'names': ['Ginseng', 'head'], 'roboflow': {'workspace': 'yungyu-choi-urac0', 'project': 'insam', 'version': 10, 'license': 'CC BY 4.0', 'url': 'https://universe.roboflow.com/yungyu-choi-urac0/insam/dataset/10'}}\n"
     ]
    }
   ],
   "source": [
    "# data.yaml 파일 불러와서 수정\n",
    "import yaml\n",
    "\n",
    "with open('/content/drive/MyDrive/Auto_Farming/dataset/data.yaml','r') as f:\n",
    "  data = yaml.safe_load(f)\n",
    "\n",
    "print(data)"
   ]
  },
  {
   "cell_type": "code",
   "execution_count": 96,
   "metadata": {
    "colab": {
     "base_uri": "https://localhost:8080/"
    },
    "executionInfo": {
     "elapsed": 397,
     "status": "ok",
     "timestamp": 1667286920415,
     "user": {
      "displayName": "YunGyu Choi",
      "userId": "06416918229746608709"
     },
     "user_tz": -540
    },
    "id": "540dg3rZ_Qq-",
    "outputId": "2ae57427-69e3-4d91-8e20-28ffbc0bf47b"
   },
   "outputs": [
    {
     "data": {
      "text/plain": [
       "{'train': '/content/drive/MyDrive/Auto_Farming/dataset/train.txt',\n",
       " 'val': '/content/drive/MyDrive/Auto_Farming/dataset/val.txt',\n",
       " 'test': '../test/images',\n",
       " 'nc': 2,\n",
       " 'names': ['Ginseng', 'head'],\n",
       " 'roboflow': {'workspace': 'yungyu-choi-urac0',\n",
       "  'project': 'insam',\n",
       "  'version': 10,\n",
       "  'license': 'CC BY 4.0',\n",
       "  'url': 'https://universe.roboflow.com/yungyu-choi-urac0/insam/dataset/10'}}"
      ]
     },
     "execution_count": 96,
     "metadata": {},
     "output_type": "execute_result"
    }
   ],
   "source": [
    "data['train'] = '/content/drive/MyDrive/Auto_Farming/dataset/train.txt'\n",
    "data['val'] = '/content/drive/MyDrive/Auto_Farming/dataset/val.txt'\n",
    "data"
   ]
  },
  {
   "cell_type": "code",
   "execution_count": 97,
   "metadata": {
    "executionInfo": {
     "elapsed": 2,
     "status": "ok",
     "timestamp": 1667286929695,
     "user": {
      "displayName": "YunGyu Choi",
      "userId": "06416918229746608709"
     },
     "user_tz": -540
    },
    "id": "zZZIg10W_Rzx"
   },
   "outputs": [],
   "source": [
    "# data를 yaml파일에 덮어쓰기\n",
    "with open('/content/drive/MyDrive/Auto_Farming/dataset/data.yaml','w') as f:\n",
    "  yaml.dump(data,f)"
   ]
  },
  {
   "cell_type": "markdown",
   "metadata": {
    "id": "YptcHOFvICG7"
   },
   "source": [
    "# 전이 학습"
   ]
  },
  {
   "cell_type": "code",
   "execution_count": null,
   "metadata": {},
   "outputs": [],
   "source": [
    "%pwd"
   ]
  },
  {
   "cell_type": "code",
   "execution_count": 3,
   "metadata": {},
   "outputs": [
    {
     "name": "stdout",
     "output_type": "stream",
     "text": [
      "C:\\Users\\AI\\Auto_Farming\n"
     ]
    }
   ],
   "source": [
    "%cd "
   ]
  },
  {
   "cell_type": "code",
   "execution_count": 4,
   "metadata": {},
   "outputs": [
    {
     "data": {
      "text/plain": [
       "'C:\\\\Users\\\\AI\\\\Auto_Farming'"
      ]
     },
     "execution_count": 4,
     "metadata": {},
     "output_type": "execute_result"
    }
   ],
   "source": [
    "import os \n",
    "os.getcwd()"
   ]
  },
  {
   "cell_type": "code",
   "execution_count": null,
   "metadata": {},
   "outputs": [],
   "source": [
    "# 학습 모듈이 있는 dir로 이동\n",
    "%cd yolov5"
   ]
  },
  {
   "cell_type": "code",
   "execution_count": 100,
   "metadata": {
    "colab": {
     "base_uri": "https://localhost:8080/"
    },
    "executionInfo": {
     "elapsed": 38658,
     "status": "ok",
     "timestamp": 1667287603459,
     "user": {
      "displayName": "YunGyu Choi",
      "userId": "06416918229746608709"
     },
     "user_tz": -540
    },
    "id": "4yDyIl9kEVTh",
    "outputId": "d5c31cf1-0729-4f99-ed3c-2aaf6aa501ba"
   },
   "outputs": [
    {
     "name": "stdout",
     "output_type": "stream",
     "text": [
      "\u001b[34m\u001b[1mtrain: \u001b[0mweights=/content/drive/MyDrive/Auto_Farming/yolov5/runs/train/insam_yolov5s_results/weights/best.pt, cfg=./models/yolov5s.yaml, data=/content/dataset/data.yaml, hyp=data/hyps/hyp.scratch-low.yaml, epochs=1, batch_size=128, imgsz=448, rect=False, resume=False, nosave=False, noval=False, noautoanchor=False, noplots=False, evolve=None, bucket=, cache=None, image_weights=False, device=, multi_scale=False, single_cls=False, optimizer=SGD, sync_bn=False, workers=8, project=runs/train, name=insam_yolov5s_results, exist_ok=False, quad=False, cos_lr=False, label_smoothing=0.0, patience=100, freeze=[0], save_period=-1, seed=0, local_rank=-1, entity=None, upload_dataset=False, bbox_interval=-1, artifact_alias=latest\n",
      "\u001b[34m\u001b[1mgithub: \u001b[0mup to date with https://github.com/ultralytics/yolov5 ✅\n",
      "YOLOv5 🚀 v6.2-219-ga83d2a5 Python-3.7.15 torch-1.12.1+cu113 CUDA:0 (Tesla T4, 15110MiB)\n",
      "\n",
      "\u001b[34m\u001b[1mhyperparameters: \u001b[0mlr0=0.01, lrf=0.01, momentum=0.937, weight_decay=0.0005, warmup_epochs=3.0, warmup_momentum=0.8, warmup_bias_lr=0.1, box=0.05, cls=0.5, cls_pw=1.0, obj=1.0, obj_pw=1.0, iou_t=0.2, anchor_t=4.0, fl_gamma=0.0, hsv_h=0.015, hsv_s=0.7, hsv_v=0.4, degrees=0.0, translate=0.1, scale=0.5, shear=0.0, perspective=0.0, flipud=0.0, fliplr=0.5, mosaic=1.0, mixup=0.0, copy_paste=0.0\n",
      "\u001b[34m\u001b[1mClearML: \u001b[0mrun 'pip install clearml' to automatically track, visualize and remotely train YOLOv5 🚀 in ClearML\n",
      "\u001b[34m\u001b[1mComet: \u001b[0mrun 'pip install comet_ml' to automatically track and visualize YOLOv5 🚀 runs in Comet\n",
      "\u001b[34m\u001b[1mTensorBoard: \u001b[0mStart with 'tensorboard --logdir runs/train', view at http://localhost:6006/\n",
      "Overriding model.yaml nc=80 with nc=2\n",
      "\n",
      "                 from  n    params  module                                  arguments                     \n",
      "  0                -1  1      3520  models.common.Conv                      [3, 32, 6, 2, 2]              \n",
      "  1                -1  1     18560  models.common.Conv                      [32, 64, 3, 2]                \n",
      "  2                -1  1     18816  models.common.C3                        [64, 64, 1]                   \n",
      "  3                -1  1     73984  models.common.Conv                      [64, 128, 3, 2]               \n",
      "  4                -1  2    115712  models.common.C3                        [128, 128, 2]                 \n",
      "  5                -1  1    295424  models.common.Conv                      [128, 256, 3, 2]              \n",
      "  6                -1  3    625152  models.common.C3                        [256, 256, 3]                 \n",
      "  7                -1  1   1180672  models.common.Conv                      [256, 512, 3, 2]              \n",
      "  8                -1  1   1182720  models.common.C3                        [512, 512, 1]                 \n",
      "  9                -1  1    656896  models.common.SPPF                      [512, 512, 5]                 \n",
      " 10                -1  1    131584  models.common.Conv                      [512, 256, 1, 1]              \n",
      " 11                -1  1         0  torch.nn.modules.upsampling.Upsample    [None, 2, 'nearest']          \n",
      " 12           [-1, 6]  1         0  models.common.Concat                    [1]                           \n",
      " 13                -1  1    361984  models.common.C3                        [512, 256, 1, False]          \n",
      " 14                -1  1     33024  models.common.Conv                      [256, 128, 1, 1]              \n",
      " 15                -1  1         0  torch.nn.modules.upsampling.Upsample    [None, 2, 'nearest']          \n",
      " 16           [-1, 4]  1         0  models.common.Concat                    [1]                           \n",
      " 17                -1  1     90880  models.common.C3                        [256, 128, 1, False]          \n",
      " 18                -1  1    147712  models.common.Conv                      [128, 128, 3, 2]              \n",
      " 19          [-1, 14]  1         0  models.common.Concat                    [1]                           \n",
      " 20                -1  1    296448  models.common.C3                        [256, 256, 1, False]          \n",
      " 21                -1  1    590336  models.common.Conv                      [256, 256, 3, 2]              \n",
      " 22          [-1, 10]  1         0  models.common.Concat                    [1]                           \n",
      " 23                -1  1   1182720  models.common.C3                        [512, 512, 1, False]          \n",
      " 24      [17, 20, 23]  1     18879  models.yolo.Detect                      [2, [[10, 13, 16, 30, 33, 23], [30, 61, 62, 45, 59, 119], [116, 90, 156, 198, 373, 326]], [128, 256, 512]]\n",
      "YOLOv5s summary: 214 layers, 7025023 parameters, 7025023 gradients, 16.0 GFLOPs\n",
      "\n",
      "Transferred 348/349 items from /content/drive/MyDrive/Auto_Farming/yolov5/runs/train/insam_yolov5s_results/weights/best.pt\n",
      "\u001b[34m\u001b[1mAMP: \u001b[0mchecks passed ✅\n",
      "\u001b[34m\u001b[1moptimizer:\u001b[0m SGD(lr=0.01) with parameter groups 57 weight(decay=0.0), 60 weight(decay=0.001), 60 bias\n",
      "\u001b[34m\u001b[1malbumentations: \u001b[0mBlur(p=0.01, blur_limit=(3, 7)), MedianBlur(p=0.01, blur_limit=(3, 7)), ToGray(p=0.01), CLAHE(p=0.01, clip_limit=(1, 4.0), tile_grid_size=(8, 8))\n",
      "\u001b[34m\u001b[1mtrain: \u001b[0mScanning '/content/dataset/train.cache' images and labels... 92 found, 0 missing, 0 empty, 0 corrupt: 100% 92/92 [00:00<?, ?it/s]\n",
      "\u001b[34m\u001b[1mval: \u001b[0mScanning '/content/dataset/val.cache' images and labels... 9 found, 0 missing, 0 empty, 0 corrupt: 100% 9/9 [00:00<?, ?it/s]\n",
      "\n",
      "\u001b[34m\u001b[1mAutoAnchor: \u001b[0m2.87 anchors/target, 0.988 Best Possible Recall (BPR). Current anchors are a good fit to dataset ✅\n",
      "Plotting labels to runs/train/insam_yolov5s_results2/labels.jpg... \n",
      "Image sizes 448 train, 448 val\n",
      "Using 2 dataloader workers\n",
      "Logging results to \u001b[1mruns/train/insam_yolov5s_results2\u001b[0m\n",
      "Starting training for 1 epochs...\n",
      "\n",
      "      Epoch    GPU_mem   box_loss   obj_loss   cls_loss  Instances       Size\n",
      "        0/0      10.1G     0.0364    0.05312   0.001744       2281        448: 100% 1/1 [00:05<00:00,  5.05s/it]\n",
      "/usr/local/lib/python3.7/dist-packages/torch/optim/lr_scheduler.py:136: UserWarning: Detected call of `lr_scheduler.step()` before `optimizer.step()`. In PyTorch 1.1.0 and later, you should call them in the opposite order: `optimizer.step()` before `lr_scheduler.step()`.  Failure to do this will result in PyTorch skipping the first value of the learning rate schedule. See more details at https://pytorch.org/docs/stable/optim.html#how-to-adjust-learning-rate\n",
      "  \"https://pytorch.org/docs/stable/optim.html#how-to-adjust-learning-rate\", UserWarning)\n",
      "                 Class     Images  Instances          P          R      mAP50   mAP50-95: 100% 1/1 [00:00<00:00,  4.05it/s]\n",
      "                   all          9        151      0.949      0.966      0.977      0.613\n",
      "\n",
      "1 epochs completed in 0.002 hours.\n",
      "Optimizer stripped from runs/train/insam_yolov5s_results2/weights/last.pt, 14.3MB\n",
      "Optimizer stripped from runs/train/insam_yolov5s_results2/weights/best.pt, 14.3MB\n",
      "\n",
      "Validating runs/train/insam_yolov5s_results2/weights/best.pt...\n",
      "Fusing layers... \n",
      "YOLOv5s summary: 157 layers, 7015519 parameters, 0 gradients, 15.8 GFLOPs\n",
      "                 Class     Images  Instances          P          R      mAP50   mAP50-95: 100% 1/1 [00:00<00:00,  7.26it/s]\n",
      "                   all          9        151      0.949      0.965      0.977      0.615\n",
      "               Ginseng          9         76      0.912      0.957      0.972      0.655\n",
      "                  head          9         75      0.986      0.973      0.982      0.574\n",
      "Results saved to \u001b[1mruns/train/insam_yolov5s_results2\u001b[0m\n"
     ]
    }
   ],
   "source": [
    "# 학습 모듈 실행\n",
    "\n",
    "#경고 무시\n",
    "import warnings\n",
    "warnings.filterwarnings(\"ignore\")\n",
    "\n",
    "\n",
    "train = 'train.py' # 사용할 파이썬 파일\n",
    "data = '/content/drive/MyDrive/Auto_Farming/dataset/data.yaml' # 사용할 데이터를 적어둔 yaml file\n",
    "cfg = './models/yolov5s.yaml' # 사용할 모델 구조 (x>l>n>m>s)\n",
    "weights = '/content/drive/MyDrive/Auto_Farming/yolov5/runs/train/insam_yolov5s_results/weights/best.pt' # 사용할 가중치\n",
    "name = 'insam_yolov5s_results' # 학습 결과를 저장할 폴더 이름\n",
    "\n",
    "!python {train} --img 448 --batch 128 --epochs 1000 --data {data} --cfg {cfg} --weights {weights} --name {name}"
   ]
  },
  {
   "cell_type": "markdown",
   "metadata": {
    "id": "1z4Z1DLkHrMI"
   },
   "source": [
    "## 학습 결과 해석\n",
    "- gpu_mem : 사용한 그래픽카드 메모리\n",
    "- box_loss : 영역추정을 얼마나 잘 했는지\n",
    "- obj_loss : 객체탐지를 얼마나 잘 했는지 \n",
    "- mAP50 : 영역안 타겟 추측 확률이 50%이하인 것의 정확도?\n",
    "- mAP50-95 : 영역 안 타겟의 추측 확률이 50~95 사이인 것들의 정확도?"
   ]
  },
  {
   "cell_type": "markdown",
   "metadata": {
    "id": "u6dRdtFSIF-g"
   },
   "source": [
    "# 평가"
   ]
  },
  {
   "cell_type": "code",
   "execution_count": 108,
   "metadata": {
    "colab": {
     "base_uri": "https://localhost:8080/",
     "height": 465
    },
    "executionInfo": {
     "elapsed": 6,
     "status": "ok",
     "timestamp": 1667287683840,
     "user": {
      "displayName": "YunGyu Choi",
      "userId": "06416918229746608709"
     },
     "user_tz": -540
    },
    "id": "eAJoimxRBxoP",
    "outputId": "00b77a00-23fc-4ee3-d294-ddae8f8fb13b"
   },
   "outputs": [
    {
     "data": {
      "image/jpeg": "[encoded data removed]",
      "text/plain": [
       "<IPython.core.display.Image object>"
      ]
     },
     "execution_count": 108,
     "metadata": {},
     "output_type": "execute_result"
    }
   ],
   "source": [
    "from IPython.display import Image\n",
    "test_img = test_img_list[5]\n",
    "Image(test_img)"
   ]
  },
  {
   "cell_type": "code",
   "execution_count": 112,
   "metadata": {
    "executionInfo": {
     "elapsed": 7609,
     "status": "ok",
     "timestamp": 1667288605990,
     "user": {
      "displayName": "YunGyu Choi",
      "userId": "06416918229746608709"
     },
     "user_tz": -540
    },
    "id": "3vIV9gJpB2d0"
   },
   "outputs": [],
   "source": [
    "# 실행의 결과를 변수에 담음\n",
    "# 사용할 파이썬\n",
    "python_d = 'detect.py'\n",
    "# 사용할 가중치\n",
    "weights = '/content/drive/MyDrive/Auto_Farming/yolov5/runs/train/insam_yolov5s_results/weights/best.pt'\n",
    "# conf : confidence(추정 영역 내 타겟이 있을 확률 / 컨피던스가 몇 이상인 것을 표시할지)\n",
    "# source : 판별에 사용할 소스\n",
    "rs = !python {python_d} --weights {weights} --img 448 --conf 0.4 --source \"{test_img}\""
   ]
  },
  {
   "cell_type": "code",
   "execution_count": 122,
   "metadata": {
    "colab": {
     "base_uri": "https://localhost:8080/"
    },
    "executionInfo": {
     "elapsed": 644,
     "status": "ok",
     "timestamp": 1667291209969,
     "user": {
      "displayName": "YunGyu Choi",
      "userId": "06416918229746608709"
     },
     "user_tz": -540
    },
    "id": "bJ2DMU77B4gV",
    "outputId": "fc65c630-4254-4264-f176-2bd5bd2ea247"
   },
   "outputs": [
    {
     "data": {
      "text/plain": [
       "[\"\\x1b[34m\\x1b[1mdetect: \\x1b[0mweights=['/content/drive/MyDrive/Auto_Farming/yolov5/runs/train/insam_yolov5s_results/weights/best.pt'], source=/content/drive/MyDrive/Auto_Farming/dataset/test/images/KakaoTalk_20221031_144727497_jpg.rf.2947b6e0b42def47cb959dcc4f6e7ffb.jpg, data=data/coco128.yaml, imgsz=[448, 448], conf_thres=0.4, iou_thres=0.45, max_det=1000, device=, view_img=False, save_txt=False, save_conf=False, save_crop=False, nosave=False, classes=None, agnostic_nms=False, augment=False, visualize=False, update=False, project=runs/detect, name=exp, exist_ok=False, line_thickness=3, hide_labels=False, hide_conf=False, half=False, dnn=False, vid_stride=1\",\n",
       " 'YOLOv5 🚀 v6.2-219-ga83d2a5 Python-3.7.15 torch-1.12.1+cu113 CUDA:0 (Tesla T4, 15110MiB)',\n",
       " '',\n",
       " 'Fusing layers... ',\n",
       " 'YOLOv5s summary: 157 layers, 7015519 parameters, 0 gradients, 15.8 GFLOPs',\n",
       " 'image 1/1 /content/drive/MyDrive/Auto_Farming/dataset/test/images/KakaoTalk_20221031_144727497_jpg.rf.2947b6e0b42def47cb959dcc4f6e7ffb.jpg: 448x448 3 Ginsengs, 3 heads, 9.8ms',\n",
       " 'Speed: 0.4ms pre-process, 9.8ms inference, 1.4ms NMS per image at shape (1, 3, 448, 448)',\n",
       " 'Results saved to \\x1b[1mruns/detect/exp3\\x1b[0m']"
      ]
     },
     "execution_count": 122,
     "metadata": {},
     "output_type": "execute_result"
    }
   ],
   "source": [
    "rs"
   ]
  },
  {
   "cell_type": "markdown",
   "metadata": {
    "id": "9qu4W2hRJqz9"
   },
   "source": [
    "# 웹캠 연결"
   ]
  },
  {
   "cell_type": "code",
   "execution_count": null,
   "metadata": {
    "id": "SulH6LrTTM7r"
   },
   "outputs": [],
   "source": [
    "!python detect.py --weight ./runs/train/insam_yolov5s_results/weights/best.pt --source 1"
   ]
  }
 ],
 "metadata": {
  "accelerator": "GPU",
  "colab": {
   "provenance": []
  },
  "gpuClass": "standard",
  "kernelspec": {
   "display_name": "base",
   "language": "python",
   "name": "python3"
  },
  "language_info": {
   "codemirror_mode": {
    "name": "ipython",
    "version": 3
   },
   "file_extension": ".py",
   "mimetype": "text/x-python",
   "name": "python",
   "nbconvert_exporter": "python",
   "pygments_lexer": "ipython3",
   "version": "3.9.12"
  },
  "toc": {
   "base_numbering": 1,
   "nav_menu": {},
   "number_sections": true,
   "sideBar": true,
   "skip_h1_title": false,
   "title_cell": "Table of Contents",
   "title_sidebar": "Contents",
   "toc_cell": false,
   "toc_position": {},
   "toc_section_display": true,
   "toc_window_display": false
  },
  "vscode": {
   "interpreter": {
    "hash": "3dedc7685735bb014bff29989eebc9a8b8f0ba3f7269dd9d313c73ad8e4a351c"
   }
  }
 },
 "nbformat": 4,
 "nbformat_minor": 1
}
